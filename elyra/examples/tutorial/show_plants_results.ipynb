{
 "cells": [
  {
   "cell_type": "markdown",
   "id": "aacbce8d-bf06-4072-9d2a-bdda5b12cf89",
   "metadata": {
    "papermill": {
     "duration": 0.005651,
     "end_time": "2023-11-15T11:45:17.157308",
     "exception": false,
     "start_time": "2023-11-15T11:45:17.151657",
     "status": "completed"
    },
    "tags": []
   },
   "source": [
    "# Import libraries"
   ]
  },
  {
   "cell_type": "code",
   "execution_count": null,
   "id": "2a72db97-e166-4194-b437-5824673cb773",
   "metadata": {
    "execution": {
     "iopub.execute_input": "2023-11-15T11:45:17.187724Z",
     "iopub.status.busy": "2023-11-15T11:45:17.177696Z",
     "iopub.status.idle": "2023-11-15T11:45:17.202561Z",
     "shell.execute_reply": "2023-11-15T11:45:17.201933Z"
    },
    "papermill": {
     "duration": 0.039569,
     "end_time": "2023-11-15T11:45:17.202944",
     "exception": false,
     "start_time": "2023-11-15T11:45:17.163375",
     "status": "completed"
    },
    "tags": []
   },
   "outputs": [],
   "source": [
    "import os\n",
    "import base64"
   ]
  },
  {
   "cell_type": "markdown",
   "id": "35d2df86-c1c3-4207-b26f-23d475d4c68f",
   "metadata": {},
   "source": [
    "# Read enviroment variables"
   ]
  },
  {
   "cell_type": "code",
   "execution_count": null,
   "id": "401778c2-b920-4a41-8168-5b77bfa9ffd2",
   "metadata": {},
   "outputs": [],
   "source": [
    "input_file_path = os.path.join('output', 'base64', os.environ.get('INPUT'))\n",
    "output_dir_path = os.path.join('output', 'data')\n",
    "output_file_path = os.path.join(output_dir_path, os.environ.get('OUTPUT'))"
   ]
  },
  {
   "cell_type": "markdown",
   "id": "b6d3e4b4-817b-40c7-8ecd-d851da9fb5e5",
   "metadata": {},
   "source": [
    "# Read Base64 file"
   ]
  },
  {
   "cell_type": "code",
   "execution_count": null,
   "id": "0bcc80f0-c7ee-40df-b9af-472b1ecc72e5",
   "metadata": {},
   "outputs": [],
   "source": [
    "os.makedirs(output_dir_path, exist_ok=True)\n",
    "\n",
    "with open(input_file_path, 'r') as file:\n",
    "    base64_data = file.read()"
   ]
  },
  {
   "cell_type": "code",
   "execution_count": null,
   "id": "272253ed-5ba3-49d1-8cbc-d8315108dac1",
   "metadata": {},
   "outputs": [],
   "source": [
    "# Convert Base64 "
   ]
  },
  {
   "cell_type": "code",
   "execution_count": null,
   "id": "2859b9d2-c700-4155-9c30-d4521087d235",
   "metadata": {
    "execution": {
     "iopub.execute_input": "2023-11-15T11:45:17.187724Z",
     "iopub.status.busy": "2023-11-15T11:45:17.177696Z",
     "iopub.status.idle": "2023-11-15T11:45:17.202561Z",
     "shell.execute_reply": "2023-11-15T11:45:17.201933Z"
    },
    "papermill": {
     "duration": 0.039569,
     "end_time": "2023-11-15T11:45:17.202944",
     "exception": false,
     "start_time": "2023-11-15T11:45:17.163375",
     "status": "completed"
    },
    "tags": []
   },
   "outputs": [],
   "source": [
    "\n",
    "\n",
    "\n",
    "\n",
    "decoded_data = base64.b64decode(base64_data)\n",
    "\n",
    "text_data = decoded_data.decode('utf-8')\n",
    "\n",
    "with open(output_file_path, 'w') as file:\n",
    "    file.write(text_data)\n",
    "\n",
    "print(text_data)"
   ]
  }
 ],
 "metadata": {
  "kernelspec": {
   "display_name": "Python 3 (ipykernel)",
   "language": "python",
   "name": "python3"
  },
  "language_info": {
   "codemirror_mode": {
    "name": "ipython",
    "version": 3
   },
   "file_extension": ".py",
   "mimetype": "text/x-python",
   "name": "python",
   "nbconvert_exporter": "python",
   "pygments_lexer": "ipython3",
   "version": "3.10.6"
  },
  "papermill": {
   "default_parameters": {},
   "duration": 4.04413,
   "end_time": "2023-11-15T11:45:20.019501",
   "environment_variables": {},
   "exception": null,
   "input_path": "/home/jovyan/presentacion/ai4-compose/elyra/examples/Bratislava-2023/show_plants_results.ipynb",
   "output_path": "/home/jovyan/presentacion/ai4-compose/elyra/examples/Bratislava-2023/show_plants_results.ipynb",
   "parameters": {},
   "start_time": "2023-11-15T11:45:15.975371",
   "version": "2.3.4"
  }
 },
 "nbformat": 4,
 "nbformat_minor": 5
}
