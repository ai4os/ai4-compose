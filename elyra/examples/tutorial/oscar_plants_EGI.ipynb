{
 "cells": [
  {
   "cell_type": "markdown",
   "id": "4a582302-1262-4748-9759-3c7dfd9f048f",
   "metadata": {
    "papermill": {
     "duration": 0.009126,
     "end_time": "2023-11-15T11:44:43.962167",
     "exception": false,
     "start_time": "2023-11-15T11:44:43.953041",
     "status": "completed"
    },
    "tags": []
   },
   "source": [
    "# Import libraries"
   ]
  },
  {
   "cell_type": "code",
   "execution_count": null,
   "id": "94928e52-bf2a-4e48-b8ba-397f32c5984c",
   "metadata": {
    "execution": {
     "iopub.execute_input": "2023-11-15T11:44:43.995214Z",
     "iopub.status.busy": "2023-11-15T11:44:43.988206Z",
     "iopub.status.idle": "2023-11-15T11:44:52.466307Z",
     "shell.execute_reply": "2023-11-15T11:44:52.465708Z"
    },
    "papermill": {
     "duration": 8.496489,
     "end_time": "2023-11-15T11:44:52.466712",
     "exception": false,
     "start_time": "2023-11-15T11:44:43.970223",
     "status": "completed"
    },
    "tags": []
   },
   "outputs": [],
   "source": [
    "import os\n",
    "import json\n",
    "import sys\n",
    "!{sys.executable} -m pip install oscar-python\n",
    "!pip install liboidcagent\n",
    "from oscar_python.client import Client"
   ]
  },
  {
   "cell_type": "markdown",
   "id": "b93f68c6-6fc2-48a0-a7ee-f3adce4e642a",
   "metadata": {
    "papermill": {
     "duration": 0.008357,
     "end_time": "2023-11-15T11:44:52.484132",
     "exception": false,
     "start_time": "2023-11-15T11:44:52.475775",
     "status": "completed"
    },
    "tags": []
   },
   "source": [
    "# GET TOKEN FROM EGI"
   ]
  },
  {
   "cell_type": "code",
   "execution_count": null,
   "id": "3f076195-2f65-4375-9e90-db5c8e437e08",
   "metadata": {
    "execution": {
     "iopub.execute_input": "2023-11-15T11:44:52.510624Z",
     "iopub.status.busy": "2023-11-15T11:44:52.509942Z",
     "iopub.status.idle": "2023-11-15T11:44:52.515612Z",
     "shell.execute_reply": "2023-11-15T11:44:52.514900Z"
    },
    "papermill": {
     "duration": 0.023543,
     "end_time": "2023-11-15T11:44:52.515907",
     "exception": false,
     "start_time": "2023-11-15T11:44:52.492364",
     "status": "completed"
    },
    "tags": []
   },
   "outputs": [],
   "source": [
    "with open(\"/var/run/secrets/egi.eu/access_token\") as f:\n",
    "    access_token = f.read()"
   ]
  },
  {
   "cell_type": "markdown",
   "id": "a25afac0-2242-49c4-af8d-0bcf7a74a89a",
   "metadata": {
    "papermill": {
     "duration": 0.009011,
     "end_time": "2023-11-15T11:44:52.533627",
     "exception": false,
     "start_time": "2023-11-15T11:44:52.524616",
     "status": "completed"
    },
    "tags": []
   },
   "source": [
    "# Create OSCAR client with EGI TOKEN¶"
   ]
  },
  {
   "cell_type": "code",
   "execution_count": null,
   "id": "fa2f973f-7321-487b-9484-4e5392bb7b75",
   "metadata": {
    "execution": {
     "iopub.execute_input": "2023-11-15T11:44:52.558377Z",
     "iopub.status.busy": "2023-11-15T11:44:52.557677Z",
     "iopub.status.idle": "2023-11-15T11:44:52.562518Z",
     "shell.execute_reply": "2023-11-15T11:44:52.562069Z"
    },
    "papermill": {
     "duration": 0.020776,
     "end_time": "2023-11-15T11:44:52.562803",
     "exception": false,
     "start_time": "2023-11-15T11:44:52.542027",
     "status": "completed"
    },
    "tags": []
   },
   "outputs": [],
   "source": [
    "options_oidc = {'cluster_id':'oscar-egi-cloud',\n",
    "            'endpoint':'https://inference.cloud.ai4eosc.eu',\n",
    "            'oidc_token': access_token,\n",
    "            'ssl':'True'}\n",
    "\n",
    "oscar_client = Client(options=options_oidc)"
   ]
  },
  {
   "cell_type": "markdown",
   "id": "5394de5b-209d-48d6-8a99-5b52fae82f1d",
   "metadata": {
    "papermill": {
     "duration": 0.007903,
     "end_time": "2023-11-15T11:44:52.578429",
     "exception": false,
     "start_time": "2023-11-15T11:44:52.570526",
     "status": "completed"
    },
    "tags": []
   },
   "source": [
    "# Read text base 64 input"
   ]
  },
  {
   "cell_type": "code",
   "execution_count": null,
   "id": "99b54362-21ee-48f7-81bf-68c7737e5198",
   "metadata": {
    "papermill": {
     "duration": 0.019453,
     "end_time": "2023-11-15T11:44:52.605788",
     "exception": false,
     "start_time": "2023-11-15T11:44:52.586335",
     "status": "completed"
    },
    "tags": []
   },
   "outputs": [],
   "source": [
    "# Retrieve the environment variables\n",
    "input_path = os.environ.get('INPUT')\n",
    "output_path = os.environ.get('OUTPUT')\n",
    "output_file = os.path.join(output_path, \"output_2.txt\")\n",
    "\n",
    "# Create the 'images' directory if it doesn't exist\n",
    "os.makedirs(output_path, exist_ok=True)"
   ]
  },
  {
   "cell_type": "markdown",
   "id": "a54b3732-e2d0-4c66-a089-32328c212207",
   "metadata": {
    "papermill": {
     "duration": 0.007468,
     "end_time": "2023-11-15T11:44:52.622533",
     "exception": false,
     "start_time": "2023-11-15T11:44:52.615065",
     "status": "completed"
    },
    "tags": []
   },
   "source": [
    "# Use the service"
   ]
  },
  {
   "cell_type": "code",
   "execution_count": null,
   "id": "ce42b45e-90e0-4c97-a12a-50486c37ff73",
   "metadata": {
    "execution": {
     "iopub.execute_input": "2023-11-15T11:44:52.663451Z",
     "iopub.status.busy": "2023-11-15T11:44:52.662701Z",
     "iopub.status.idle": "2023-11-15T11:45:15.621299Z",
     "shell.execute_reply": "2023-11-15T11:45:15.620479Z"
    },
    "papermill": {
     "duration": 22.986534,
     "end_time": "2023-11-15T11:45:15.621645",
     "exception": false,
     "start_time": "2023-11-15T11:44:52.635111",
     "status": "completed"
    },
    "tags": []
   },
   "outputs": [],
   "source": [
    "response = oscar_client.run_service(\"plant-classification\", input=input_path, output=output_file)\n",
    "if response.status_code == 200:\n",
    "    # Process grayify service response\n",
    "    data = response.text\n",
    "    # No need to create a new directory, as output_file already includes the correct path\n",
    "    # os.makedirs('./output/b64', exist_ok=True)  # Esta línea ya no es necesaria\n",
    "    # Use the output_file variable directly\n",
    "    print(data)\n",
    "    with open(output_file, 'w') as f:\n",
    "        f.write(data)\n",
    "else:\n",
    "    print(f\"Error in the execution of 'plant-classification' service: {response.status_code} {response.text}\")"
   ]
  }
 ],
 "metadata": {
  "kernelspec": {
   "display_name": "Python 3 (ipykernel)",
   "language": "python",
   "name": "python3"
  },
  "language_info": {
   "codemirror_mode": {
    "name": "ipython",
    "version": 3
   },
   "file_extension": ".py",
   "mimetype": "text/x-python",
   "name": "python",
   "nbconvert_exporter": "python",
   "pygments_lexer": "ipython3",
   "version": "3.10.6"
  },
  "papermill": {
   "default_parameters": {},
   "duration": 33.213387,
   "end_time": "2023-11-15T11:45:15.955165",
   "environment_variables": {},
   "exception": null,
   "input_path": "/home/jovyan/presentacion/ai4-compose/elyra/examples/Bratislava-2023/oscar_plants.ipynb",
   "output_path": "/home/jovyan/presentacion/ai4-compose/elyra/examples/Bratislava-2023/oscar_plants.ipynb",
   "parameters": {},
   "start_time": "2023-11-15T11:44:42.741778",
   "version": "2.4.0"
  }
 },
 "nbformat": 4,
 "nbformat_minor": 5
}
