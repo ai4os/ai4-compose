{
 "cells": [
  {
   "cell_type": "markdown",
   "id": "4a582302-1262-4748-9759-3c7dfd9f048f",
   "metadata": {
    "papermill": {
     "duration": 0.008561,
     "end_time": "2024-02-29T17:42:25.624162",
     "exception": false,
     "start_time": "2024-02-29T17:42:25.615601",
     "status": "completed"
    },
    "tags": []
   },
   "source": [
    "# Import libraries"
   ]
  },
  {
   "cell_type": "code",
   "execution_count": null,
   "id": "825aa417-72aa-4cb5-89f1-b63adbaf4b43",
   "metadata": {
    "papermill": {
     "duration": 8.599039,
     "end_time": "2024-02-29T17:42:34.231979",
     "exception": false,
     "start_time": "2024-02-29T17:42:25.632940",
     "status": "completed"
    },
    "tags": []
   },
   "outputs": [],
   "source": [
    "import os\n",
    "import json\n",
    "import sys\n",
    "!{sys.executable} -m pip install oscar-python\n",
    "!pip install liboidcagent\n",
    "from oscar_python.client import Client"
   ]
  },
  {
   "cell_type": "markdown",
   "id": "04a1ee70-955b-4a79-a585-deb2015c66b8",
   "metadata": {
    "papermill": {
     "duration": 0.007746,
     "end_time": "2024-02-29T17:42:34.344507",
     "exception": false,
     "start_time": "2024-02-29T17:42:34.336761",
     "status": "completed"
    },
    "tags": []
   },
   "source": [
    "# Retrieve the environment variables"
   ]
  },
  {
   "cell_type": "code",
   "execution_count": null,
   "id": "5b0bbe7b-e289-461b-9810-a78215ae82fb",
   "metadata": {
    "papermill": {
     "duration": 0.021809,
     "end_time": "2024-02-29T17:42:34.375826",
     "exception": false,
     "start_time": "2024-02-29T17:42:34.354017",
     "status": "completed"
    },
    "tags": []
   },
   "outputs": [],
   "source": [
    "input_path = os.environ.get('INPUT')\n",
    "output_path = os.environ.get('OUTPUT')\n",
    "token_file_path = os.getenv('TOKEN_FILE_PATH')\n",
    "output_file = os.path.join(output_path, \"output.txt\")"
   ]
  },
  {
   "cell_type": "markdown",
   "id": "92b4dd0d-5545-47a0-94a2-2783635f8f88",
   "metadata": {
    "papermill": {
     "duration": 0.007661,
     "end_time": "2024-02-29T17:42:34.249069",
     "exception": false,
     "start_time": "2024-02-29T17:42:34.241408",
     "status": "completed"
    },
    "tags": []
   },
   "source": [
    "# GET TOKEN FROM EGI"
   ]
  },
  {
   "cell_type": "code",
   "execution_count": null,
   "id": "df2c6d7d-9efe-4182-b631-3514f51936f5",
   "metadata": {
    "papermill": {
     "duration": 0.02267,
     "end_time": "2024-02-29T17:42:34.280084",
     "exception": false,
     "start_time": "2024-02-29T17:42:34.257414",
     "status": "completed"
    },
    "tags": []
   },
   "outputs": [],
   "source": [
    "if token_file_path:\n",
    "    with open(token_file_path, 'r') as file:\n",
    "        credentials = json.load(file)\n",
    "        access_token = credentials['access_token']\n",
    "else:\n",
    "    print(\"Token file path environment variable not found. Please set TOKEN_FILE_PATH.\")\n",
    "    sys.exit(1)  # Exit if the token path is not set"
   ]
  },
  {
   "cell_type": "markdown",
   "id": "f4d0927b-3fef-4fab-b524-e6b5e179ea40",
   "metadata": {
    "papermill": {
     "duration": 0.008008,
     "end_time": "2024-02-29T17:42:34.296869",
     "exception": false,
     "start_time": "2024-02-29T17:42:34.288861",
     "status": "completed"
    },
    "tags": []
   },
   "source": [
    "# Create OSCAR client with EGI TOKEN"
   ]
  },
  {
   "cell_type": "code",
   "execution_count": null,
   "id": "48d99032-8b4e-444b-82cd-60165475a305",
   "metadata": {
    "papermill": {
     "duration": 0.023076,
     "end_time": "2024-02-29T17:42:34.327735",
     "exception": false,
     "start_time": "2024-02-29T17:42:34.304659",
     "status": "completed"
    },
    "tags": []
   },
   "outputs": [],
   "source": [
    "options_oidc = {'cluster_id':'oscar-egi-cloud',\n",
    "            'endpoint':'https://inference.cloud.ai4eosc.eu',\n",
    "            'oidc_token': access_token,\n",
    "            'ssl':'True'}\n",
    "\n",
    "oscar_client = Client(options=options_oidc)"
   ]
  },
  {
   "cell_type": "markdown",
   "id": "a54b3732-e2d0-4c66-a089-32328c212207",
   "metadata": {
    "papermill": {
     "duration": 0.009182,
     "end_time": "2024-02-29T17:42:34.393613",
     "exception": false,
     "start_time": "2024-02-29T17:42:34.384431",
     "status": "completed"
    },
    "tags": []
   },
   "source": [
    "# Use the service"
   ]
  },
  {
   "cell_type": "code",
   "execution_count": null,
   "id": "3dc66d31-e3fd-49f2-b659-5ac904625ca8",
   "metadata": {
    "papermill": {
     "duration": 0.696856,
     "end_time": "2024-02-29T17:42:35.097888",
     "exception": true,
     "start_time": "2024-02-29T17:42:34.401032",
     "status": "failed"
    },
    "tags": []
   },
   "outputs": [],
   "source": [
    "response = oscar_client.run_service(\"grayify\", input=input_path, output=output_file)\n",
    "if response.status_code == 200:\n",
    "    # Process grayify service response\n",
    "    data = response.text\n",
    "    # No need to create a new directory, as output_file already includes the correct path\n",
    "    # os.makedirs('./output/b64', exist_ok=True)  # Esta línea ya no es necesaria\n",
    "\n",
    "    # Use the output_file variable directly\n",
    "    with open(output_file, 'w') as f:\n",
    "        f.write(data)\n",
    "else:\n",
    "    print(f\"Error in the execution of 'grayify' service: {response.status_code} {response.text}\")"
   ]
  }
 ],
 "metadata": {
  "kernelspec": {
   "display_name": "Python 3 (ipykernel)",
   "language": "python",
   "name": "python3"
  },
  "language_info": {
   "codemirror_mode": {
    "name": "ipython",
    "version": 3
   },
   "file_extension": ".py",
   "mimetype": "text/x-python",
   "name": "python",
   "nbconvert_exporter": "python",
   "pygments_lexer": "ipython3",
   "version": "3.10.6"
  },
  "papermill": {
   "default_parameters": {},
   "duration": 10.924929,
   "end_time": "2024-02-29T17:42:35.434434",
   "environment_variables": {},
   "exception": true,
   "input_path": "/home/jovyan/tutorial/ai4-compose/elyra/examples/Bratislava-2023/oscar_grayify.ipynb",
   "output_path": "/home/jovyan/tutorial/ai4-compose/elyra/examples/Bratislava-2023/oscar_grayify.ipynb",
   "parameters": {},
   "start_time": "2024-02-29T17:42:24.509505",
   "version": "2.4.0"
  }
 },
 "nbformat": 4,
 "nbformat_minor": 5
}
