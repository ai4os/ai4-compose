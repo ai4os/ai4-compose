{
 "cells": [
  {
   "cell_type": "markdown",
   "id": "4a582302-1262-4748-9759-3c7dfd9f048f",
   "metadata": {
    "papermill": {
     "duration": 0.001498,
     "end_time": "2023-06-16T10:42:58.687114",
     "exception": false,
     "start_time": "2023-06-16T10:42:58.685616",
     "status": "completed"
    },
    "tags": []
   },
   "source": [
    "# Import libraries"
   ]
  },
  {
   "cell_type": "code",
   "execution_count": null,
   "id": "f2fd528e-5a2e-46c1-9317-116b1280ea75",
   "metadata": {
    "execution": {
     "iopub.execute_input": "2023-06-16T10:42:58.697282Z",
     "iopub.status.busy": "2023-06-16T10:42:58.697088Z",
     "iopub.status.idle": "2023-06-16T10:42:58.823418Z",
     "shell.execute_reply": "2023-06-16T10:42:58.822832Z"
    },
    "papermill": {
     "duration": 0.129778,
     "end_time": "2023-06-16T10:42:58.824627",
     "exception": false,
     "start_time": "2023-06-16T10:42:58.694849",
     "status": "completed"
    },
    "tags": []
   },
   "outputs": [],
   "source": [
    "import os\n",
    "import json\n",
    "import sys\n",
    "!{sys.executable} -m pip install oscar-python\n",
    "!pip install liboidcagent\n",
    "from oscar_python.client import Client"
   ]
  },
  {
   "cell_type": "markdown",
   "id": "92b4dd0d-5545-47a0-94a2-2783635f8f88",
   "metadata": {},
   "source": [
    "# GET TOKEN FROM EGI"
   ]
  },
  {
   "cell_type": "code",
   "execution_count": null,
   "id": "3984c5fd-06d6-4761-98ed-086aca4aaeb1",
   "metadata": {},
   "outputs": [],
   "source": [
    "with open(\"/var/run/secrets/egi.eu/access_token\") as f:\n",
    "    access_token = f.read()"
   ]
  },
  {
   "cell_type": "markdown",
   "id": "f4d0927b-3fef-4fab-b524-e6b5e179ea40",
   "metadata": {},
   "source": [
    "# Create OSCAR client with EGI TOKEN"
   ]
  },
  {
   "cell_type": "code",
   "execution_count": null,
   "id": "e979405f-bd76-4964-8fec-df395e5f763f",
   "metadata": {},
   "outputs": [],
   "source": [
    "options_oidc = {'cluster_id':'oscar-egi-cloud',\n",
    "            'endpoint':'https://inference.cloud.ai4eosc.eu',\n",
    "            'oidc_token': access_token,\n",
    "            'ssl':'True'}\n",
    "\n",
    "oscar_client = Client(options=options_oidc)"
   ]
  },
  {
   "cell_type": "markdown",
   "id": "1545289a-be7e-458a-9116-182e5832ce25",
   "metadata": {
    "papermill": {
     "duration": 0.00159,
     "end_time": "2023-06-16T10:42:58.827762",
     "exception": false,
     "start_time": "2023-06-16T10:42:58.826172",
     "status": "completed"
    },
    "tags": []
   },
   "source": [
    "# Read credentials"
   ]
  },
  {
   "cell_type": "raw",
   "id": "98edcbc7-d17a-456a-ba0b-1c4371616abb",
   "metadata": {
    "execution": {
     "iopub.execute_input": "2023-06-16T10:42:58.831086Z",
     "iopub.status.busy": "2023-06-16T10:42:58.830860Z",
     "iopub.status.idle": "2023-06-16T10:42:58.833971Z",
     "shell.execute_reply": "2023-06-16T10:42:58.833534Z"
    },
    "papermill": {
     "duration": 0.005998,
     "end_time": "2023-06-16T10:42:58.834921",
     "exception": false,
     "start_time": "2023-06-16T10:42:58.828923",
     "status": "completed"
    },
    "tags": []
   },
   "source": [
    "json_path = os.path.join(\"./credentials\", os.environ.get(\"JSON_NAME\") + \".json\")\n",
    "with open(json_path) as f:\n",
    "    credentials = json.load(f)"
   ]
  },
  {
   "cell_type": "markdown",
   "id": "1be05028-4ae7-4bbd-a1bc-8a5c3c6f2c07",
   "metadata": {
    "papermill": {
     "duration": 0.001269,
     "end_time": "2023-06-16T10:42:58.837642",
     "exception": false,
     "start_time": "2023-06-16T10:42:58.836373",
     "status": "completed"
    },
    "tags": []
   },
   "source": [
    "# Create OSCAR client with the credentials"
   ]
  },
  {
   "cell_type": "raw",
   "id": "eedc77ae-01c5-4854-966e-002c9427c582",
   "metadata": {
    "execution": {
     "iopub.execute_input": "2023-06-16T10:42:58.840810Z",
     "iopub.status.busy": "2023-06-16T10:42:58.840601Z",
     "iopub.status.idle": "2023-06-16T10:42:58.842902Z",
     "shell.execute_reply": "2023-06-16T10:42:58.842561Z"
    },
    "papermill": {
     "duration": 0.005005,
     "end_time": "2023-06-16T10:42:58.843807",
     "exception": false,
     "start_time": "2023-06-16T10:42:58.838802",
     "status": "completed"
    },
    "tags": []
   },
   "source": [
    "options_oidc = {'cluster_id': credentials['ID'],\n",
    "            'endpoint': credentials['ENDPOINT'],\n",
    "            'user': credentials['USER'],\n",
    "            'password': credentials['PASSWORD'],\n",
    "            'ssl': 'True'}\n",
    "\n",
    "oscar_client = Client(options = options_oidc)"
   ]
  },
  {
   "cell_type": "markdown",
   "id": "5394de5b-209d-48d6-8a99-5b52fae82f1d",
   "metadata": {
    "papermill": {
     "duration": 0.001276,
     "end_time": "2023-06-16T10:42:58.846433",
     "exception": false,
     "start_time": "2023-06-16T10:42:58.845157",
     "status": "completed"
    },
    "tags": []
   },
   "source": [
    "# Read text base 64 input"
   ]
  },
  {
   "cell_type": "code",
   "execution_count": null,
   "id": "dd579340-1e7b-45f6-b1af-a91318c4a740",
   "metadata": {
    "execution": {
     "iopub.execute_input": "2023-06-16T10:42:58.849563Z",
     "iopub.status.busy": "2023-06-16T10:42:58.849386Z",
     "iopub.status.idle": "2023-06-16T10:42:58.851985Z",
     "shell.execute_reply": "2023-06-16T10:42:58.851671Z"
    },
    "papermill": {
     "duration": 0.005233,
     "end_time": "2023-06-16T10:42:58.852906",
     "exception": false,
     "start_time": "2023-06-16T10:42:58.847673",
     "status": "completed"
    },
    "tags": []
   },
   "outputs": [],
   "source": [
    "image_name = os.environ.get(\"B64_INPUT\")\n",
    "output_file_name = os.getenv(\"DATA_OUTPUT\")\n",
    "output_file = f\"./data/{image_name.rsplit('.', 1)[0]}.txt\"\n",
    "\n",
    "with open(output_file, \"r\") as txt_file:\n",
    "    encoded_image = txt_file.read()"
   ]
  },
  {
   "cell_type": "markdown",
   "id": "9f10caa6-316a-45aa-8e9b-6a53a0a4dd58",
   "metadata": {
    "papermill": {
     "duration": 0.001241,
     "end_time": "2023-06-16T10:42:58.855497",
     "exception": false,
     "start_time": "2023-06-16T10:42:58.854256",
     "status": "completed"
    },
    "tags": []
   },
   "source": [
    "# Create oscar service: cowsay"
   ]
  },
  {
   "cell_type": "code",
   "execution_count": null,
   "id": "7539f07f-719d-47cb-b718-b9303af5b918",
   "metadata": {
    "execution": {
     "iopub.execute_input": "2023-06-16T10:42:58.859096Z",
     "iopub.status.busy": "2023-06-16T10:42:58.858939Z",
     "iopub.status.idle": "2023-06-16T10:42:58.962461Z",
     "shell.execute_reply": "2023-06-16T10:42:58.961585Z"
    },
    "papermill": {
     "duration": 0.109421,
     "end_time": "2023-06-16T10:42:58.966593",
     "exception": false,
     "start_time": "2023-06-16T10:42:58.857172",
     "status": "completed"
    },
    "tags": []
   },
   "outputs": [],
   "source": [
    "try:\n",
    "    oscar_client.create_service(\"grayify.yaml\")\n",
    "    print(\"Service created\")\n",
    "except Exception as ex:\n",
    "    print(\"Error creating service: \", ex)"
   ]
  },
  {
   "cell_type": "markdown",
   "id": "a54b3732-e2d0-4c66-a089-32328c212207",
   "metadata": {
    "papermill": {
     "duration": 0.003491,
     "end_time": "2023-06-16T10:42:58.972767",
     "exception": false,
     "start_time": "2023-06-16T10:42:58.969276",
     "status": "completed"
    },
    "tags": []
   },
   "source": [
    "# Use the service"
   ]
  },
  {
   "cell_type": "code",
   "execution_count": null,
   "id": "f6a26a09-76c6-4ded-ba8a-f9e66f4dda7f",
   "metadata": {
    "execution": {
     "iopub.execute_input": "2023-06-16T10:42:58.978640Z",
     "iopub.status.busy": "2023-06-16T10:42:58.978013Z",
     "iopub.status.idle": "2023-06-16T10:43:00.872477Z",
     "shell.execute_reply": "2023-06-16T10:43:00.871216Z"
    },
    "papermill": {
     "duration": 1.900336,
     "end_time": "2023-06-16T10:43:00.875404",
     "exception": false,
     "start_time": "2023-06-16T10:42:58.975068",
     "status": "completed"
    },
    "tags": []
   },
   "outputs": [],
   "source": [
    "response = oscar_client.run_service(\"grayify\", input=encoded_image)\n",
    "\n",
    "# Verify if response is complete\n",
    "if response.status_code == 200:\n",
    "    # Process grayify service response\n",
    "    data = response.text\n",
    "    #  print(\"data:\", data)\n",
    "    os.makedirs('./output/b64', exist_ok=True)\n",
    "\n",
    "    output_file_path = f\"./output/b64/{output_file_name}\"\n",
    "    with open(output_file_path, 'w') as f:\n",
    "        f.write(data)\n",
    "\n",
    "else:\n",
    "    print(f\"Error in the execution of 'grayify' service: {response.status_code} {response.text}\")"
   ]
  }
 ],
 "metadata": {
  "kernelspec": {
   "display_name": "Python 3 (ipykernel)",
   "language": "python",
   "name": "python3"
  },
  "language_info": {
   "codemirror_mode": {
    "name": "ipython",
    "version": 3
   },
   "file_extension": ".py",
   "mimetype": "text/x-python",
   "name": "python",
   "nbconvert_exporter": "python",
   "pygments_lexer": "ipython3",
   "version": "3.10.6"
  },
  "papermill": {
   "default_parameters": {},
   "duration": 3.027968,
   "end_time": "2023-06-16T10:43:01.096821",
   "environment_variables": {},
   "exception": null,
   "input_path": "/home/dieagra/Documents/ai4-compose1/elyra/examples/pipelines/grayify/oscar_grayify.ipynb",
   "output_path": "/home/dieagra/Documents/ai4-compose1/elyra/examples/pipelines/grayify/oscar_grayify.ipynb",
   "parameters": {},
   "start_time": "2023-06-16T10:42:58.068853",
   "version": "2.4.0"
  }
 },
 "nbformat": 4,
 "nbformat_minor": 5
}
