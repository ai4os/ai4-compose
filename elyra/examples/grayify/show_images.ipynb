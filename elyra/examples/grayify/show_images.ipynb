{
 "cells": [
  {
   "cell_type": "markdown",
   "id": "526a2412-c8a2-4da6-86be-236dba1dff98",
   "metadata": {},
   "source": [
    "# Import libraries"
   ]
  },
  {
   "cell_type": "code",
   "execution_count": null,
   "id": "2aa79c92-d028-4cd5-b486-76ea59838f6c",
   "metadata": {
    "execution": {
     "iopub.execute_input": "2023-06-16T10:43:01.900970Z",
     "iopub.status.busy": "2023-06-16T10:43:01.899981Z",
     "iopub.status.idle": "2023-06-16T10:43:02.167061Z",
     "shell.execute_reply": "2023-06-16T10:43:02.166483Z"
    },
    "papermill": {
     "duration": 0.275112,
     "end_time": "2023-06-16T10:43:02.168348",
     "exception": false,
     "start_time": "2023-06-16T10:43:01.893236",
     "status": "completed"
    },
    "tags": []
   },
   "outputs": [],
   "source": [
    "import os\n",
    "import base64\n",
    "import matplotlib.pyplot as plt\n",
    "import io\n",
    "from PIL import Image"
   ]
  },
  {
   "cell_type": "markdown",
   "id": "a21a70bb-75d9-4aac-a0e4-63a4122063db",
   "metadata": {
    "papermill": {
     "duration": 0.007425,
     "end_time": "2023-06-16T10:43:02.177453",
     "exception": false,
     "start_time": "2023-06-16T10:43:02.170028",
     "status": "completed"
    },
    "tags": []
   },
   "source": [
    "# Define path and name of the files"
   ]
  },
  {
   "cell_type": "code",
   "execution_count": null,
   "id": "91f7688d-8bd5-4f25-8e0e-f67b09a4b267",
   "metadata": {
    "execution": {
     "iopub.execute_input": "2023-06-16T10:43:02.181266Z",
     "iopub.status.busy": "2023-06-16T10:43:02.181016Z",
     "iopub.status.idle": "2023-06-16T10:43:02.184472Z",
     "shell.execute_reply": "2023-06-16T10:43:02.184048Z"
    },
    "papermill": {
     "duration": 0.006535,
     "end_time": "2023-06-16T10:43:02.185377",
     "exception": false,
     "start_time": "2023-06-16T10:43:02.178842",
     "status": "completed"
    },
    "tags": []
   },
   "outputs": [],
   "source": [
    "# Define the file paths\n",
    "input_file_path = os.path.join('output', 'b64', os.environ.get('FILE_INPUT'))\n",
    "output_dir_path = os.path.join('output', 'images')\n",
    "output_file_path = os.path.join(output_dir_path, os.environ.get('FILE_OUTPUT'))\n",
    "\n",
    "# Create the 'images' directory if it doesn't exist\n",
    "os.makedirs(output_dir_path, exist_ok=True)"
   ]
  },
  {
   "cell_type": "markdown",
   "id": "992e358c-af7d-4506-9724-37fa543ab92e",
   "metadata": {
    "papermill": {
     "duration": 0.001481,
     "end_time": "2023-06-16T10:43:02.188450",
     "exception": false,
     "start_time": "2023-06-16T10:43:02.186969",
     "status": "completed"
    },
    "tags": []
   },
   "source": [
    "# Read the file text"
   ]
  },
  {
   "cell_type": "code",
   "execution_count": null,
   "id": "f987338b-6822-48d4-9bfa-5f841d855a51",
   "metadata": {
    "execution": {
     "iopub.execute_input": "2023-06-16T10:43:02.192364Z",
     "iopub.status.busy": "2023-06-16T10:43:02.192225Z",
     "iopub.status.idle": "2023-06-16T10:43:02.194450Z",
     "shell.execute_reply": "2023-06-16T10:43:02.194151Z"
    },
    "papermill": {
     "duration": 0.005358,
     "end_time": "2023-06-16T10:43:02.195339",
     "exception": false,
     "start_time": "2023-06-16T10:43:02.189981",
     "status": "completed"
    },
    "tags": []
   },
   "outputs": [],
   "source": [
    "with open(input_file_path, 'r') as file:\n",
    "    lines = file.readlines()"
   ]
  },
  {
   "cell_type": "markdown",
   "id": "08b8b065-f200-4d64-874b-498ba4b6a2bf",
   "metadata": {
    "papermill": {
     "duration": 0.001524,
     "end_time": "2023-06-16T10:43:02.198417",
     "exception": false,
     "start_time": "2023-06-16T10:43:02.196893",
     "status": "completed"
    },
    "tags": []
   },
   "source": [
    "# Obtain the last lane that contains the base64 coded image"
   ]
  },
  {
   "cell_type": "code",
   "execution_count": null,
   "id": "2559a7f7-53f6-4593-8727-968c124107c8",
   "metadata": {
    "execution": {
     "iopub.execute_input": "2023-06-16T10:43:02.203055Z",
     "iopub.status.busy": "2023-06-16T10:43:02.202832Z",
     "iopub.status.idle": "2023-06-16T10:43:02.206070Z",
     "shell.execute_reply": "2023-06-16T10:43:02.205481Z"
    },
    "papermill": {
     "duration": 0.007598,
     "end_time": "2023-06-16T10:43:02.207466",
     "exception": false,
     "start_time": "2023-06-16T10:43:02.199868",
     "status": "completed"
    },
    "tags": []
   },
   "outputs": [],
   "source": [
    "image_data = lines[-1]"
   ]
  },
  {
   "cell_type": "markdown",
   "id": "be3fd5fd-a7d3-4cce-9646-d2a87e126c69",
   "metadata": {
    "papermill": {
     "duration": 0.001468,
     "end_time": "2023-06-16T10:43:02.211934",
     "exception": false,
     "start_time": "2023-06-16T10:43:02.210466",
     "status": "completed"
    },
    "tags": []
   },
   "source": [
    "# Decode image from base64"
   ]
  },
  {
   "cell_type": "code",
   "execution_count": null,
   "id": "64cac2af-1b90-4544-806f-9170b735c9ad",
   "metadata": {
    "execution": {
     "iopub.execute_input": "2023-06-16T10:43:02.215614Z",
     "iopub.status.busy": "2023-06-16T10:43:02.215458Z",
     "iopub.status.idle": "2023-06-16T10:43:02.217790Z",
     "shell.execute_reply": "2023-06-16T10:43:02.217428Z"
    },
    "papermill": {
     "duration": 0.005295,
     "end_time": "2023-06-16T10:43:02.218699",
     "exception": false,
     "start_time": "2023-06-16T10:43:02.213404",
     "status": "completed"
    },
    "tags": []
   },
   "outputs": [],
   "source": [
    "image_bytes = base64.b64decode(image_data)"
   ]
  },
  {
   "cell_type": "markdown",
   "id": "022433ea-c609-42a8-b784-96ba921a3786",
   "metadata": {
    "papermill": {
     "duration": 0.001532,
     "end_time": "2023-06-16T10:43:02.221767",
     "exception": false,
     "start_time": "2023-06-16T10:43:02.220235",
     "status": "completed"
    },
    "tags": []
   },
   "source": [
    "# Create a PIL image from bytes"
   ]
  },
  {
   "cell_type": "code",
   "execution_count": null,
   "id": "d212f399-7ab5-4a9e-a4ef-d53726455b86",
   "metadata": {
    "execution": {
     "iopub.execute_input": "2023-06-16T10:43:02.225224Z",
     "iopub.status.busy": "2023-06-16T10:43:02.225088Z",
     "iopub.status.idle": "2023-06-16T10:43:02.229547Z",
     "shell.execute_reply": "2023-06-16T10:43:02.229182Z"
    },
    "papermill": {
     "duration": 0.007226,
     "end_time": "2023-06-16T10:43:02.230437",
     "exception": false,
     "start_time": "2023-06-16T10:43:02.223211",
     "status": "completed"
    },
    "tags": []
   },
   "outputs": [],
   "source": [
    "image = Image.open(io.BytesIO(image_bytes))"
   ]
  },
  {
   "cell_type": "markdown",
   "id": "9a7e3794-1f50-4699-bafe-dedd60972f67",
   "metadata": {
    "papermill": {
     "duration": 0.001654,
     "end_time": "2023-06-16T10:43:02.233658",
     "exception": false,
     "start_time": "2023-06-16T10:43:02.232004",
     "status": "completed"
    },
    "tags": []
   },
   "source": [
    "# Save image as a png"
   ]
  },
  {
   "cell_type": "code",
   "execution_count": null,
   "id": "69ae163c-87c7-402b-95b2-3eee59ca6f9b",
   "metadata": {
    "execution": {
     "iopub.execute_input": "2023-06-16T10:43:02.237389Z",
     "iopub.status.busy": "2023-06-16T10:43:02.237195Z",
     "iopub.status.idle": "2023-06-16T10:43:02.248965Z",
     "shell.execute_reply": "2023-06-16T10:43:02.248578Z"
    },
    "papermill": {
     "duration": 0.014902,
     "end_time": "2023-06-16T10:43:02.250073",
     "exception": false,
     "start_time": "2023-06-16T10:43:02.235171",
     "status": "completed"
    },
    "tags": []
   },
   "outputs": [],
   "source": [
    "image.save(output_file_path, 'png')"
   ]
  },
  {
   "cell_type": "markdown",
   "id": "e8721f36-98d7-4779-8143-2529c99411d7",
   "metadata": {
    "papermill": {
     "duration": 0.00158,
     "end_time": "2023-06-16T10:43:02.253312",
     "exception": false,
     "start_time": "2023-06-16T10:43:02.251732",
     "status": "completed"
    },
    "tags": []
   },
   "source": [
    "# Display image"
   ]
  },
  {
   "cell_type": "code",
   "execution_count": null,
   "id": "21b0df0c-295e-417a-ba91-e525ef0e8889",
   "metadata": {
    "execution": {
     "iopub.execute_input": "2023-06-16T10:43:02.256973Z",
     "iopub.status.busy": "2023-06-16T10:43:02.256782Z",
     "iopub.status.idle": "2023-06-16T10:43:02.409016Z",
     "shell.execute_reply": "2023-06-16T10:43:02.408621Z"
    },
    "papermill": {
     "duration": 0.156794,
     "end_time": "2023-06-16T10:43:02.411542",
     "exception": false,
     "start_time": "2023-06-16T10:43:02.254748",
     "status": "completed"
    },
    "tags": []
   },
   "outputs": [],
   "source": [
    "plt.imshow(image)\n",
    "plt.show()"
   ]
  }
 ],
 "metadata": {
  "kernelspec": {
   "display_name": "Python 3 (ipykernel)",
   "language": "python",
   "name": "python3"
  },
  "language_info": {
   "codemirror_mode": {
    "name": "ipython",
    "version": 3
   },
   "file_extension": ".py",
   "mimetype": "text/x-python",
   "name": "python",
   "nbconvert_exporter": "python",
   "pygments_lexer": "ipython3",
   "version": "3.10.6"
  },
  "papermill": {
   "default_parameters": {},
   "duration": 1.521383,
   "end_time": "2023-06-16T10:43:02.636777",
   "environment_variables": {},
   "exception": null,
   "input_path": "/home/dieagra/Documents/ai4-compose1/elyra/examples/pipelines/grayify/show_images.ipynb",
   "output_path": "/home/dieagra/Documents/ai4-compose1/elyra/examples/pipelines/grayify/show_images.ipynb",
   "parameters": {},
   "start_time": "2023-06-16T10:43:01.115394",
   "version": "2.4.0"
  }
 },
 "nbformat": 4,
 "nbformat_minor": 5
}
