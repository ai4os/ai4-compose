{
 "cells": [
  {
   "cell_type": "markdown",
   "id": "d4ed2927-488c-4d36-974a-3fcc9893659e",
   "metadata": {
    "papermill": {
     "duration": 0.012027,
     "end_time": "2024-03-10T10:42:21.603419",
     "exception": false,
     "start_time": "2024-03-10T10:42:21.591392",
     "status": "completed"
    },
    "tags": []
   },
   "source": [
    "# Required imports"
   ]
  },
  {
   "cell_type": "code",
   "execution_count": 1,
   "id": "2fdf839b-0473-4027-be46-d24a04572678",
   "metadata": {
    "execution": {
     "iopub.execute_input": "2024-03-10T10:42:21.639823Z",
     "iopub.status.busy": "2024-03-10T10:42:21.634438Z",
     "iopub.status.idle": "2024-03-10T10:42:21.689992Z",
     "shell.execute_reply": "2024-03-10T10:42:21.689412Z"
    },
    "papermill": {
     "duration": 0.075687,
     "end_time": "2024-03-10T10:42:21.690384",
     "exception": false,
     "start_time": "2024-03-10T10:42:21.614697",
     "status": "completed"
    },
    "tags": []
   },
   "outputs": [],
   "source": [
    "import os\n",
    "import json\n",
    "import sys\n",
    "import base64\n",
    "import requests\n",
    "from IPython.display import Image, display"
   ]
  },
  {
   "cell_type": "markdown",
   "id": "86b296cf-07b4-4754-879a-b91c0a763ff7",
   "metadata": {
    "papermill": {
     "duration": 0.009992,
     "end_time": "2024-03-10T10:42:21.710929",
     "exception": false,
     "start_time": "2024-03-10T10:42:21.700937",
     "status": "completed"
    },
    "tags": []
   },
   "source": [
    "# Install the necessary packages"
   ]
  },
  {
   "cell_type": "code",
   "execution_count": 2,
   "id": "85bc950d-62e1-44ad-9d5f-eab3efa7ac84",
   "metadata": {
    "execution": {
     "iopub.execute_input": "2024-03-10T10:42:21.740084Z",
     "iopub.status.busy": "2024-03-10T10:42:21.739473Z",
     "iopub.status.idle": "2024-03-10T10:42:29.165138Z",
     "shell.execute_reply": "2024-03-10T10:42:29.164321Z"
    },
    "papermill": {
     "duration": 7.444553,
     "end_time": "2024-03-10T10:42:29.165470",
     "exception": false,
     "start_time": "2024-03-10T10:42:21.720917",
     "status": "completed"
    },
    "tags": []
   },
   "outputs": [
    {
     "name": "stdout",
     "output_type": "stream",
     "text": [
      "Requirement already satisfied: oscar-python in /opt/conda/lib/python3.10/site-packages (1.2.1)\r\n",
      "Requirement already satisfied: aiohttp in /opt/conda/lib/python3.10/site-packages (from oscar-python) (3.8.4)\r\n",
      "Requirement already satisfied: boto3 in /opt/conda/lib/python3.10/site-packages (from oscar-python) (1.27.1)\r\n",
      "Requirement already satisfied: setuptools>=40.8.0 in /opt/conda/lib/python3.10/site-packages (from oscar-python) (65.5.1)\r\n",
      "Requirement already satisfied: pyyaml in /opt/conda/lib/python3.10/site-packages (from oscar-python) (5.4.1)\r\n",
      "Requirement already satisfied: webdavclient3==3.14.6 in /opt/conda/lib/python3.10/site-packages (from oscar-python) (3.14.6)\r\n",
      "Requirement already satisfied: requests in /opt/conda/lib/python3.10/site-packages (from oscar-python) (2.28.1)\r\n",
      "Requirement already satisfied: python-dateutil in /opt/conda/lib/python3.10/site-packages (from webdavclient3==3.14.6->oscar-python) (2.8.2)\r\n",
      "Requirement already satisfied: lxml in /opt/conda/lib/python3.10/site-packages (from webdavclient3==3.14.6->oscar-python) (4.9.2)\r\n",
      "Requirement already satisfied: charset-normalizer<4.0,>=2.0 in /opt/conda/lib/python3.10/site-packages (from aiohttp->oscar-python) (2.1.1)\r\n",
      "Requirement already satisfied: frozenlist>=1.1.1 in /opt/conda/lib/python3.10/site-packages (from aiohttp->oscar-python) (1.3.3)\r\n",
      "Requirement already satisfied: attrs>=17.3.0 in /opt/conda/lib/python3.10/site-packages (from aiohttp->oscar-python) (22.1.0)\r\n",
      "Requirement already satisfied: multidict<7.0,>=4.5 in /opt/conda/lib/python3.10/site-packages (from aiohttp->oscar-python) (6.0.4)\r\n",
      "Requirement already satisfied: async-timeout<5.0,>=4.0.0a3 in /opt/conda/lib/python3.10/site-packages (from aiohttp->oscar-python) (4.0.2)\r\n"
     ]
    },
    {
     "name": "stdout",
     "output_type": "stream",
     "text": [
      "Requirement already satisfied: yarl<2.0,>=1.0 in /opt/conda/lib/python3.10/site-packages (from aiohttp->oscar-python) (1.9.2)\r\n",
      "Requirement already satisfied: aiosignal>=1.1.2 in /opt/conda/lib/python3.10/site-packages (from aiohttp->oscar-python) (1.3.1)\r\n",
      "Requirement already satisfied: s3transfer<0.7.0,>=0.6.0 in /opt/conda/lib/python3.10/site-packages (from boto3->oscar-python) (0.6.1)\r\n",
      "Requirement already satisfied: botocore<1.31.0,>=1.30.1 in /opt/conda/lib/python3.10/site-packages (from boto3->oscar-python) (1.30.1)\r\n",
      "Requirement already satisfied: jmespath<2.0.0,>=0.7.1 in /opt/conda/lib/python3.10/site-packages (from boto3->oscar-python) (1.0.1)\r\n",
      "Requirement already satisfied: certifi>=2017.4.17 in /opt/conda/lib/python3.10/site-packages (from requests->oscar-python) (2023.5.7)\r\n",
      "Requirement already satisfied: idna<4,>=2.5 in /opt/conda/lib/python3.10/site-packages (from requests->oscar-python) (3.4)\r\n",
      "Requirement already satisfied: urllib3<1.27,>=1.21.1 in /opt/conda/lib/python3.10/site-packages (from requests->oscar-python) (1.26.11)\r\n",
      "Requirement already satisfied: six>=1.5 in /opt/conda/lib/python3.10/site-packages (from python-dateutil->webdavclient3==3.14.6->oscar-python) (1.16.0)\r\n"
     ]
    },
    {
     "name": "stdout",
     "output_type": "stream",
     "text": [
      "Requirement already satisfied: liboidcagent in /opt/conda/lib/python3.10/site-packages (0.6.0)\r\n",
      "Requirement already satisfied: PyNaCl>=1.2.0 in /opt/conda/lib/python3.10/site-packages (from liboidcagent) (1.5.0)\r\n",
      "Requirement already satisfied: cffi>=1.4.1 in /opt/conda/lib/python3.10/site-packages (from PyNaCl>=1.2.0->liboidcagent) (1.15.1)\r\n",
      "Requirement already satisfied: pycparser in /opt/conda/lib/python3.10/site-packages (from cffi>=1.4.1->PyNaCl>=1.2.0->liboidcagent) (2.21)\r\n"
     ]
    }
   ],
   "source": [
    "!{sys.executable} -m pip install oscar-python\n",
    "!pip install liboidcagent\n",
    "from oscar_python.client import Client"
   ]
  },
  {
   "cell_type": "markdown",
   "id": "73a0d043-891f-43fc-b789-38f8acca0060",
   "metadata": {
    "papermill": {
     "duration": 0.011441,
     "end_time": "2024-03-10T10:42:29.189183",
     "exception": false,
     "start_time": "2024-03-10T10:42:29.177742",
     "status": "completed"
    },
    "tags": []
   },
   "source": [
    "# Function to decode base64 content"
   ]
  },
  {
   "cell_type": "code",
   "execution_count": 3,
   "id": "d57766fb-36ff-4de1-be20-bafe689f6214",
   "metadata": {
    "execution": {
     "iopub.execute_input": "2024-03-10T10:42:29.220242Z",
     "iopub.status.busy": "2024-03-10T10:42:29.219565Z",
     "iopub.status.idle": "2024-03-10T10:42:29.224773Z",
     "shell.execute_reply": "2024-03-10T10:42:29.224221Z"
    },
    "papermill": {
     "duration": 0.024241,
     "end_time": "2024-03-10T10:42:29.225062",
     "exception": false,
     "start_time": "2024-03-10T10:42:29.200821",
     "status": "completed"
    },
    "tags": []
   },
   "outputs": [],
   "source": [
    "def decode_base64(data):\n",
    "    return base64.b64decode(data).decode('utf-8')"
   ]
  },
  {
   "cell_type": "markdown",
   "id": "1c9dba9c-151f-4a48-8e48-ddf7851d1fc3",
   "metadata": {
    "papermill": {
     "duration": 0.010512,
     "end_time": "2024-03-10T10:42:29.248007",
     "exception": false,
     "start_time": "2024-03-10T10:42:29.237495",
     "status": "completed"
    },
    "tags": []
   },
   "source": [
    "# Read environment variables"
   ]
  },
  {
   "cell_type": "code",
   "execution_count": 4,
   "id": "d17b197b-41d0-4dfe-b865-ef2ffd3c50dd",
   "metadata": {
    "execution": {
     "iopub.execute_input": "2024-03-10T10:42:29.276538Z",
     "iopub.status.busy": "2024-03-10T10:42:29.275843Z",
     "iopub.status.idle": "2024-03-10T10:42:29.280897Z",
     "shell.execute_reply": "2024-03-10T10:42:29.280410Z"
    },
    "papermill": {
     "duration": 0.023278,
     "end_time": "2024-03-10T10:42:29.281186",
     "exception": false,
     "start_time": "2024-03-10T10:42:29.257908",
     "status": "completed"
    },
    "tags": []
   },
   "outputs": [],
   "source": [
    "token_file_path = os.getenv(\"TOKEN_FILE_PATH\")\n",
    "image_file_path = os.getenv(\"IMAGE_FILE_PATH\")\n",
    "output_dir = os.getenv(\"OUTPUT_DIR\", \"./output/images\")\n",
    "service_name = os.getenv(\"SERVICE_NAME\", \"grayify\")"
   ]
  },
  {
   "cell_type": "markdown",
   "id": "e11667f1-d3d1-47c4-84ff-fa1efa408452",
   "metadata": {
    "papermill": {
     "duration": 0.010858,
     "end_time": "2024-03-10T10:42:29.303173",
     "exception": false,
     "start_time": "2024-03-10T10:42:29.292315",
     "status": "completed"
    },
    "tags": []
   },
   "source": [
    "# Read and decode the access token"
   ]
  },
  {
   "cell_type": "code",
   "execution_count": 5,
   "id": "8a16e6f5-ed39-4403-be93-db6073075b85",
   "metadata": {
    "execution": {
     "iopub.execute_input": "2024-03-10T10:42:29.329913Z",
     "iopub.status.busy": "2024-03-10T10:42:29.329200Z",
     "iopub.status.idle": "2024-03-10T10:42:29.336626Z",
     "shell.execute_reply": "2024-03-10T10:42:29.336063Z"
    },
    "papermill": {
     "duration": 0.024062,
     "end_time": "2024-03-10T10:42:29.336952",
     "exception": false,
     "start_time": "2024-03-10T10:42:29.312890",
     "status": "completed"
    },
    "tags": []
   },
   "outputs": [],
   "source": [
    "with open(token_file_path, 'r') as token_file:\n",
    "    encoded_token = token_file.read()\n",
    "access_token = decode_base64(encoded_token)"
   ]
  },
  {
   "cell_type": "markdown",
   "id": "0a3cfe8f-1455-4454-9ce6-20e266be5460",
   "metadata": {
    "papermill": {
     "duration": 0.011128,
     "end_time": "2024-03-10T10:42:29.359735",
     "exception": false,
     "start_time": "2024-03-10T10:42:29.348607",
     "status": "completed"
    },
    "tags": []
   },
   "source": [
    "# OSCAR client configuration"
   ]
  },
  {
   "cell_type": "code",
   "execution_count": 6,
   "id": "565e3a31-3d70-4016-9a2b-3c6b6c2051fa",
   "metadata": {
    "execution": {
     "iopub.execute_input": "2024-03-10T10:42:29.386629Z",
     "iopub.status.busy": "2024-03-10T10:42:29.386122Z",
     "iopub.status.idle": "2024-03-10T10:42:29.391320Z",
     "shell.execute_reply": "2024-03-10T10:42:29.390448Z"
    },
    "papermill": {
     "duration": 0.02218,
     "end_time": "2024-03-10T10:42:29.391635",
     "exception": false,
     "start_time": "2024-03-10T10:42:29.369455",
     "status": "completed"
    },
    "tags": []
   },
   "outputs": [],
   "source": [
    "options_oidc = {\n",
    "    'cluster_id': 'oscar-egi-cloud',\n",
    "    'endpoint': 'https://inference.cloud.ai4eosc.eu',\n",
    "    'oidc_token': access_token,\n",
    "    'ssl': 'True'\n",
    "}\n",
    "oscar_client = Client(options=options_oidc)"
   ]
  },
  {
   "cell_type": "markdown",
   "id": "071a019b-b6e3-46bb-8865-e665a664ad78",
   "metadata": {
    "papermill": {
     "duration": 0.00943,
     "end_time": "2024-03-10T10:42:29.411810",
     "exception": false,
     "start_time": "2024-03-10T10:42:29.402380",
     "status": "completed"
    },
    "tags": []
   },
   "source": [
    "# Check if the service exists"
   ]
  },
  {
   "cell_type": "code",
   "execution_count": 7,
   "id": "4eb1916a-777d-47d9-9fb4-354e99a8021e",
   "metadata": {
    "execution": {
     "iopub.execute_input": "2024-03-10T10:42:29.447945Z",
     "iopub.status.busy": "2024-03-10T10:42:29.446787Z",
     "iopub.status.idle": "2024-03-10T10:42:29.747813Z",
     "shell.execute_reply": "2024-03-10T10:42:29.746546Z"
    },
    "papermill": {
     "duration": 0.325511,
     "end_time": "2024-03-10T10:42:29.748120",
     "exception": false,
     "start_time": "2024-03-10T10:42:29.422609",
     "status": "completed"
    },
    "tags": []
   },
   "outputs": [
    {
     "name": "stdout",
     "output_type": "stream",
     "text": [
      "Service 'grayify' already exists.\n"
     ]
    }
   ],
   "source": [
    "try:\n",
    "    service = oscar_client.get_service(service_name)\n",
    "    print(f\"Service '{service_name}' already exists.\")\n",
    "except Exception as e:\n",
    "    print(f\"Service '{service_name}' does not exist, creating...\")\n",
    "    try:\n",
    "        oscar_client.create_service(f\"{service_name}.yaml\")\n",
    "        print(\"Service created successfully.\")\n",
    "    except Exception as ex:\n",
    "        print(f\"Error creating service: {ex}\")"
   ]
  },
  {
   "cell_type": "markdown",
   "id": "21357425-abb7-4c61-8021-d9e84b05f234",
   "metadata": {
    "papermill": {
     "duration": 0.010905,
     "end_time": "2024-03-10T10:42:29.770451",
     "exception": false,
     "start_time": "2024-03-10T10:42:29.759546",
     "status": "completed"
    },
    "tags": []
   },
   "source": [
    "# Run the service"
   ]
  },
  {
   "cell_type": "code",
   "execution_count": 8,
   "id": "ed18fa7a-188f-4738-a212-fad93b260edf",
   "metadata": {
    "execution": {
     "iopub.execute_input": "2024-03-10T10:42:29.802141Z",
     "iopub.status.busy": "2024-03-10T10:42:29.801526Z",
     "iopub.status.idle": "2024-03-10T10:42:38.956110Z",
     "shell.execute_reply": "2024-03-10T10:42:38.954880Z"
    },
    "papermill": {
     "duration": 9.176426,
     "end_time": "2024-03-10T10:42:38.956501",
     "exception": false,
     "start_time": "2024-03-10T10:42:29.780075",
     "status": "completed"
    },
    "tags": []
   },
   "outputs": [
    {
     "name": "stdout",
     "output_type": "stream",
     "text": [
      "Error decoding output: Invalid base64 string.\n"
     ]
    }
   ],
   "source": [
    "response = oscar_client.run_service(service_name, input=image_file_path, output=output_dir)"
   ]
  },
  {
   "cell_type": "markdown",
   "id": "b03ab8bd-f91d-4602-bb08-9bc85f797d79",
   "metadata": {
    "papermill": {
     "duration": 0.012788,
     "end_time": "2024-03-10T10:42:38.983901",
     "exception": false,
     "start_time": "2024-03-10T10:42:38.971113",
     "status": "completed"
    },
    "tags": []
   },
   "source": [
    "# Process the response"
   ]
  },
  {
   "cell_type": "code",
   "execution_count": 9,
   "id": "a922baed-b654-468a-8177-2bc81b40fbd0",
   "metadata": {
    "execution": {
     "iopub.execute_input": "2024-03-10T10:42:39.017698Z",
     "iopub.status.busy": "2024-03-10T10:42:39.016761Z",
     "iopub.status.idle": "2024-03-10T10:42:39.035570Z",
     "shell.execute_reply": "2024-03-10T10:42:39.036120Z"
    },
    "papermill": {
     "duration": 0.040737,
     "end_time": "2024-03-10T10:42:39.036580",
     "exception": false,
     "start_time": "2024-03-10T10:42:38.995843",
     "status": "completed"
    },
    "tags": []
   },
   "outputs": [
    {
     "name": "stdout",
     "output_type": "stream",
     "text": [
      "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\n",
      "\n"
     ]
    }
   ],
   "source": [
    "if response.status_code == 200:\n",
    "    # Process grayify service response\n",
    "    data = response.text\n",
    "    # No need to create a new directory, as output_file already includes the correct path\n",
    "    # os.makedirs('./output/b64', exist_ok=True)  # Esta línea ya no es necesaria\n",
    "    # Use the output_file variable directly\n",
    "    print(data)\n",
    "    with open(output_dir, 'w') as f:\n",
    "        f.write(data)\n",
    "else:\n",
    "    print(f\"Error in the execution of 'grayify' service: {response.status_code} {response.text}\")"
   ]
  }
 ],
 "metadata": {
  "kernelspec": {
   "display_name": "Python 3 (ipykernel)",
   "language": "python",
   "name": "python3"
  },
  "language_info": {
   "codemirror_mode": {
    "name": "ipython",
    "version": 3
   },
   "file_extension": ".py",
   "mimetype": "text/x-python",
   "name": "python",
   "nbconvert_exporter": "python",
   "pygments_lexer": "ipython3",
   "version": "3.10.6"
  },
  "papermill": {
   "default_parameters": {},
   "duration": 18.692866,
   "end_time": "2024-03-10T10:42:39.378795",
   "environment_variables": {},
   "exception": null,
   "input_path": "/home/jovyan/tutorial/ai4-compose/elyra/examples/grayify/oscar_service_image.ipynb",
   "output_path": "/home/jovyan/tutorial/ai4-compose/elyra/examples/grayify/oscar_service_image.ipynb",
   "parameters": {},
   "start_time": "2024-03-10T10:42:20.685929",
   "version": "2.3.4"
  }
 },
 "nbformat": 4,
 "nbformat_minor": 5
}