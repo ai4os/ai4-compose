{
 "cells": [
  {
   "cell_type": "markdown",
   "id": "ed535017-2ebd-41b6-a0d9-f2eb7ae6a8d2",
   "metadata": {},
   "source": [
    "# Import libraries"
   ]
  },
  {
   "cell_type": "code",
   "execution_count": null,
   "id": "dfb22cc1-848e-4ead-8f84-5cc350647e94",
   "metadata": {
    "execution": {
     "iopub.execute_input": "2023-05-22T10:37:29.863580Z",
     "iopub.status.busy": "2023-05-22T10:37:29.863193Z",
     "iopub.status.idle": "2023-05-22T10:37:30.153573Z",
     "shell.execute_reply": "2023-05-22T10:37:30.152943Z"
    },
    "papermill": {
     "duration": 0.297729,
     "end_time": "2023-05-22T10:37:30.154934",
     "exception": false,
     "start_time": "2023-05-22T10:37:29.857205",
     "status": "completed"
    },
    "tags": []
   },
   "outputs": [],
   "source": [
    "import os\n",
    "import base64\n",
    "import matplotlib.pyplot as plt\n",
    "import io\n",
    "from PIL import Image"
   ]
  },
  {
   "cell_type": "markdown",
   "id": "a21a70bb-75d9-4aac-a0e4-63a4122063db",
   "metadata": {
    "papermill": {
     "duration": 0.00186,
     "end_time": "2023-05-22T10:37:30.158669",
     "exception": false,
     "start_time": "2023-05-22T10:37:30.156809",
     "status": "completed"
    },
    "tags": []
   },
   "source": [
    "# Define path and name of the files"
   ]
  },
  {
   "cell_type": "code",
   "execution_count": null,
   "id": "02da41ac-2747-4512-87fc-3bdfcb0d4616",
   "metadata": {
    "execution": {
     "iopub.execute_input": "2023-05-22T10:37:30.162754Z",
     "iopub.status.busy": "2023-05-22T10:37:30.162536Z",
     "iopub.status.idle": "2023-05-22T10:37:30.165461Z",
     "shell.execute_reply": "2023-05-22T10:37:30.165058Z"
    },
    "papermill": {
     "duration": 0.006081,
     "end_time": "2023-05-22T10:37:30.166368",
     "exception": false,
     "start_time": "2023-05-22T10:37:30.160287",
     "status": "completed"
    },
    "tags": []
   },
   "outputs": [],
   "source": [
    "# Define the file paths\n",
    "input_file_path = os.path.join('output', 'b64', os.environ.get('FILE_INPUT'))\n",
    "output_dir_path = os.path.join('output', 'images')\n",
    "output_file_path = os.path.join(output_dir_path, os.environ.get('FILE_OUTPUT'))\n",
    "\n",
    "# Create the 'images' directory if it doesn't exist\n",
    "os.makedirs(output_dir_path, exist_ok=True)"
   ]
  },
  {
   "cell_type": "markdown",
   "id": "992e358c-af7d-4506-9724-37fa543ab92e",
   "metadata": {
    "papermill": {
     "duration": 0.001556,
     "end_time": "2023-05-22T10:37:30.169638",
     "exception": false,
     "start_time": "2023-05-22T10:37:30.168082",
     "status": "completed"
    },
    "tags": []
   },
   "source": [
    "# Read the file text"
   ]
  },
  {
   "cell_type": "code",
   "execution_count": null,
   "id": "b29c869e-c6d3-4d82-99f9-8266103db605",
   "metadata": {
    "execution": {
     "iopub.execute_input": "2023-05-22T10:37:30.173552Z",
     "iopub.status.busy": "2023-05-22T10:37:30.173388Z",
     "iopub.status.idle": "2023-05-22T10:37:30.185780Z",
     "shell.execute_reply": "2023-05-22T10:37:30.185264Z"
    },
    "papermill": {
     "duration": 0.015944,
     "end_time": "2023-05-22T10:37:30.187153",
     "exception": false,
     "start_time": "2023-05-22T10:37:30.171209",
     "status": "completed"
    },
    "tags": []
   },
   "outputs": [],
   "source": [
    "with open(input_file_path, 'r') as file:\n",
    "    lines = file.readlines()"
   ]
  },
  {
   "cell_type": "markdown",
   "id": "08b8b065-f200-4d64-874b-498ba4b6a2bf",
   "metadata": {
    "papermill": {
     "duration": 0.002225,
     "end_time": "2023-05-22T10:37:30.191737",
     "exception": false,
     "start_time": "2023-05-22T10:37:30.189512",
     "status": "completed"
    },
    "tags": []
   },
   "source": [
    "# Obtain the last lane that contains the base64 coded image"
   ]
  },
  {
   "cell_type": "code",
   "execution_count": null,
   "id": "4b8b7428-1d7c-44de-8fbd-f8d5e1981f6d",
   "metadata": {
    "execution": {
     "iopub.execute_input": "2023-05-22T10:37:30.196136Z",
     "iopub.status.busy": "2023-05-22T10:37:30.195957Z",
     "iopub.status.idle": "2023-05-22T10:37:30.198488Z",
     "shell.execute_reply": "2023-05-22T10:37:30.198032Z"
    },
    "papermill": {
     "duration": 0.005818,
     "end_time": "2023-05-22T10:37:30.199505",
     "exception": false,
     "start_time": "2023-05-22T10:37:30.193687",
     "status": "completed"
    },
    "tags": []
   },
   "outputs": [],
   "source": [
    "image_data = lines[-1]"
   ]
  },
  {
   "cell_type": "markdown",
   "id": "be3fd5fd-a7d3-4cce-9646-d2a87e126c69",
   "metadata": {
    "papermill": {
     "duration": 0.001655,
     "end_time": "2023-05-22T10:37:30.202873",
     "exception": false,
     "start_time": "2023-05-22T10:37:30.201218",
     "status": "completed"
    },
    "tags": []
   },
   "source": [
    "# Decode image from base64"
   ]
  },
  {
   "cell_type": "code",
   "execution_count": null,
   "id": "2077b20b-6275-431b-bd4f-b335af796abf",
   "metadata": {
    "execution": {
     "iopub.execute_input": "2023-05-22T10:37:30.207655Z",
     "iopub.status.busy": "2023-05-22T10:37:30.207480Z",
     "iopub.status.idle": "2023-05-22T10:37:30.209829Z",
     "shell.execute_reply": "2023-05-22T10:37:30.209477Z"
    },
    "papermill": {
     "duration": 0.006099,
     "end_time": "2023-05-22T10:37:30.210609",
     "exception": false,
     "start_time": "2023-05-22T10:37:30.204510",
     "status": "completed"
    },
    "tags": []
   },
   "outputs": [],
   "source": [
    "image_bytes = base64.b64decode(image_data)"
   ]
  },
  {
   "cell_type": "markdown",
   "id": "022433ea-c609-42a8-b784-96ba921a3786",
   "metadata": {
    "papermill": {
     "duration": 0.001646,
     "end_time": "2023-05-22T10:37:30.214945",
     "exception": false,
     "start_time": "2023-05-22T10:37:30.213299",
     "status": "completed"
    },
    "tags": []
   },
   "source": [
    "# Create a PIL image from bytes"
   ]
  },
  {
   "cell_type": "code",
   "execution_count": null,
   "id": "f15ee64b-df06-4b0b-9f9d-e0566046d3f6",
   "metadata": {
    "execution": {
     "iopub.execute_input": "2023-05-22T10:37:30.218901Z",
     "iopub.status.busy": "2023-05-22T10:37:30.218675Z",
     "iopub.status.idle": "2023-05-22T10:37:30.225161Z",
     "shell.execute_reply": "2023-05-22T10:37:30.224765Z"
    },
    "papermill": {
     "duration": 0.009827,
     "end_time": "2023-05-22T10:37:30.226337",
     "exception": false,
     "start_time": "2023-05-22T10:37:30.216510",
     "status": "completed"
    },
    "tags": []
   },
   "outputs": [],
   "source": [
    "image = Image.open(io.BytesIO(image_bytes))"
   ]
  },
  {
   "cell_type": "markdown",
   "id": "9a7e3794-1f50-4699-bafe-dedd60972f67",
   "metadata": {
    "papermill": {
     "duration": 0.001761,
     "end_time": "2023-05-22T10:37:30.230018",
     "exception": false,
     "start_time": "2023-05-22T10:37:30.228257",
     "status": "completed"
    },
    "tags": []
   },
   "source": [
    "# Save image as a png"
   ]
  },
  {
   "cell_type": "code",
   "execution_count": null,
   "id": "8bc7311a-995c-4221-bdfb-63fe9870a3a8",
   "metadata": {
    "execution": {
     "iopub.execute_input": "2023-05-22T10:37:30.234147Z",
     "iopub.status.busy": "2023-05-22T10:37:30.233930Z",
     "iopub.status.idle": "2023-05-22T10:37:30.271970Z",
     "shell.execute_reply": "2023-05-22T10:37:30.271496Z"
    },
    "papermill": {
     "duration": 0.041377,
     "end_time": "2023-05-22T10:37:30.273076",
     "exception": false,
     "start_time": "2023-05-22T10:37:30.231699",
     "status": "completed"
    },
    "tags": []
   },
   "outputs": [],
   "source": [
    "image.save(output_file_path, 'png')"
   ]
  },
  {
   "cell_type": "markdown",
   "id": "e8721f36-98d7-4779-8143-2529c99411d7",
   "metadata": {
    "papermill": {
     "duration": 0.001457,
     "end_time": "2023-05-22T10:37:30.276271",
     "exception": false,
     "start_time": "2023-05-22T10:37:30.274814",
     "status": "completed"
    },
    "tags": []
   },
   "source": [
    "# Display image"
   ]
  },
  {
   "cell_type": "code",
   "execution_count": null,
   "id": "595ad732-79a6-4b71-a428-79046362225e",
   "metadata": {
    "execution": {
     "iopub.execute_input": "2023-05-22T10:37:30.280023Z",
     "iopub.status.busy": "2023-05-22T10:37:30.279851Z",
     "iopub.status.idle": "2023-05-22T10:37:30.448203Z",
     "shell.execute_reply": "2023-05-22T10:37:30.447810Z"
    },
    "papermill": {
     "duration": 0.172081,
     "end_time": "2023-05-22T10:37:30.449739",
     "exception": false,
     "start_time": "2023-05-22T10:37:30.277658",
     "status": "completed"
    },
    "tags": []
   },
   "outputs": [],
   "source": [
    "plt.imshow(image)\n",
    "plt.show()"
   ]
  }
 ],
 "metadata": {
  "kernelspec": {
   "display_name": "Python 3 (ipykernel)",
   "language": "python",
   "name": "python3"
  },
  "language_info": {
   "codemirror_mode": {
    "name": "ipython",
    "version": 3
   },
   "file_extension": ".py",
   "mimetype": "text/x-python",
   "name": "python",
   "nbconvert_exporter": "python",
   "pygments_lexer": "ipython3",
   "version": "3.10.6"
  },
  "papermill": {
   "default_parameters": {},
   "duration": 1.568672,
   "end_time": "2023-05-22T10:37:30.671469",
   "environment_variables": {},
   "exception": null,
   "input_path": "/home/dieagra/Desktop/Stuff/oscar_elyra/services/show_images.ipynb",
   "output_path": "/home/dieagra/Desktop/Stuff/oscar_elyra/services/show_images.ipynb",
   "parameters": {},
   "start_time": "2023-05-22T10:37:29.102797",
   "version": "2.4.0"
  }
 },
 "nbformat": 4,
 "nbformat_minor": 5
}
