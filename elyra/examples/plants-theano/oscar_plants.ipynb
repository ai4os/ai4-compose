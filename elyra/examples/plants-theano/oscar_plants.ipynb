{
 "cells": [
  {
   "cell_type": "markdown",
   "id": "4a582302-1262-4748-9759-3c7dfd9f048f",
   "metadata": {
    "papermill": {
     "duration": 0.003885,
     "end_time": "2023-05-22T08:25:13.318371",
     "exception": false,
     "start_time": "2023-05-22T08:25:13.314486",
     "status": "completed"
    },
    "tags": []
   },
   "source": [
    "# Import libraries"
   ]
  },
  {
   "cell_type": "code",
   "execution_count": null,
   "id": "937522d5-4088-4e45-866c-bba3cc1869ae",
   "metadata": {
    "execution": {
     "iopub.execute_input": "2023-05-22T08:25:13.332108Z",
     "iopub.status.busy": "2023-05-22T08:25:13.331700Z",
     "iopub.status.idle": "2023-05-22T08:25:13.471096Z",
     "shell.execute_reply": "2023-05-22T08:25:13.470709Z"
    },
    "papermill": {
     "duration": 0.146241,
     "end_time": "2023-05-22T08:25:13.472319",
     "exception": false,
     "start_time": "2023-05-22T08:25:13.326078",
     "status": "completed"
    },
    "tags": []
   },
   "outputs": [],
   "source": [
    "import os\n",
    "import json\n",
    "import sys\n",
    "!{sys.executable} -m pip install oscar-python\n",
    "!pip install liboidcagent\n",
    "from oscar_python.client import Client"
   ]
  },
  {
   "cell_type": "markdown",
   "id": "b93f68c6-6fc2-48a0-a7ee-f3adce4e642a",
   "metadata": {},
   "source": [
    "# GET TOKEN FROM EGI"
   ]
  },
  {
   "cell_type": "code",
   "execution_count": null,
   "id": "d8f6c022-4c7c-4cb9-995e-2247de239de3",
   "metadata": {},
   "outputs": [],
   "source": [
    "with open(\"/var/run/secrets/egi.eu/access_token\") as f:\n",
    "    access_token = f.read()"
   ]
  },
  {
   "cell_type": "markdown",
   "id": "a25afac0-2242-49c4-af8d-0bcf7a74a89a",
   "metadata": {},
   "source": [
    "# Create OSCAR client with EGI TOKEN¶"
   ]
  },
  {
   "cell_type": "code",
   "execution_count": null,
   "id": "d81c5392-d959-4a0a-94c8-72e0152f1b35",
   "metadata": {},
   "outputs": [],
   "source": [
    "options_oidc = {'cluster_id':'oscar-egi-cloud',\n",
    "            'endpoint':'https://inference.cloud.ai4eosc.eu',\n",
    "            'oidc_token': access_token,\n",
    "            'ssl':'True'}\n",
    "\n",
    "oscar_client = Client(options=options_oidc)"
   ]
  },
  {
   "cell_type": "markdown",
   "id": "ba4bfca4-7937-47e9-ba62-822266f9c651",
   "metadata": {
    "papermill": {
     "duration": 0.007546,
     "end_time": "2023-05-22T08:25:13.481599",
     "exception": false,
     "start_time": "2023-05-22T08:25:13.474053",
     "status": "completed"
    },
    "tags": []
   },
   "source": [
    "# Read credentials"
   ]
  },
  {
   "cell_type": "markdown",
   "id": "d45167b5-85bb-4f06-99b9-f3da743dc438",
   "metadata": {
    "execution": {
     "iopub.execute_input": "2023-05-22T08:25:13.485545Z",
     "iopub.status.busy": "2023-05-22T08:25:13.485136Z",
     "iopub.status.idle": "2023-05-22T08:25:13.488039Z",
     "shell.execute_reply": "2023-05-22T08:25:13.487648Z"
    },
    "papermill": {
     "duration": 0.006262,
     "end_time": "2023-05-22T08:25:13.489250",
     "exception": false,
     "start_time": "2023-05-22T08:25:13.482988",
     "status": "completed"
    },
    "tags": []
   },
   "source": [
    "json_path = os.path.join(\"./credentials\", os.environ.get(\"JSON_NAME\") + \".json\")\n",
    "with open(json_path) as f:\n",
    "    credentials = json.load(f)"
   ]
  },
  {
   "cell_type": "markdown",
   "id": "e4063125-74e9-4d39-b380-f77614a167ce",
   "metadata": {
    "papermill": {
     "duration": 0.001419,
     "end_time": "2023-05-22T08:25:13.492599",
     "exception": false,
     "start_time": "2023-05-22T08:25:13.491180",
     "status": "completed"
    },
    "tags": []
   },
   "source": [
    "# Create OSCAR client with the credentials"
   ]
  },
  {
   "cell_type": "markdown",
   "id": "c588b735-f039-48f9-a57e-81f0f7ba7967",
   "metadata": {
    "execution": {
     "iopub.execute_input": "2023-05-22T08:25:13.497093Z",
     "iopub.status.busy": "2023-05-22T08:25:13.496918Z",
     "iopub.status.idle": "2023-05-22T08:25:13.499288Z",
     "shell.execute_reply": "2023-05-22T08:25:13.498939Z"
    },
    "papermill": {
     "duration": 0.005771,
     "end_time": "2023-05-22T08:25:13.500090",
     "exception": false,
     "start_time": "2023-05-22T08:25:13.494319",
     "status": "completed"
    },
    "tags": []
   },
   "source": [
    "options_oidc = {'cluster_id': credentials['ID'],\n",
    "            'endpoint': credentials['ENDPOINT'],\n",
    "            'user': credentials['USER'],\n",
    "            'password': credentials['PASSWORD'],\n",
    "            'ssl': 'True'}\n",
    "\n",
    "oscar_client = Client(options = options_oidc)"
   ]
  },
  {
   "cell_type": "markdown",
   "id": "82163187-cc96-47a8-a7e3-46929e001883",
   "metadata": {
    "papermill": {
     "duration": 0.001699,
     "end_time": "2023-05-22T08:25:13.503641",
     "exception": false,
     "start_time": "2023-05-22T08:25:13.501942",
     "status": "completed"
    },
    "tags": []
   },
   "source": [
    "# Read text base 64 input"
   ]
  },
  {
   "cell_type": "code",
   "execution_count": null,
   "id": "cacb2ed4-752c-4a88-82c7-c4f8316ba3f5",
   "metadata": {
    "execution": {
     "iopub.execute_input": "2023-05-22T08:25:13.507401Z",
     "iopub.status.busy": "2023-05-22T08:25:13.507192Z",
     "iopub.status.idle": "2023-05-22T08:25:13.509920Z",
     "shell.execute_reply": "2023-05-22T08:25:13.509549Z"
    },
    "papermill": {
     "duration": 0.005815,
     "end_time": "2023-05-22T08:25:13.510975",
     "exception": false,
     "start_time": "2023-05-22T08:25:13.505160",
     "status": "completed"
    },
    "tags": []
   },
   "outputs": [],
   "source": [
    "image_name = os.environ.get(\"B64_INPUT\")\n",
    "output_file_name = os.getenv(\"DATA_OUTPUT\")\n",
    "output_file = f\"./data/{image_name.rsplit('.', 1)[0]}.txt\"\n",
    "\n",
    "with open(output_file, \"r\") as txt_file:\n",
    "    encoded_image = txt_file.read()"
   ]
  },
  {
   "cell_type": "markdown",
   "id": "9f10caa6-316a-45aa-8e9b-6a53a0a4dd58",
   "metadata": {
    "papermill": {
     "duration": 0.001749,
     "end_time": "2023-05-22T08:25:13.514333",
     "exception": false,
     "start_time": "2023-05-22T08:25:13.512584",
     "status": "completed"
    },
    "tags": []
   },
   "source": [
    "# Create oscar service: cowsay"
   ]
  },
  {
   "cell_type": "code",
   "execution_count": null,
   "id": "83245e85-461c-4102-9929-78180b393b0f",
   "metadata": {
    "execution": {
     "iopub.execute_input": "2023-05-22T08:25:13.518166Z",
     "iopub.status.busy": "2023-05-22T08:25:13.517996Z",
     "iopub.status.idle": "2023-05-22T08:25:13.646743Z",
     "shell.execute_reply": "2023-05-22T08:25:13.646350Z"
    },
    "papermill": {
     "duration": 0.131897,
     "end_time": "2023-05-22T08:25:13.647744",
     "exception": false,
     "start_time": "2023-05-22T08:25:13.515847",
     "status": "completed"
    },
    "tags": []
   },
   "outputs": [],
   "source": [
    "try:\n",
    "    oscar_client.create_service(\"plant-classification-theano.yaml\")\n",
    "    print(\"Service created\")\n",
    "except Exception as ex:\n",
    "    print(\"Error creating service: \", ex)"
   ]
  },
  {
   "cell_type": "markdown",
   "id": "a54b3732-e2d0-4c66-a089-32328c212207",
   "metadata": {
    "papermill": {
     "duration": 0.007413,
     "end_time": "2023-05-22T08:25:13.657087",
     "exception": false,
     "start_time": "2023-05-22T08:25:13.649674",
     "status": "completed"
    },
    "tags": []
   },
   "source": [
    "# Use the service"
   ]
  },
  {
   "cell_type": "code",
   "execution_count": null,
   "id": "47e77336-518c-48c6-8f73-8814c8e7da04",
   "metadata": {
    "execution": {
     "iopub.execute_input": "2023-05-22T08:25:13.661485Z",
     "iopub.status.busy": "2023-05-22T08:25:13.661143Z",
     "iopub.status.idle": "2023-05-22T08:25:39.963599Z",
     "shell.execute_reply": "2023-05-22T08:25:39.963162Z"
    },
    "papermill": {
     "duration": 26.306342,
     "end_time": "2023-05-22T08:25:39.964907",
     "exception": false,
     "start_time": "2023-05-22T08:25:13.658565",
     "status": "completed"
    },
    "tags": []
   },
   "outputs": [],
   "source": [
    "response = oscar_client.run_service(\"plants\", input=encoded_image)\n",
    "\n",
    "# Verify if response is complete\n",
    "if response.status_code == 200:\n",
    "    # Process grayify service response\n",
    "    data = response.text\n",
    "    #  print(\"data:\", data)\n",
    "    os.makedirs('./output/b64', exist_ok=True)\n",
    "\n",
    "    output_file_path = f\"./output/b64/{output_file_name}\"\n",
    "    with open(output_file_path, 'w') as f:\n",
    "        f.write(data)\n",
    "\n",
    "else:\n",
    "    print(f\"Error in the execution of 'plants' service: {response.status_code} {response.text}\")"
   ]
  }
 ],
 "metadata": {
  "kernelspec": {
   "display_name": "Python 3 (ipykernel)",
   "language": "python",
   "name": "python3"
  },
  "language_info": {
   "codemirror_mode": {
    "name": "ipython",
    "version": 3
   },
   "file_extension": ".py",
   "mimetype": "text/x-python",
   "name": "python",
   "nbconvert_exporter": "python",
   "pygments_lexer": "ipython3",
   "version": "3.10.6"
  },
  "papermill": {
   "default_parameters": {},
   "duration": 27.547323,
   "end_time": "2023-05-22T08:25:40.183852",
   "environment_variables": {},
   "exception": null,
   "input_path": "/home/dieagra/Desktop/Stuff/oscar_elyra/services/plants/oscar_plants.ipynb",
   "output_path": "/home/dieagra/Desktop/Stuff/oscar_elyra/services/plants/oscar_plants.ipynb",
   "parameters": {},
   "start_time": "2023-05-22T08:25:12.636529",
   "version": "2.4.0"
  }
 },
 "nbformat": 4,
 "nbformat_minor": 5
}
