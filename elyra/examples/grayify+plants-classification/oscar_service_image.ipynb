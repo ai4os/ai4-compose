{
 "cells": [
  {
   "cell_type": "markdown",
   "id": "d4ed2927-488c-4d36-974a-3fcc9893659e",
   "metadata": {
    "papermill": {
     "duration": 0.012301,
     "end_time": "2024-03-10T10:19:36.739574",
     "exception": false,
     "start_time": "2024-03-10T10:19:36.727273",
     "status": "completed"
    },
    "tags": []
   },
   "source": [
    "# Required imports"
   ]
  },
  {
   "cell_type": "code",
   "execution_count": 1,
   "id": "2fdf839b-0473-4027-be46-d24a04572678",
   "metadata": {
    "execution": {
     "iopub.execute_input": "2024-03-10T10:19:36.778775Z",
     "iopub.status.busy": "2024-03-10T10:19:36.773474Z",
     "iopub.status.idle": "2024-03-10T10:19:36.834578Z",
     "shell.execute_reply": "2024-03-10T10:19:36.834004Z"
    },
    "papermill": {
     "duration": 0.083646,
     "end_time": "2024-03-10T10:19:36.834941",
     "exception": false,
     "start_time": "2024-03-10T10:19:36.751295",
     "status": "completed"
    },
    "tags": []
   },
   "outputs": [],
   "source": [
    "import os\n",
    "import json\n",
    "import sys\n",
    "import base64\n",
    "import requests\n",
    "from IPython.display import Image, display"
   ]
  },
  {
   "cell_type": "markdown",
   "id": "86b296cf-07b4-4754-879a-b91c0a763ff7",
   "metadata": {
    "papermill": {
     "duration": 0.009856,
     "end_time": "2024-03-10T10:19:36.856398",
     "exception": false,
     "start_time": "2024-03-10T10:19:36.846542",
     "status": "completed"
    },
    "tags": []
   },
   "source": [
    "# Install the necessary packages"
   ]
  },
  {
   "cell_type": "code",
   "execution_count": 2,
   "id": "85bc950d-62e1-44ad-9d5f-eab3efa7ac84",
   "metadata": {
    "execution": {
     "iopub.execute_input": "2024-03-10T10:19:36.885840Z",
     "iopub.status.busy": "2024-03-10T10:19:36.885126Z",
     "iopub.status.idle": "2024-03-10T10:19:44.288390Z",
     "shell.execute_reply": "2024-03-10T10:19:44.287846Z"
    },
    "papermill": {
     "duration": 7.421938,
     "end_time": "2024-03-10T10:19:44.288767",
     "exception": false,
     "start_time": "2024-03-10T10:19:36.866829",
     "status": "completed"
    },
    "tags": []
   },
   "outputs": [
    {
     "name": "stdout",
     "output_type": "stream",
     "text": [
      "Requirement already satisfied: oscar-python in /opt/conda/lib/python3.10/site-packages (1.2.1)\r\n",
      "Requirement already satisfied: pyyaml in /opt/conda/lib/python3.10/site-packages (from oscar-python) (5.4.1)\r\n",
      "Requirement already satisfied: aiohttp in /opt/conda/lib/python3.10/site-packages (from oscar-python) (3.8.4)\r\n",
      "Requirement already satisfied: webdavclient3==3.14.6 in /opt/conda/lib/python3.10/site-packages (from oscar-python) (3.14.6)\r\n",
      "Requirement already satisfied: boto3 in /opt/conda/lib/python3.10/site-packages (from oscar-python) (1.27.1)\r\n",
      "Requirement already satisfied: requests in /opt/conda/lib/python3.10/site-packages (from oscar-python) (2.28.1)\r\n",
      "Requirement already satisfied: setuptools>=40.8.0 in /opt/conda/lib/python3.10/site-packages (from oscar-python) (65.5.1)\r\n",
      "Requirement already satisfied: python-dateutil in /opt/conda/lib/python3.10/site-packages (from webdavclient3==3.14.6->oscar-python) (2.8.2)\r\n",
      "Requirement already satisfied: lxml in /opt/conda/lib/python3.10/site-packages (from webdavclient3==3.14.6->oscar-python) (4.9.2)\r\n",
      "Requirement already satisfied: yarl<2.0,>=1.0 in /opt/conda/lib/python3.10/site-packages (from aiohttp->oscar-python) (1.9.2)\r\n",
      "Requirement already satisfied: multidict<7.0,>=4.5 in /opt/conda/lib/python3.10/site-packages (from aiohttp->oscar-python) (6.0.4)\r\n",
      "Requirement already satisfied: aiosignal>=1.1.2 in /opt/conda/lib/python3.10/site-packages (from aiohttp->oscar-python) (1.3.1)\r\n",
      "Requirement already satisfied: attrs>=17.3.0 in /opt/conda/lib/python3.10/site-packages (from aiohttp->oscar-python) (22.1.0)\r\n",
      "Requirement already satisfied: charset-normalizer<4.0,>=2.0 in /opt/conda/lib/python3.10/site-packages (from aiohttp->oscar-python) (2.1.1)\r\n",
      "Requirement already satisfied: async-timeout<5.0,>=4.0.0a3 in /opt/conda/lib/python3.10/site-packages (from aiohttp->oscar-python) (4.0.2)\r\n",
      "Requirement already satisfied: frozenlist>=1.1.1 in /opt/conda/lib/python3.10/site-packages (from aiohttp->oscar-python) (1.3.3)\r\n",
      "Requirement already satisfied: s3transfer<0.7.0,>=0.6.0 in /opt/conda/lib/python3.10/site-packages (from boto3->oscar-python) (0.6.1)\r\n",
      "Requirement already satisfied: botocore<1.31.0,>=1.30.1 in /opt/conda/lib/python3.10/site-packages (from boto3->oscar-python) (1.30.1)\r\n",
      "Requirement already satisfied: jmespath<2.0.0,>=0.7.1 in /opt/conda/lib/python3.10/site-packages (from boto3->oscar-python) (1.0.1)\r\n",
      "Requirement already satisfied: certifi>=2017.4.17 in /opt/conda/lib/python3.10/site-packages (from requests->oscar-python) (2023.5.7)\r\n",
      "Requirement already satisfied: idna<4,>=2.5 in /opt/conda/lib/python3.10/site-packages (from requests->oscar-python) (3.4)\r\n",
      "Requirement already satisfied: urllib3<1.27,>=1.21.1 in /opt/conda/lib/python3.10/site-packages (from requests->oscar-python) (1.26.11)\r\n"
     ]
    },
    {
     "name": "stdout",
     "output_type": "stream",
     "text": [
      "Requirement already satisfied: six>=1.5 in /opt/conda/lib/python3.10/site-packages (from python-dateutil->webdavclient3==3.14.6->oscar-python) (1.16.0)\r\n"
     ]
    },
    {
     "name": "stdout",
     "output_type": "stream",
     "text": [
      "Requirement already satisfied: liboidcagent in /opt/conda/lib/python3.10/site-packages (0.6.0)\r\n",
      "Requirement already satisfied: PyNaCl>=1.2.0 in /opt/conda/lib/python3.10/site-packages (from liboidcagent) (1.5.0)\r\n",
      "Requirement already satisfied: cffi>=1.4.1 in /opt/conda/lib/python3.10/site-packages (from PyNaCl>=1.2.0->liboidcagent) (1.15.1)\r\n",
      "Requirement already satisfied: pycparser in /opt/conda/lib/python3.10/site-packages (from cffi>=1.4.1->PyNaCl>=1.2.0->liboidcagent) (2.21)\r\n"
     ]
    }
   ],
   "source": [
    "!{sys.executable} -m pip install oscar-python\n",
    "!pip install liboidcagent\n",
    "from oscar_python.client import Client"
   ]
  },
  {
   "cell_type": "markdown",
   "id": "73a0d043-891f-43fc-b789-38f8acca0060",
   "metadata": {
    "papermill": {
     "duration": 0.011325,
     "end_time": "2024-03-10T10:19:44.311741",
     "exception": false,
     "start_time": "2024-03-10T10:19:44.300416",
     "status": "completed"
    },
    "tags": []
   },
   "source": [
    "# Function to decode base64 content"
   ]
  },
  {
   "cell_type": "code",
   "execution_count": 3,
   "id": "d57766fb-36ff-4de1-be20-bafe689f6214",
   "metadata": {
    "execution": {
     "iopub.execute_input": "2024-03-10T10:19:44.340780Z",
     "iopub.status.busy": "2024-03-10T10:19:44.340232Z",
     "iopub.status.idle": "2024-03-10T10:19:44.345701Z",
     "shell.execute_reply": "2024-03-10T10:19:44.345007Z"
    },
    "papermill": {
     "duration": 0.023623,
     "end_time": "2024-03-10T10:19:44.345998",
     "exception": false,
     "start_time": "2024-03-10T10:19:44.322375",
     "status": "completed"
    },
    "tags": []
   },
   "outputs": [],
   "source": [
    "def decode_base64(data):\n",
    "    return base64.b64decode(data).decode('utf-8')"
   ]
  },
  {
   "cell_type": "markdown",
   "id": "1c9dba9c-151f-4a48-8e48-ddf7851d1fc3",
   "metadata": {
    "papermill": {
     "duration": 0.010033,
     "end_time": "2024-03-10T10:19:44.366485",
     "exception": false,
     "start_time": "2024-03-10T10:19:44.356452",
     "status": "completed"
    },
    "tags": []
   },
   "source": [
    "# Read environment variables"
   ]
  },
  {
   "cell_type": "code",
   "execution_count": 4,
   "id": "d17b197b-41d0-4dfe-b865-ef2ffd3c50dd",
   "metadata": {
    "execution": {
     "iopub.execute_input": "2024-03-10T10:19:44.394981Z",
     "iopub.status.busy": "2024-03-10T10:19:44.394254Z",
     "iopub.status.idle": "2024-03-10T10:19:44.398688Z",
     "shell.execute_reply": "2024-03-10T10:19:44.398226Z"
    },
    "papermill": {
     "duration": 0.023264,
     "end_time": "2024-03-10T10:19:44.398999",
     "exception": false,
     "start_time": "2024-03-10T10:19:44.375735",
     "status": "completed"
    },
    "tags": []
   },
   "outputs": [],
   "source": [
    "token_file_path = os.getenv(\"TOKEN_FILE_PATH\")\n",
    "image_file_path = os.getenv(\"IMAGE_FILE_PATH\")\n",
    "output_dir = os.getenv(\"OUTPUT_DIR\", \"./output/images\")\n",
    "service_name = os.getenv(\"SERVICE_NAME\", \"grayify\")"
   ]
  },
  {
   "cell_type": "markdown",
   "id": "e11667f1-d3d1-47c4-84ff-fa1efa408452",
   "metadata": {
    "papermill": {
     "duration": 0.011586,
     "end_time": "2024-03-10T10:19:44.421745",
     "exception": false,
     "start_time": "2024-03-10T10:19:44.410159",
     "status": "completed"
    },
    "tags": []
   },
   "source": [
    "# Read and decode the access token"
   ]
  },
  {
   "cell_type": "code",
   "execution_count": 5,
   "id": "8a16e6f5-ed39-4403-be93-db6073075b85",
   "metadata": {
    "execution": {
     "iopub.execute_input": "2024-03-10T10:19:44.450029Z",
     "iopub.status.busy": "2024-03-10T10:19:44.446276Z",
     "iopub.status.idle": "2024-03-10T10:19:44.457209Z",
     "shell.execute_reply": "2024-03-10T10:19:44.457645Z"
    },
    "papermill": {
     "duration": 0.025729,
     "end_time": "2024-03-10T10:19:44.457998",
     "exception": false,
     "start_time": "2024-03-10T10:19:44.432269",
     "status": "completed"
    },
    "tags": []
   },
   "outputs": [],
   "source": [
    "with open(token_file_path, 'r') as token_file:\n",
    "    encoded_token = token_file.read()\n",
    "access_token = decode_base64(encoded_token)"
   ]
  },
  {
   "cell_type": "markdown",
   "id": "0a3cfe8f-1455-4454-9ce6-20e266be5460",
   "metadata": {
    "papermill": {
     "duration": 0.010069,
     "end_time": "2024-03-10T10:19:44.478169",
     "exception": false,
     "start_time": "2024-03-10T10:19:44.468100",
     "status": "completed"
    },
    "tags": []
   },
   "source": [
    "# OSCAR client configuration"
   ]
  },
  {
   "cell_type": "code",
   "execution_count": 6,
   "id": "565e3a31-3d70-4016-9a2b-3c6b6c2051fa",
   "metadata": {
    "execution": {
     "iopub.execute_input": "2024-03-10T10:19:44.503805Z",
     "iopub.status.busy": "2024-03-10T10:19:44.503200Z",
     "iopub.status.idle": "2024-03-10T10:19:44.507571Z",
     "shell.execute_reply": "2024-03-10T10:19:44.507895Z"
    },
    "papermill": {
     "duration": 0.021331,
     "end_time": "2024-03-10T10:19:44.508182",
     "exception": false,
     "start_time": "2024-03-10T10:19:44.486851",
     "status": "completed"
    },
    "tags": []
   },
   "outputs": [],
   "source": [
    "options_oidc = {\n",
    "    'cluster_id': 'oscar-egi-cloud',\n",
    "    'endpoint': 'https://inference.cloud.ai4eosc.eu',\n",
    "    'oidc_token': access_token,\n",
    "    'ssl': 'True'\n",
    "}\n",
    "oscar_client = Client(options=options_oidc)"
   ]
  },
  {
   "cell_type": "markdown",
   "id": "071a019b-b6e3-46bb-8865-e665a664ad78",
   "metadata": {
    "papermill": {
     "duration": 0.008919,
     "end_time": "2024-03-10T10:19:44.526682",
     "exception": false,
     "start_time": "2024-03-10T10:19:44.517763",
     "status": "completed"
    },
    "tags": []
   },
   "source": [
    "# Check if the service exists"
   ]
  },
  {
   "cell_type": "code",
   "execution_count": 7,
   "id": "4eb1916a-777d-47d9-9fb4-354e99a8021e",
   "metadata": {
    "execution": {
     "iopub.execute_input": "2024-03-10T10:19:44.556880Z",
     "iopub.status.busy": "2024-03-10T10:19:44.556124Z",
     "iopub.status.idle": "2024-03-10T10:19:46.970663Z",
     "shell.execute_reply": "2024-03-10T10:19:46.969550Z"
    },
    "papermill": {
     "duration": 2.435686,
     "end_time": "2024-03-10T10:19:46.971008",
     "exception": false,
     "start_time": "2024-03-10T10:19:44.535322",
     "status": "completed"
    },
    "tags": []
   },
   "outputs": [
    {
     "name": "stdout",
     "output_type": "stream",
     "text": [
      "Service 'grayify' already exists.\n"
     ]
    }
   ],
   "source": [
    "try:\n",
    "    service = oscar_client.get_service(service_name)\n",
    "    print(f\"Service '{service_name}' already exists.\")\n",
    "except Exception as e:\n",
    "    print(f\"Service '{service_name}' does not exist, creating...\")\n",
    "    try:\n",
    "        oscar_client.create_service(f\"{service_name}.yaml\")\n",
    "        print(\"Service created successfully.\")\n",
    "    except Exception as ex:\n",
    "        print(f\"Error creating service: {ex}\")"
   ]
  },
  {
   "cell_type": "markdown",
   "id": "21357425-abb7-4c61-8021-d9e84b05f234",
   "metadata": {
    "papermill": {
     "duration": 0.012351,
     "end_time": "2024-03-10T10:19:46.996222",
     "exception": false,
     "start_time": "2024-03-10T10:19:46.983871",
     "status": "completed"
    },
    "tags": []
   },
   "source": [
    "# Run the service"
   ]
  },
  {
   "cell_type": "code",
   "execution_count": 8,
   "id": "ed18fa7a-188f-4738-a212-fad93b260edf",
   "metadata": {
    "execution": {
     "iopub.execute_input": "2024-03-10T10:19:47.031330Z",
     "iopub.status.busy": "2024-03-10T10:19:47.027918Z",
     "iopub.status.idle": "2024-03-10T10:19:56.121530Z",
     "shell.execute_reply": "2024-03-10T10:19:56.122010Z"
    },
    "papermill": {
     "duration": 9.114621,
     "end_time": "2024-03-10T10:19:56.122467",
     "exception": false,
     "start_time": "2024-03-10T10:19:47.007846",
     "status": "completed"
    },
    "tags": []
   },
   "outputs": [
    {
     "name": "stdout",
     "output_type": "stream",
     "text": [
      "Error decoding output: Invalid base64 string.\n"
     ]
    }
   ],
   "source": [
    "response = oscar_client.run_service(service_name, input=image_file_path, output=output_dir)"
   ]
  },
  {
   "cell_type": "markdown",
   "id": "b03ab8bd-f91d-4602-bb08-9bc85f797d79",
   "metadata": {
    "papermill": {
     "duration": 0.010309,
     "end_time": "2024-03-10T10:19:56.145748",
     "exception": false,
     "start_time": "2024-03-10T10:19:56.135439",
     "status": "completed"
    },
    "tags": []
   },
   "source": [
    "# Process the response"
   ]
  },
  {
   "cell_type": "code",
   "execution_count": 9,
   "id": "a922baed-b654-468a-8177-2bc81b40fbd0",
   "metadata": {
    "execution": {
     "iopub.execute_input": "2024-03-10T10:19:56.175938Z",
     "iopub.status.busy": "2024-03-10T10:19:56.175169Z",
     "iopub.status.idle": "2024-03-10T10:19:56.188234Z",
     "shell.execute_reply": "2024-03-10T10:19:56.187788Z"
    },
    "papermill": {
     "duration": 0.033974,
     "end_time": "2024-03-10T10:19:56.188550",
     "exception": false,
     "start_time": "2024-03-10T10:19:56.154576",
     "status": "completed"
    },
    "tags": []
   },
   "outputs": [
    {
     "name": "stdout",
     "output_type": "stream",
     "text": [
      "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\n",
      "\n"
     ]
    }
   ],
   "source": [
    "if response.status_code == 200:\n",
    "    # Process grayify service response\n",
    "    data = response.text\n",
    "    # No need to create a new directory, as output_file already includes the correct path\n",
    "    # os.makedirs('./output/b64', exist_ok=True)  # Esta línea ya no es necesaria\n",
    "    # Use the output_file variable directly\n",
    "    print(data)\n",
    "    with open(output_dir, 'w') as f:\n",
    "        f.write(data)\n",
    "else:\n",
    "    print(f\"Error in the execution of 'grayify' service: {response.status_code} {response.text}\")"
   ]
  }
 ],
 "metadata": {
  "kernelspec": {
   "display_name": "Python 3 (ipykernel)",
   "language": "python",
   "name": "python3"
  },
  "language_info": {
   "codemirror_mode": {
    "name": "ipython",
    "version": 3
   },
   "file_extension": ".py",
   "mimetype": "text/x-python",
   "name": "python",
   "nbconvert_exporter": "python",
   "pygments_lexer": "ipython3",
   "version": "3.10.6"
  },
  "papermill": {
   "default_parameters": {},
   "duration": 20.768379,
   "end_time": "2024-03-10T10:19:56.528944",
   "environment_variables": {},
   "exception": null,
   "input_path": "/home/jovyan/tutorial/ai4-compose/elyra/examples/grayify+plants-classification/oscar_service_image.ipynb",
   "output_path": "/home/jovyan/tutorial/ai4-compose/elyra/examples/grayify+plants-classification/oscar_service_image.ipynb",
   "parameters": {},
   "start_time": "2024-03-10T10:19:35.760565",
   "version": "2.3.4"
  }
 },
 "nbformat": 4,
 "nbformat_minor": 5
}