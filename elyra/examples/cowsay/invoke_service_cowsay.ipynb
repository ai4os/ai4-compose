{
 "cells": [
  {
   "cell_type": "code",
   "execution_count": 1,
   "id": "1bc2acc4-a4f5-4f25-9f6f-b0f0004527fb",
   "metadata": {
    "execution": {
     "iopub.execute_input": "2025-07-02T08:08:27.072744Z",
     "iopub.status.busy": "2025-07-02T08:08:27.071977Z",
     "iopub.status.idle": "2025-07-02T08:08:27.432143Z",
     "shell.execute_reply": "2025-07-02T08:08:27.431514Z"
    },
    "papermill": {
     "duration": 0.384682,
     "end_time": "2025-07-02T08:08:27.432587",
     "exception": false,
     "start_time": "2025-07-02T08:08:27.047905",
     "status": "completed"
    },
    "tags": []
   },
   "outputs": [],
   "source": [
    "import os\n",
    "import json\n",
    "import pickle\n",
    "from oscar_python.client import Client"
   ]
  },
  {
   "cell_type": "code",
   "execution_count": 2,
   "id": "ad45196e-3ddf-4aa2-80c0-4ad001b5d867",
   "metadata": {
    "execution": {
     "iopub.execute_input": "2025-07-02T08:08:27.456996Z",
     "iopub.status.busy": "2025-07-02T08:08:27.456272Z",
     "iopub.status.idle": "2025-07-02T08:08:27.460929Z",
     "shell.execute_reply": "2025-07-02T08:08:27.461316Z"
    },
    "papermill": {
     "duration": 0.02175,
     "end_time": "2025-07-02T08:08:27.461666",
     "exception": false,
     "start_time": "2025-07-02T08:08:27.439916",
     "status": "completed"
    },
    "tags": []
   },
   "outputs": [],
   "source": [
    "service_name = os.getenv(\"SERVICE_NAME\", \"cowsay\")  # Default to \"cowsay\"\n",
    "text_input = os.getenv(\"TEXT_INPUT\", \"Hello, I am a cow!\")  # Default message"
   ]
  },
  {
   "cell_type": "code",
   "execution_count": 3,
   "id": "641887e2-c217-4c87-bffb-a4b3af6ac7bd",
   "metadata": {
    "execution": {
     "iopub.execute_input": "2025-07-02T08:08:27.487543Z",
     "iopub.status.busy": "2025-07-02T08:08:27.486841Z",
     "iopub.status.idle": "2025-07-02T08:08:27.496829Z",
     "shell.execute_reply": "2025-07-02T08:08:27.497198Z"
    },
    "papermill": {
     "duration": 0.028464,
     "end_time": "2025-07-02T08:08:27.497572",
     "exception": false,
     "start_time": "2025-07-02T08:08:27.469108",
     "status": "completed"
    },
    "tags": []
   },
   "outputs": [
    {
     "name": "stdout",
     "output_type": "stream",
     "text": [
      "OSCAR client loaded successfully.\n"
     ]
    }
   ],
   "source": [
    "# Load the OSCAR client from the previously saved configuration\n",
    "client_file_path = \"client.pkl\"\n",
    "if not os.path.exists(client_file_path):\n",
    "    raise FileNotFoundError(f\"Client file not found at {client_file_path}\")\n",
    "\n",
    "with open(client_file_path, \"rb\") as client_file:\n",
    "    oscar_client = pickle.load(client_file)\n",
    "    print(\"OSCAR client loaded successfully.\")"
   ]
  },
  {
   "cell_type": "code",
   "execution_count": 4,
   "id": "3faf41bd-135f-4e3f-95ff-8159ffe56a74",
   "metadata": {
    "execution": {
     "iopub.execute_input": "2025-07-02T08:08:27.526652Z",
     "iopub.status.busy": "2025-07-02T08:08:27.525951Z",
     "iopub.status.idle": "2025-07-02T08:08:28.645652Z",
     "shell.execute_reply": "2025-07-02T08:08:28.644380Z"
    },
    "papermill": {
     "duration": 1.14098,
     "end_time": "2025-07-02T08:08:28.645971",
     "exception": false,
     "start_time": "2025-07-02T08:08:27.504991",
     "status": "completed"
    },
    "tags": []
   },
   "outputs": [
    {
     "name": "stdout",
     "output_type": "stream",
     "text": [
      "Service 'cowsay' already exists.\n"
     ]
    }
   ],
   "source": [
    "try:\n",
    "    service = oscar_client.get_service(service_name)\n",
    "    print(f\"Service '{service_name}' already exists.\")\n",
    "except Exception as e:\n",
    "    print(f\"Service '{service_name}' does not exist or could not be accessed: {e}\")"
   ]
  },
  {
   "cell_type": "code",
   "execution_count": 5,
   "id": "38701805-0e3f-40e7-a8ab-416abbf88ccf",
   "metadata": {
    "execution": {
     "iopub.execute_input": "2025-07-02T08:08:28.673287Z",
     "iopub.status.busy": "2025-07-02T08:08:28.672502Z",
     "iopub.status.idle": "2025-07-02T08:08:38.937569Z",
     "shell.execute_reply": "2025-07-02T08:08:38.935880Z"
    },
    "papermill": {
     "duration": 10.283555,
     "end_time": "2025-07-02T08:08:38.937910",
     "exception": false,
     "start_time": "2025-07-02T08:08:28.654355",
     "status": "completed"
    },
    "tags": []
   },
   "outputs": [
    {
     "name": "stdout",
     "output_type": "stream",
     "text": [
      "Cowsay response:\n",
      " ______________\n",
      "< Hello world! >\n",
      " --------------\n",
      "        \\   ^__^\n",
      "         \\  (oo)\\_______\n",
      "            (__)\\       )\\/\\\n",
      "                ||----w |\n",
      "                ||     ||\n",
      "\n",
      "\n"
     ]
    }
   ],
   "source": [
    "message_dict = {\"message\": text_input}\n",
    "message_json = json.dumps(message_dict)\n",
    "\n",
    "try:\n",
    "    response = oscar_client.run_service(service_name, input=message_json)\n",
    "    if response.status_code == 200:\n",
    "        print(\"Cowsay response:\")\n",
    "        print(response.text)\n",
    "    else:\n",
    "        print(f\"Error invoking service '{service_name}': {response.status_code} {response.text}\")\n",
    "except Exception as e:\n",
    "    raise RuntimeError(f\"Error invoking service '{service_name}': {e}\")\n"
   ]
  }
 ],
 "metadata": {
  "kernelspec": {
   "display_name": "Python 3 (ipykernel)",
   "language": "python",
   "name": "python3"
  },
  "language_info": {
   "codemirror_mode": {
    "name": "ipython",
    "version": 3
   },
   "file_extension": ".py",
   "mimetype": "text/x-python",
   "name": "python",
   "nbconvert_exporter": "python",
   "pygments_lexer": "ipython3",
   "version": "3.10.6"
  },
  "papermill": {
   "default_parameters": {},
   "duration": 13.314027,
   "end_time": "2025-07-02T08:08:39.273031",
   "environment_variables": {},
   "exception": null,
   "input_path": "/home/jovyan/tutorial/ai4-compose/elyra/examples/cowsay/invoke_service_cowsay.ipynb",
   "output_path": "/home/jovyan/tutorial/ai4-compose/elyra/examples/cowsay/invoke_service_cowsay.ipynb",
   "parameters": {},
   "start_time": "2025-07-02T08:08:25.959004",
   "version": "2.3.4"
  }
 },
 "nbformat": 4,
 "nbformat_minor": 5
}