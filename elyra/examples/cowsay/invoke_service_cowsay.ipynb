{
 "cells": [
  {
   "cell_type": "code",
   "execution_count": 1,
   "id": "1bc2acc4-a4f5-4f25-9f6f-b0f0004527fb",
   "metadata": {
    "execution": {
     "iopub.execute_input": "2025-01-17T12:38:28.262067Z",
     "iopub.status.busy": "2025-01-17T12:38:28.255882Z",
     "iopub.status.idle": "2025-01-17T12:38:28.596622Z",
     "shell.execute_reply": "2025-01-17T12:38:28.596005Z"
    },
    "papermill": {
     "duration": 0.360284,
     "end_time": "2025-01-17T12:38:28.597097",
     "exception": false,
     "start_time": "2025-01-17T12:38:28.236813",
     "status": "completed"
    },
    "tags": []
   },
   "outputs": [],
   "source": [
    "import os\n",
    "import json\n",
    "import pickle\n",
    "from oscar_python.client import Client"
   ]
  },
  {
   "cell_type": "code",
   "execution_count": 2,
   "id": "ad45196e-3ddf-4aa2-80c0-4ad001b5d867",
   "metadata": {
    "execution": {
     "iopub.execute_input": "2025-01-17T12:38:28.626458Z",
     "iopub.status.busy": "2025-01-17T12:38:28.625787Z",
     "iopub.status.idle": "2025-01-17T12:38:28.630840Z",
     "shell.execute_reply": "2025-01-17T12:38:28.631205Z"
    },
    "papermill": {
     "duration": 0.023257,
     "end_time": "2025-01-17T12:38:28.631547",
     "exception": false,
     "start_time": "2025-01-17T12:38:28.608290",
     "status": "completed"
    },
    "tags": []
   },
   "outputs": [],
   "source": [
    "service_name = os.getenv(\"SERVICE_NAME\", \"cowsay\")  # Default to \"cowsay\"\n",
    "text_input = os.getenv(\"TEXT_INPUT\", \"Hello, I am a cow!\")  # Default message"
   ]
  },
  {
   "cell_type": "code",
   "execution_count": 3,
   "id": "641887e2-c217-4c87-bffb-a4b3af6ac7bd",
   "metadata": {
    "execution": {
     "iopub.execute_input": "2025-01-17T12:38:28.657327Z",
     "iopub.status.busy": "2025-01-17T12:38:28.656556Z",
     "iopub.status.idle": "2025-01-17T12:38:28.665812Z",
     "shell.execute_reply": "2025-01-17T12:38:28.665309Z"
    },
    "papermill": {
     "duration": 0.027209,
     "end_time": "2025-01-17T12:38:28.666113",
     "exception": false,
     "start_time": "2025-01-17T12:38:28.638904",
     "status": "completed"
    },
    "tags": []
   },
   "outputs": [
    {
     "name": "stdout",
     "output_type": "stream",
     "text": [
      "OSCAR client loaded successfully.\n"
     ]
    }
   ],
   "source": [
    "# Load the OSCAR client from the previously saved configuration\n",
    "client_file_path = \"client.pkl\"\n",
    "if not os.path.exists(client_file_path):\n",
    "    raise FileNotFoundError(f\"Client file not found at {client_file_path}\")\n",
    "\n",
    "with open(client_file_path, \"rb\") as client_file:\n",
    "    oscar_client = pickle.load(client_file)\n",
    "    print(\"OSCAR client loaded successfully.\")"
   ]
  },
  {
   "cell_type": "code",
   "execution_count": 4,
   "id": "3faf41bd-135f-4e3f-95ff-8159ffe56a74",
   "metadata": {
    "execution": {
     "iopub.execute_input": "2025-01-17T12:38:28.695759Z",
     "iopub.status.busy": "2025-01-17T12:38:28.687540Z",
     "iopub.status.idle": "2025-01-17T12:38:29.013270Z",
     "shell.execute_reply": "2025-01-17T12:38:29.013648Z"
    },
    "papermill": {
     "duration": 0.340374,
     "end_time": "2025-01-17T12:38:29.014085",
     "exception": false,
     "start_time": "2025-01-17T12:38:28.673711",
     "status": "completed"
    },
    "tags": []
   },
   "outputs": [
    {
     "name": "stdout",
     "output_type": "stream",
     "text": [
      "Service 'cowsay' already exists.\n"
     ]
    }
   ],
   "source": [
    "try:\n",
    "    service = oscar_client.get_service(service_name)\n",
    "    print(f\"Service '{service_name}' already exists.\")\n",
    "except Exception as e:\n",
    "    print(f\"Service '{service_name}' does not exist or could not be accessed: {e}\")"
   ]
  },
  {
   "cell_type": "code",
   "execution_count": 5,
   "id": "38701805-0e3f-40e7-a8ab-416abbf88ccf",
   "metadata": {
    "execution": {
     "iopub.execute_input": "2025-01-17T12:38:29.046473Z",
     "iopub.status.busy": "2025-01-17T12:38:29.041398Z",
     "iopub.status.idle": "2025-01-17T12:38:33.411551Z",
     "shell.execute_reply": "2025-01-17T12:38:33.411101Z"
    },
    "papermill": {
     "duration": 4.388811,
     "end_time": "2025-01-17T12:38:33.411896",
     "exception": false,
     "start_time": "2025-01-17T12:38:29.023085",
     "status": "completed"
    },
    "tags": []
   },
   "outputs": [
    {
     "name": "stdout",
     "output_type": "stream",
     "text": [
      "Cowsay response:\n",
      " _____________________________\n",
      "< {\"message\": \"Hello world!\"} >\n",
      " -----------------------------\n",
      "        \\   ^__^\n",
      "         \\  (oo)\\_______\n",
      "            (__)\\       )\\/\\\n",
      "                ||----w |\n",
      "                ||     ||\n",
      "\n",
      "\n"
     ]
    }
   ],
   "source": [
    "message_dict = {\"message\": text_input}\n",
    "message_json = json.dumps(message_dict)\n",
    "\n",
    "try:\n",
    "    response = oscar_client.run_service(service_name, input=message_json)\n",
    "    if response.status_code == 200:\n",
    "        print(\"Cowsay response:\")\n",
    "        print(response.text)\n",
    "    else:\n",
    "        print(f\"Error invoking service '{service_name}': {response.status_code} {response.text}\")\n",
    "except Exception as e:\n",
    "    raise RuntimeError(f\"Error invoking service '{service_name}': {e}\")\n"
   ]
  }
 ],
 "metadata": {
  "kernelspec": {
   "display_name": "Python 3 (ipykernel)",
   "language": "python",
   "name": "python3"
  },
  "language_info": {
   "codemirror_mode": {
    "name": "ipython",
    "version": 3
   },
   "file_extension": ".py",
   "mimetype": "text/x-python",
   "name": "python",
   "nbconvert_exporter": "python",
   "pygments_lexer": "ipython3",
   "version": "3.10.6"
  },
  "papermill": {
   "default_parameters": {},
   "duration": 6.647024,
   "end_time": "2025-01-17T12:38:33.747080",
   "environment_variables": {},
   "exception": null,
   "input_path": "/home/jovyan/TUTORIAL/invoke_service_cowsay.ipynb",
   "output_path": "/home/jovyan/TUTORIAL/invoke_service_cowsay.ipynb",
   "parameters": {},
   "start_time": "2025-01-17T12:38:27.100056",
   "version": "2.3.4"
  }
 },
 "nbformat": 4,
 "nbformat_minor": 5
}