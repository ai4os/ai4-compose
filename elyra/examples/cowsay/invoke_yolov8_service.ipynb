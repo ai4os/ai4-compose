{
 "cells": [
  {
   "cell_type": "code",
   "execution_count": 1,
   "id": "8d4a72e5-72a7-408f-9510-4d97d9275928",
   "metadata": {
    "execution": {
     "iopub.execute_input": "2024-11-21T19:09:45.628082Z",
     "iopub.status.busy": "2024-11-21T19:09:45.627379Z",
     "iopub.status.idle": "2024-11-21T19:09:45.967198Z",
     "shell.execute_reply": "2024-11-21T19:09:45.967621Z"
    },
    "papermill": {
     "duration": 0.364972,
     "end_time": "2024-11-21T19:09:45.968186",
     "exception": false,
     "start_time": "2024-11-21T19:09:45.603214",
     "status": "completed"
    },
    "tags": []
   },
   "outputs": [],
   "source": [
    "import os\n",
    "import pickle\n",
    "from oscar_python.client import Client"
   ]
  },
  {
   "cell_type": "code",
   "execution_count": 2,
   "id": "8ea0aa33-6e0c-4780-b2b5-ca2710cda615",
   "metadata": {
    "execution": {
     "iopub.execute_input": "2024-11-21T19:09:45.992452Z",
     "iopub.status.busy": "2024-11-21T19:09:45.991754Z",
     "iopub.status.idle": "2024-11-21T19:09:45.997063Z",
     "shell.execute_reply": "2024-11-21T19:09:45.996519Z"
    },
    "papermill": {
     "duration": 0.021773,
     "end_time": "2024-11-21T19:09:45.997377",
     "exception": false,
     "start_time": "2024-11-21T19:09:45.975604",
     "status": "completed"
    },
    "tags": []
   },
   "outputs": [],
   "source": [
    "# Read environment variables\n",
    "service_name = os.getenv(\"SERVICE_NAME\", \"yolov8\")  # Default service name\n",
    "input_image_path = os.getenv(\"INPUT_IMAGE_PATH\", \"input.jpg\")  # Default input image\n",
    "output_text_path = os.getenv(\"OUTPUT_TEXT_PATH\", \"output/service_response.txt\")  # Path to save the service response"
   ]
  },
  {
   "cell_type": "code",
   "execution_count": 3,
   "id": "77b5530f-c086-46a3-add9-868308a2098a",
   "metadata": {
    "execution": {
     "iopub.execute_input": "2024-11-21T19:09:46.022514Z",
     "iopub.status.busy": "2024-11-21T19:09:46.021835Z",
     "iopub.status.idle": "2024-11-21T19:09:46.028490Z",
     "shell.execute_reply": "2024-11-21T19:09:46.028048Z"
    },
    "papermill": {
     "duration": 0.024258,
     "end_time": "2024-11-21T19:09:46.028832",
     "exception": false,
     "start_time": "2024-11-21T19:09:46.004574",
     "status": "completed"
    },
    "tags": []
   },
   "outputs": [
    {
     "name": "stdout",
     "output_type": "stream",
     "text": [
      "Input image 'input_image.jpg' is ready.\n"
     ]
    }
   ],
   "source": [
    "# Check if input image exists\n",
    "if not os.path.exists(input_image_path):\n",
    "    raise FileNotFoundError(f\"Input image '{input_image_path}' not found.\")\n",
    "else:\n",
    "    print(f\"Input image '{input_image_path}' is ready.\")"
   ]
  },
  {
   "cell_type": "code",
   "execution_count": 4,
   "id": "47f476ca-454b-48a5-b05c-e4dcf583bda9",
   "metadata": {
    "execution": {
     "iopub.execute_input": "2024-11-21T19:09:46.053022Z",
     "iopub.status.busy": "2024-11-21T19:09:46.051695Z",
     "iopub.status.idle": "2024-11-21T19:09:46.059525Z",
     "shell.execute_reply": "2024-11-21T19:09:46.059074Z"
    },
    "papermill": {
     "duration": 0.022948,
     "end_time": "2024-11-21T19:09:46.059810",
     "exception": false,
     "start_time": "2024-11-21T19:09:46.036862",
     "status": "completed"
    },
    "tags": []
   },
   "outputs": [
    {
     "name": "stdout",
     "output_type": "stream",
     "text": [
      "Output directory 'output' ensured.\n"
     ]
    }
   ],
   "source": [
    "# Ensure the output directory exists\n",
    "output_dir = os.path.dirname(output_text_path)\n",
    "os.makedirs(output_dir, exist_ok=True)\n",
    "print(f\"Output directory '{output_dir}' ensured.\")"
   ]
  },
  {
   "cell_type": "code",
   "execution_count": 5,
   "id": "0f8d2d5d-e711-4c5a-be4e-fad345d6b842",
   "metadata": {
    "execution": {
     "iopub.execute_input": "2024-11-21T19:09:46.083426Z",
     "iopub.status.busy": "2024-11-21T19:09:46.082754Z",
     "iopub.status.idle": "2024-11-21T19:09:46.090970Z",
     "shell.execute_reply": "2024-11-21T19:09:46.091396Z"
    },
    "papermill": {
     "duration": 0.024962,
     "end_time": "2024-11-21T19:09:46.091710",
     "exception": false,
     "start_time": "2024-11-21T19:09:46.066748",
     "status": "completed"
    },
    "tags": []
   },
   "outputs": [
    {
     "name": "stdout",
     "output_type": "stream",
     "text": [
      "OSCAR client loaded.\n"
     ]
    }
   ],
   "source": [
    "# Load the OSCAR client from a previously saved configuration\n",
    "with open(\"client.pkl\", \"rb\") as client_file:\n",
    "    oscar_client = pickle.load(client_file)\n",
    "print(\"OSCAR client loaded.\")"
   ]
  },
  {
   "cell_type": "code",
   "execution_count": 6,
   "id": "fefc9fdd-b1a0-4650-a410-7083d85c3fa4",
   "metadata": {
    "execution": {
     "iopub.execute_input": "2024-11-21T19:09:46.123219Z",
     "iopub.status.busy": "2024-11-21T19:09:46.122204Z",
     "iopub.status.idle": "2024-11-21T19:09:59.093508Z",
     "shell.execute_reply": "2024-11-21T19:09:59.092712Z"
    },
    "papermill": {
     "duration": 12.994113,
     "end_time": "2024-11-21T19:09:59.093894",
     "exception": false,
     "start_time": "2024-11-21T19:09:46.099781",
     "status": "completed"
    },
    "tags": []
   },
   "outputs": [
    {
     "name": "stdout",
     "output_type": "stream",
     "text": [
      "Service response status code: 200\n",
      "Service response saved to 'output/service_response.txt'.\n"
     ]
    }
   ],
   "source": [
    "# Invoke the service and save the response\n",
    "try:\n",
    "    response = oscar_client.run_service(\n",
    "        service_name,\n",
    "        input=input_image_path,  # Pass the image path directly\n",
    "        output=None,  # No output file expected\n",
    "        timeout=300  # Timeout set to 5 minutes\n",
    "    )\n",
    "    print(f\"Service response status code: {response.status_code}\")\n",
    "\n",
    "    # Save the full response text to a file\n",
    "    with open(output_text_path, \"w\") as file:\n",
    "        file.write(response.text)\n",
    "    print(f\"Service response saved to '{output_text_path}'.\")\n",
    "except Exception as e:\n",
    "    raise RuntimeError(f\"Error invoking service '{service_name}': {e}\")\n"
   ]
  },
  {
   "cell_type": "code",
   "execution_count": 7,
   "id": "650f1389-10ae-4b90-a07c-8d080903f2bf",
   "metadata": {
    "execution": {
     "iopub.execute_input": "2024-11-21T19:09:59.122487Z",
     "iopub.status.busy": "2024-11-21T19:09:59.117391Z",
     "iopub.status.idle": "2024-11-21T19:09:59.130919Z",
     "shell.execute_reply": "2024-11-21T19:09:59.130254Z"
    },
    "papermill": {
     "duration": 0.026557,
     "end_time": "2024-11-21T19:09:59.131228",
     "exception": false,
     "start_time": "2024-11-21T19:09:59.104671",
     "status": "completed"
    },
    "tags": []
   },
   "outputs": [
    {
     "name": "stdout",
     "output_type": "stream",
     "text": [
      "Response file content preview:\n",
      "2024-11-21 19:09:50,403 - supervisor - INFO - Reading storage configuration\n",
      "2024-11-21 19:09:50,438 - supervisor - INFO - SUPERVISOR: Initializing Binary supervisor\n",
      "2024-11-21 19:09:50,478 - supervisor - INFO - Found 'LOCAL' input provider\n",
      "2024-11-21 19:09:50,480 - supervisor - INFO - INPUT_FILE_PATH variable set to '/tmp/tmphzvpuwly/event-file-de63f865-1cbc-4d2a-a8ee-3ce517946df1'\n",
      "2024-11-21 19:09:50,480 - supervisor - INFO - Script file found in '/oscar/config/script.sh'\n",
      "2024-11-21 19:09:58,978 - supervisor - INFO - Searching for files to upload in folder '/tmp/tmppktwkoi7'\n",
      "2024-11-21 19:09:58,979 - supervisor - INFO - Checking files for uploading to 'minio.default' on path: 'yolov8kit/output'\n",
      "2024-11-21 19:09:58,979 - supervisor - INFO - Creating response\n",
      "SCRIPT: Invoked deepaas-cli command.\n",
      "2024-11-21 19:09:55.520 19 INFO deepaas.cmd.cli [-] predict was called.\n",
      "2024-11-21 19:09:55.522 19 INFO yolov8_api.api.utils [-] Original model name: yolov8n.pt\n",
      "2024-11-21 19:09:55.522 19 INFO y\n"
     ]
    }
   ],
   "source": [
    "# Inspect the content of the response file\n",
    "if os.path.exists(output_text_path):\n",
    "    with open(output_text_path, \"r\") as file:\n",
    "        response_preview = file.read(1000)  # Read the first 1000 characters\n",
    "        print(\"Response file content preview:\")\n",
    "        print(response_preview)\n",
    "else:\n",
    "    print(f\"Response file '{output_text_path}' not found.\")\n"
   ]
  }
 ],
 "metadata": {
  "kernelspec": {
   "display_name": "Python 3 (ipykernel)",
   "language": "python",
   "name": "python3"
  },
  "language_info": {
   "codemirror_mode": {
    "name": "ipython",
    "version": 3
   },
   "file_extension": ".py",
   "mimetype": "text/x-python",
   "name": "python",
   "nbconvert_exporter": "python",
   "pygments_lexer": "ipython3",
   "version": "3.10.6"
  },
  "papermill": {
   "default_parameters": {},
   "duration": 14.773673,
   "end_time": "2024-11-21T19:09:59.466102",
   "environment_variables": {},
   "exception": null,
   "input_path": "/home/jovyan/test/invoke_yolov8_service.ipynb",
   "output_path": "/home/jovyan/test/invoke_yolov8_service.ipynb",
   "parameters": {},
   "start_time": "2024-11-21T19:09:44.692429",
   "version": "2.3.4"
  }
 },
 "nbformat": 4,
 "nbformat_minor": 5
}