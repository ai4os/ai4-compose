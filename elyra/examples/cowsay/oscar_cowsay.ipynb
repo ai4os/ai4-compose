{
 "cells": [
  {
   "cell_type": "markdown",
   "id": "4a582302-1262-4748-9759-3c7dfd9f048f",
   "metadata": {
    "papermill": {
     "duration": 0.010804,
     "end_time": "2023-11-13T10:02:59.231453",
     "exception": false,
     "start_time": "2023-11-13T10:02:59.220649",
     "status": "completed"
    },
    "tags": []
   },
   "source": [
    "# Import libraries"
   ]
  },
  {
   "cell_type": "code",
   "execution_count": null,
   "id": "da8c1dc8-49ea-453f-b2e3-e3494fa51250",
   "metadata": {
    "execution": {
     "iopub.execute_input": "2023-11-13T10:02:59.269077Z",
     "iopub.status.busy": "2023-11-13T10:02:59.266876Z",
     "iopub.status.idle": "2023-11-13T10:03:06.611240Z",
     "shell.execute_reply": "2023-11-13T10:03:06.611635Z"
    },
    "papermill": {
     "duration": 7.37104,
     "end_time": "2023-11-13T10:03:06.612197",
     "exception": false,
     "start_time": "2023-11-13T10:02:59.241157",
     "status": "completed"
    },
    "tags": []
   },
   "outputs": [],
   "source": [
    "import os\n",
    "import json\n",
    "import sys\n",
    "!{sys.executable} -m pip install oscar-python\n",
    "!pip install liboidcagent\n",
    "from oscar_python.client import Client"
   ]
  },
  {
   "cell_type": "markdown",
   "id": "679750c1-ab99-41f6-832e-da1a801aea61",
   "metadata": {
    "papermill": {
     "duration": 0.01072,
     "end_time": "2023-11-13T10:03:06.634669",
     "exception": false,
     "start_time": "2023-11-13T10:03:06.623949",
     "status": "completed"
    },
    "tags": []
   },
   "source": [
    "# GET TOKEN FROM EGI"
   ]
  },
  {
   "cell_type": "code",
   "execution_count": null,
   "id": "a9ee9980-006b-46c2-8bc0-3438a32e3d81",
   "metadata": {
    "execution": {
     "iopub.execute_input": "2023-11-13T10:03:06.661795Z",
     "iopub.status.busy": "2023-11-13T10:03:06.661102Z",
     "iopub.status.idle": "2023-11-13T10:03:06.666122Z",
     "shell.execute_reply": "2023-11-13T10:03:06.665445Z"
    },
    "papermill": {
     "duration": 0.022505,
     "end_time": "2023-11-13T10:03:06.666447",
     "exception": false,
     "start_time": "2023-11-13T10:03:06.643942",
     "status": "completed"
    },
    "tags": []
   },
   "outputs": [],
   "source": [
    "with open(\"/var/run/secrets/egi.eu/access_token\") as f:\n",
    "    access_token = f.read()"
   ]
  },
  {
   "cell_type": "markdown",
   "id": "63f65cff-a848-4313-949e-b636dab35368",
   "metadata": {
    "papermill": {
     "duration": 0.01029,
     "end_time": "2023-11-13T10:03:06.686695",
     "exception": false,
     "start_time": "2023-11-13T10:03:06.676405",
     "status": "completed"
    },
    "tags": []
   },
   "source": [
    "# Read credentials"
   ]
  },
  {
   "cell_type": "markdown",
   "id": "aee5805e-8f18-4c14-a546-f742f075357f",
   "metadata": {
    "execution": {
     "iopub.execute_input": "2023-11-13T10:01:51.137385Z",
     "iopub.status.busy": "2023-11-13T10:01:51.136762Z",
     "iopub.status.idle": "2023-11-13T10:01:51.287012Z",
     "shell.execute_reply": "2023-11-13T10:01:51.284856Z"
    },
    "papermill": {
     "duration": 0.008936,
     "end_time": "2023-11-13T10:03:06.704081",
     "exception": false,
     "start_time": "2023-11-13T10:03:06.695145",
     "status": "completed"
    },
    "tags": []
   },
   "source": [
    "json_path = os.path.join(\"./credentials\", os.environ.get(\"JSON_NAME\") + \".json\")\n",
    "with open(json_path) as f:\n",
    "    credentials = json.load(f)"
   ]
  },
  {
   "cell_type": "markdown",
   "id": "66a0a761-c620-4d43-9b65-30560943152e",
   "metadata": {
    "papermill": {
     "duration": 0.008071,
     "end_time": "2023-11-13T10:03:06.719458",
     "exception": false,
     "start_time": "2023-11-13T10:03:06.711387",
     "status": "completed"
    },
    "tags": []
   },
   "source": [
    "# Create OSCAR client with EGI TOKEN"
   ]
  },
  {
   "cell_type": "code",
   "execution_count": null,
   "id": "c600a629-6288-4df9-90a0-b85e8f339b3c",
   "metadata": {
    "execution": {
     "iopub.execute_input": "2023-11-13T10:03:06.744262Z",
     "iopub.status.busy": "2023-11-13T10:03:06.743717Z",
     "iopub.status.idle": "2023-11-13T10:03:06.748633Z",
     "shell.execute_reply": "2023-11-13T10:03:06.748262Z"
    },
    "papermill": {
     "duration": 0.021566,
     "end_time": "2023-11-13T10:03:06.748988",
     "exception": false,
     "start_time": "2023-11-13T10:03:06.727422",
     "status": "completed"
    },
    "tags": []
   },
   "outputs": [],
   "source": [
    "options_oidc = {'cluster_id':'oscar-egi-cloud',\n",
    "            'endpoint':'https://inference.cloud.ai4eosc.eu',\n",
    "            'oidc_token': access_token,\n",
    "            'ssl':'True'}\n",
    "\n",
    "oscar_client = Client(options=options_oidc)"
   ]
  },
  {
   "cell_type": "markdown",
   "id": "74e7371e-6a8a-4868-84bf-9f1ad41864d7",
   "metadata": {
    "papermill": {
     "duration": 0.009584,
     "end_time": "2023-11-13T10:03:06.769738",
     "exception": false,
     "start_time": "2023-11-13T10:03:06.760154",
     "status": "completed"
    },
    "tags": []
   },
   "source": [
    "# Create OSCAR client with the credentials"
   ]
  },
  {
   "cell_type": "raw",
   "id": "7fc4e0dd-7bc9-4076-82bb-27bc02c35379",
   "metadata": {
    "execution": {
     "iopub.execute_input": "2023-06-16T09:39:31.438515Z",
     "iopub.status.busy": "2023-06-16T09:39:31.438306Z",
     "iopub.status.idle": "2023-06-16T09:39:31.440741Z",
     "shell.execute_reply": "2023-06-16T09:39:31.440383Z"
    },
    "papermill": {
     "duration": 0.00802,
     "end_time": "2023-11-13T10:03:06.787021",
     "exception": false,
     "start_time": "2023-11-13T10:03:06.779001",
     "status": "completed"
    },
    "tags": []
   },
   "source": [
    "options_oidc = {'cluster_id': credentials['ID'],\n",
    "            'endpoint': credentials['ENDPOINT'],\n",
    "            'user': credentials['USER'],\n",
    "            'password': credentials['PASSWORD'],\n",
    "            'ssl': 'True'}\n",
    "\n",
    "oscar_client = Client(options = options_oidc)"
   ]
  },
  {
   "cell_type": "markdown",
   "id": "5394de5b-209d-48d6-8a99-5b52fae82f1d",
   "metadata": {
    "papermill": {
     "duration": 0.008726,
     "end_time": "2023-11-13T10:03:06.803276",
     "exception": false,
     "start_time": "2023-11-13T10:03:06.794550",
     "status": "completed"
    },
    "tags": []
   },
   "source": [
    "# Read text input"
   ]
  },
  {
   "cell_type": "code",
   "execution_count": null,
   "id": "b2f97f40-5065-4c78-9875-9fcc4d41c123",
   "metadata": {
    "execution": {
     "iopub.execute_input": "2023-11-13T10:03:06.827647Z",
     "iopub.status.busy": "2023-11-13T10:03:06.823491Z",
     "iopub.status.idle": "2023-11-13T10:03:06.841512Z",
     "shell.execute_reply": "2023-11-13T10:03:06.836816Z"
    },
    "papermill": {
     "duration": 0.032006,
     "end_time": "2023-11-13T10:03:06.841928",
     "exception": false,
     "start_time": "2023-11-13T10:03:06.809922",
     "status": "completed"
    },
    "tags": []
   },
   "outputs": [],
   "source": [
    "text_input = os.environ.get(\"TEXT_INPUT\")\n",
    "message_dict = {\"message\": text_input}\n",
    "message_json = json.dumps(message_dict)"
   ]
  },
  {
   "cell_type": "markdown",
   "id": "9f10caa6-316a-45aa-8e9b-6a53a0a4dd58",
   "metadata": {
    "papermill": {
     "duration": 0.013496,
     "end_time": "2023-11-13T10:03:06.870389",
     "exception": false,
     "start_time": "2023-11-13T10:03:06.856893",
     "status": "completed"
    },
    "tags": []
   },
   "source": [
    "# Create oscar service: cowsay"
   ]
  },
  {
   "cell_type": "code",
   "execution_count": null,
   "id": "d4d212c4-7376-4148-9d49-94d8243c02eb",
   "metadata": {
    "execution": {
     "iopub.execute_input": "2023-11-13T10:03:06.908895Z",
     "iopub.status.busy": "2023-11-13T10:03:06.907785Z",
     "iopub.status.idle": "2023-11-13T10:03:06.919346Z",
     "shell.execute_reply": "2023-11-13T10:03:06.918774Z"
    },
    "papermill": {
     "duration": 0.031376,
     "end_time": "2023-11-13T10:03:06.919719",
     "exception": false,
     "start_time": "2023-11-13T10:03:06.888343",
     "status": "completed"
    },
    "tags": []
   },
   "outputs": [],
   "source": [
    "try:\n",
    "    oscar_client.create_service(\"cowsay.yaml\")\n",
    "    print(\"Service created\")\n",
    "except Exception as ex:\n",
    "    print(\"Error creating service: \", ex)"
   ]
  },
  {
   "cell_type": "markdown",
   "id": "a54b3732-e2d0-4c66-a089-32328c212207",
   "metadata": {
    "papermill": {
     "duration": 0.010903,
     "end_time": "2023-11-13T10:03:06.940927",
     "exception": false,
     "start_time": "2023-11-13T10:03:06.930024",
     "status": "completed"
    },
    "tags": []
   },
   "source": [
    "# Use the service"
   ]
  },
  {
   "cell_type": "code",
   "execution_count": null,
   "id": "bc7e8e2a-8c03-4628-b365-af668cbd483c",
   "metadata": {
    "papermill": {
     "duration": 10.22733,
     "end_time": "2023-11-13T10:03:17.178634",
     "exception": false,
     "start_time": "2023-11-13T10:03:06.951304",
     "status": "completed"
    },
    "tags": []
   },
   "outputs": [],
   "source": [
    "response = oscar_client.run_service(\"cowsay\", input=message_json)\n",
    "\n",
    "if response.status_code == 200:\n",
    "    cowsay_data = response.text\n",
    "    print(cowsay_data)\n",
    "\n",
    "\n",
    "else:\n",
    "    print(f\"Error en la ejecución del servicio 'cowsay': {response.status_code} {response.text}\")"
   ]
  }
 ],
 "metadata": {
  "kernelspec": {
   "display_name": "Python 3 (ipykernel)",
   "language": "python",
   "name": "python3"
  },
  "language_info": {
   "codemirror_mode": {
    "name": "ipython",
    "version": 3
   },
   "file_extension": ".py",
   "mimetype": "text/x-python",
   "name": "python",
   "nbconvert_exporter": "python",
   "pygments_lexer": "ipython3",
   "version": "3.10.6"
  },
  "papermill": {
   "default_parameters": {},
   "duration": 19.302256,
   "end_time": "2023-11-13T10:03:17.521594",
   "environment_variables": {},
   "exception": null,
   "input_path": "/home/jovyan/presentacion/ai4-compose/elyra/examples/cowsay/oscar_cowsay.ipynb",
   "output_path": "/home/jovyan/presentacion/ai4-compose/elyra/examples/cowsay/oscar_cowsay.ipynb",
   "parameters": {},
   "start_time": "2023-11-13T10:02:58.219338",
   "version": "2.4.0"
  }
 },
 "nbformat": 4,
 "nbformat_minor": 5
}
