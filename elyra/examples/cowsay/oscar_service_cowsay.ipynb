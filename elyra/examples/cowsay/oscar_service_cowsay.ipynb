{
 "cells": [
  {
   "cell_type": "markdown",
   "id": "4a582302-1262-4748-9759-3c7dfd9f048f",
   "metadata": {
    "papermill": {
     "duration": 0.011163,
     "end_time": "2024-03-10T10:41:58.370179",
     "exception": false,
     "start_time": "2024-03-10T10:41:58.359016",
     "status": "completed"
    },
    "tags": []
   },
   "source": [
    "# Import libraries"
   ]
  },
  {
   "cell_type": "code",
   "execution_count": 1,
   "id": "da8c1dc8-49ea-453f-b2e3-e3494fa51250",
   "metadata": {
    "execution": {
     "iopub.execute_input": "2024-03-10T10:41:58.407794Z",
     "iopub.status.busy": "2024-03-10T10:41:58.406810Z",
     "iopub.status.idle": "2024-03-10T10:42:05.777154Z",
     "shell.execute_reply": "2024-03-10T10:42:05.776461Z"
    },
    "papermill": {
     "duration": 7.397601,
     "end_time": "2024-03-10T10:42:05.777567",
     "exception": false,
     "start_time": "2024-03-10T10:41:58.379966",
     "status": "completed"
    },
    "tags": []
   },
   "outputs": [
    {
     "name": "stdout",
     "output_type": "stream",
     "text": [
      "Requirement already satisfied: oscar-python in /opt/conda/lib/python3.10/site-packages (1.2.1)\r\n",
      "Requirement already satisfied: requests in /opt/conda/lib/python3.10/site-packages (from oscar-python) (2.28.1)\r\n",
      "Requirement already satisfied: webdavclient3==3.14.6 in /opt/conda/lib/python3.10/site-packages (from oscar-python) (3.14.6)\r\n",
      "Requirement already satisfied: setuptools>=40.8.0 in /opt/conda/lib/python3.10/site-packages (from oscar-python) (65.5.1)\r\n",
      "Requirement already satisfied: pyyaml in /opt/conda/lib/python3.10/site-packages (from oscar-python) (5.4.1)\r\n",
      "Requirement already satisfied: boto3 in /opt/conda/lib/python3.10/site-packages (from oscar-python) (1.27.1)\r\n",
      "Requirement already satisfied: aiohttp in /opt/conda/lib/python3.10/site-packages (from oscar-python) (3.8.4)\r\n",
      "Requirement already satisfied: lxml in /opt/conda/lib/python3.10/site-packages (from webdavclient3==3.14.6->oscar-python) (4.9.2)\r\n",
      "Requirement already satisfied: python-dateutil in /opt/conda/lib/python3.10/site-packages (from webdavclient3==3.14.6->oscar-python) (2.8.2)\r\n",
      "Requirement already satisfied: attrs>=17.3.0 in /opt/conda/lib/python3.10/site-packages (from aiohttp->oscar-python) (22.1.0)\r\n",
      "Requirement already satisfied: charset-normalizer<4.0,>=2.0 in /opt/conda/lib/python3.10/site-packages (from aiohttp->oscar-python) (2.1.1)\r\n",
      "Requirement already satisfied: async-timeout<5.0,>=4.0.0a3 in /opt/conda/lib/python3.10/site-packages (from aiohttp->oscar-python) (4.0.2)\r\n",
      "Requirement already satisfied: aiosignal>=1.1.2 in /opt/conda/lib/python3.10/site-packages (from aiohttp->oscar-python) (1.3.1)\r\n",
      "Requirement already satisfied: yarl<2.0,>=1.0 in /opt/conda/lib/python3.10/site-packages (from aiohttp->oscar-python) (1.9.2)\r\n",
      "Requirement already satisfied: frozenlist>=1.1.1 in /opt/conda/lib/python3.10/site-packages (from aiohttp->oscar-python) (1.3.3)\r\n",
      "Requirement already satisfied: multidict<7.0,>=4.5 in /opt/conda/lib/python3.10/site-packages (from aiohttp->oscar-python) (6.0.4)\r\n",
      "Requirement already satisfied: jmespath<2.0.0,>=0.7.1 in /opt/conda/lib/python3.10/site-packages (from boto3->oscar-python) (1.0.1)\r\n",
      "Requirement already satisfied: s3transfer<0.7.0,>=0.6.0 in /opt/conda/lib/python3.10/site-packages (from boto3->oscar-python) (0.6.1)\r\n",
      "Requirement already satisfied: botocore<1.31.0,>=1.30.1 in /opt/conda/lib/python3.10/site-packages (from boto3->oscar-python) (1.30.1)\r\n",
      "Requirement already satisfied: idna<4,>=2.5 in /opt/conda/lib/python3.10/site-packages (from requests->oscar-python) (3.4)\r\n",
      "Requirement already satisfied: urllib3<1.27,>=1.21.1 in /opt/conda/lib/python3.10/site-packages (from requests->oscar-python) (1.26.11)\r\n",
      "Requirement already satisfied: certifi>=2017.4.17 in /opt/conda/lib/python3.10/site-packages (from requests->oscar-python) (2023.5.7)\r\n"
     ]
    },
    {
     "name": "stdout",
     "output_type": "stream",
     "text": [
      "Requirement already satisfied: six>=1.5 in /opt/conda/lib/python3.10/site-packages (from python-dateutil->webdavclient3==3.14.6->oscar-python) (1.16.0)\r\n"
     ]
    },
    {
     "name": "stdout",
     "output_type": "stream",
     "text": [
      "Requirement already satisfied: liboidcagent in /opt/conda/lib/python3.10/site-packages (0.6.0)\r\n",
      "Requirement already satisfied: PyNaCl>=1.2.0 in /opt/conda/lib/python3.10/site-packages (from liboidcagent) (1.5.0)\r\n",
      "Requirement already satisfied: cffi>=1.4.1 in /opt/conda/lib/python3.10/site-packages (from PyNaCl>=1.2.0->liboidcagent) (1.15.1)\r\n",
      "Requirement already satisfied: pycparser in /opt/conda/lib/python3.10/site-packages (from cffi>=1.4.1->PyNaCl>=1.2.0->liboidcagent) (2.21)\r\n"
     ]
    }
   ],
   "source": [
    "import os\n",
    "import json\n",
    "import sys\n",
    "import base64\n",
    "!{sys.executable} -m pip install oscar-python\n",
    "!pip install liboidcagent\n",
    "from oscar_python.client import Client"
   ]
  },
  {
   "cell_type": "markdown",
   "id": "7bf29080-044b-4626-bc58-531c6c90a5ce",
   "metadata": {
    "papermill": {
     "duration": 0.00958,
     "end_time": "2024-03-10T10:42:05.799855",
     "exception": false,
     "start_time": "2024-03-10T10:42:05.790275",
     "status": "completed"
    },
    "tags": []
   },
   "source": [
    "# Function to decode base64 content"
   ]
  },
  {
   "cell_type": "code",
   "execution_count": 2,
   "id": "811d1729-2367-4089-86de-a7ba46f50d4f",
   "metadata": {
    "execution": {
     "iopub.execute_input": "2024-03-10T10:42:05.829077Z",
     "iopub.status.busy": "2024-03-10T10:42:05.828318Z",
     "iopub.status.idle": "2024-03-10T10:42:05.834008Z",
     "shell.execute_reply": "2024-03-10T10:42:05.833572Z"
    },
    "papermill": {
     "duration": 0.024596,
     "end_time": "2024-03-10T10:42:05.834295",
     "exception": false,
     "start_time": "2024-03-10T10:42:05.809699",
     "status": "completed"
    },
    "tags": []
   },
   "outputs": [],
   "source": [
    "def decode_base64(data):\n",
    "    return base64.b64decode(data).decode('utf-8')"
   ]
  },
  {
   "cell_type": "markdown",
   "id": "679750c1-ab99-41f6-832e-da1a801aea61",
   "metadata": {
    "papermill": {
     "duration": 0.010531,
     "end_time": "2024-03-10T10:42:05.856037",
     "exception": false,
     "start_time": "2024-03-10T10:42:05.845506",
     "status": "completed"
    },
    "tags": []
   },
   "source": [
    "# Read environment variables"
   ]
  },
  {
   "cell_type": "code",
   "execution_count": 3,
   "id": "a9ee9980-006b-46c2-8bc0-3438a32e3d81",
   "metadata": {
    "execution": {
     "iopub.execute_input": "2024-03-10T10:42:05.882919Z",
     "iopub.status.busy": "2024-03-10T10:42:05.882404Z",
     "iopub.status.idle": "2024-03-10T10:42:05.887086Z",
     "shell.execute_reply": "2024-03-10T10:42:05.887387Z"
    },
    "papermill": {
     "duration": 0.021334,
     "end_time": "2024-03-10T10:42:05.887647",
     "exception": false,
     "start_time": "2024-03-10T10:42:05.866313",
     "status": "completed"
    },
    "tags": []
   },
   "outputs": [],
   "source": [
    "token_file_path = os.getenv(\"TOKEN_FILE_PATH\")\n",
    "text_input = os.environ.get(\"TEXT_INPUT\")"
   ]
  },
  {
   "cell_type": "markdown",
   "id": "21f35bbc-bfb4-443d-9e51-b05236286d73",
   "metadata": {
    "papermill": {
     "duration": 0.009897,
     "end_time": "2024-03-10T10:42:05.907891",
     "exception": false,
     "start_time": "2024-03-10T10:42:05.897994",
     "status": "completed"
    },
    "tags": []
   },
   "source": [
    "# Read and decode the access token"
   ]
  },
  {
   "cell_type": "code",
   "execution_count": 4,
   "id": "3b0b3912-833e-463e-ab9a-df163e987924",
   "metadata": {
    "execution": {
     "iopub.execute_input": "2024-03-10T10:42:05.934718Z",
     "iopub.status.busy": "2024-03-10T10:42:05.934214Z",
     "iopub.status.idle": "2024-03-10T10:42:05.942250Z",
     "shell.execute_reply": "2024-03-10T10:42:05.941773Z"
    },
    "papermill": {
     "duration": 0.024274,
     "end_time": "2024-03-10T10:42:05.942557",
     "exception": false,
     "start_time": "2024-03-10T10:42:05.918283",
     "status": "completed"
    },
    "tags": []
   },
   "outputs": [],
   "source": [
    "with open(token_file_path, 'rb') as token_file:\n",
    "    encoded_token = token_file.read()\n",
    "access_token = decode_base64(encoded_token)"
   ]
  },
  {
   "cell_type": "markdown",
   "id": "66a0a761-c620-4d43-9b65-30560943152e",
   "metadata": {
    "papermill": {
     "duration": 0.00945,
     "end_time": "2024-03-10T10:42:05.963273",
     "exception": false,
     "start_time": "2024-03-10T10:42:05.953823",
     "status": "completed"
    },
    "tags": []
   },
   "source": [
    "# Create OSCAR client with EGI TOKEN"
   ]
  },
  {
   "cell_type": "code",
   "execution_count": 5,
   "id": "c600a629-6288-4df9-90a0-b85e8f339b3c",
   "metadata": {
    "execution": {
     "iopub.execute_input": "2024-03-10T10:42:05.988950Z",
     "iopub.status.busy": "2024-03-10T10:42:05.988332Z",
     "iopub.status.idle": "2024-03-10T10:42:05.993532Z",
     "shell.execute_reply": "2024-03-10T10:42:05.993089Z"
    },
    "papermill": {
     "duration": 0.022443,
     "end_time": "2024-03-10T10:42:05.993822",
     "exception": false,
     "start_time": "2024-03-10T10:42:05.971379",
     "status": "completed"
    },
    "tags": []
   },
   "outputs": [],
   "source": [
    "options_oidc = {'cluster_id':'oscar-egi-cloud',\n",
    "            'endpoint':'https://inference.cloud.ai4eosc.eu',\n",
    "            'oidc_token': access_token,\n",
    "            'ssl':'True'}\n",
    "\n",
    "oscar_client = Client(options=options_oidc)"
   ]
  },
  {
   "cell_type": "markdown",
   "id": "5394de5b-209d-48d6-8a99-5b52fae82f1d",
   "metadata": {
    "papermill": {
     "duration": 0.009691,
     "end_time": "2024-03-10T10:42:06.014489",
     "exception": false,
     "start_time": "2024-03-10T10:42:06.004798",
     "status": "completed"
    },
    "tags": []
   },
   "source": [
    "# Read text input"
   ]
  },
  {
   "cell_type": "code",
   "execution_count": 6,
   "id": "b2f97f40-5065-4c78-9875-9fcc4d41c123",
   "metadata": {
    "execution": {
     "iopub.execute_input": "2024-03-10T10:42:06.040492Z",
     "iopub.status.busy": "2024-03-10T10:42:06.039808Z",
     "iopub.status.idle": "2024-03-10T10:42:06.045059Z",
     "shell.execute_reply": "2024-03-10T10:42:06.044586Z"
    },
    "papermill": {
     "duration": 0.021805,
     "end_time": "2024-03-10T10:42:06.045366",
     "exception": false,
     "start_time": "2024-03-10T10:42:06.023561",
     "status": "completed"
    },
    "tags": []
   },
   "outputs": [],
   "source": [
    "message_dict = {\"message\": text_input}\n",
    "message_json = json.dumps(message_dict)"
   ]
  },
  {
   "cell_type": "markdown",
   "id": "9f10caa6-316a-45aa-8e9b-6a53a0a4dd58",
   "metadata": {
    "papermill": {
     "duration": 0.009375,
     "end_time": "2024-03-10T10:42:06.065996",
     "exception": false,
     "start_time": "2024-03-10T10:42:06.056621",
     "status": "completed"
    },
    "tags": []
   },
   "source": [
    "# Check if the service exists"
   ]
  },
  {
   "cell_type": "code",
   "execution_count": 7,
   "id": "d4d212c4-7376-4148-9d49-94d8243c02eb",
   "metadata": {
    "execution": {
     "iopub.execute_input": "2024-03-10T10:42:06.096588Z",
     "iopub.status.busy": "2024-03-10T10:42:06.096004Z",
     "iopub.status.idle": "2024-03-10T10:42:06.985181Z",
     "shell.execute_reply": "2024-03-10T10:42:06.983965Z"
    },
    "papermill": {
     "duration": 0.910911,
     "end_time": "2024-03-10T10:42:06.985519",
     "exception": false,
     "start_time": "2024-03-10T10:42:06.074608",
     "status": "completed"
    },
    "tags": []
   },
   "outputs": [
    {
     "name": "stdout",
     "output_type": "stream",
     "text": [
      "Service cowsay already exists.\n"
     ]
    }
   ],
   "source": [
    "try:\n",
    "    service = oscar_client.get_service(\"cowsay\")\n",
    "    print(\"Service cowsay already exists.\")\n",
    "except requests.HTTPError as e:\n",
    "    print(\"Service cowsay does not exist, creating...\")\n",
    "    try:\n",
    "        oscar_client.create_service(\"cowsay.yaml\")\n",
    "        print(\"Service created successfully.\")\n",
    "    except Exception as ex:\n",
    "        print(f\"Error creating service: {ex}\")"
   ]
  },
  {
   "cell_type": "markdown",
   "id": "a54b3732-e2d0-4c66-a089-32328c212207",
   "metadata": {
    "papermill": {
     "duration": 0.010332,
     "end_time": "2024-03-10T10:42:07.006934",
     "exception": false,
     "start_time": "2024-03-10T10:42:06.996602",
     "status": "completed"
    },
    "tags": []
   },
   "source": [
    "# Use the service"
   ]
  },
  {
   "cell_type": "code",
   "execution_count": 8,
   "id": "bc7e8e2a-8c03-4628-b365-af668cbd483c",
   "metadata": {
    "execution": {
     "iopub.execute_input": "2024-03-10T10:42:07.042274Z",
     "iopub.status.busy": "2024-03-10T10:42:07.041575Z",
     "iopub.status.idle": "2024-03-10T10:42:14.178254Z",
     "shell.execute_reply": "2024-03-10T10:42:14.177542Z"
    },
    "papermill": {
     "duration": 7.160801,
     "end_time": "2024-03-10T10:42:14.178597",
     "exception": false,
     "start_time": "2024-03-10T10:42:07.017796",
     "status": "completed"
    },
    "tags": []
   },
   "outputs": [
    {
     "name": "stdout",
     "output_type": "stream",
     "text": [
      " _____________\n",
      "< hello worl! >\n",
      " -------------\n",
      "        \\   ^__^\n",
      "         \\  (oo)\\_______\n",
      "            (__)\\       )\\/\\\n",
      "                ||----w |\n",
      "                ||     ||\n",
      "\n",
      "\n"
     ]
    }
   ],
   "source": [
    "response = oscar_client.run_service(\"cowsay\", input=message_json)\n",
    "\n",
    "if response.status_code == 200:\n",
    "    cowsay_data = response.text\n",
    "    print(cowsay_data)\n",
    "\n",
    "\n",
    "else:\n",
    "    print(f\"Error en la ejecución del servicio 'cowsay': {response.status_code} {response.text}\")"
   ]
  }
 ],
 "metadata": {
  "kernelspec": {
   "display_name": "Python 3 (ipykernel)",
   "language": "python",
   "name": "python3"
  },
  "language_info": {
   "codemirror_mode": {
    "name": "ipython",
    "version": 3
   },
   "file_extension": ".py",
   "mimetype": "text/x-python",
   "name": "python",
   "nbconvert_exporter": "python",
   "pygments_lexer": "ipython3",
   "version": "3.10.6"
  },
  "papermill": {
   "default_parameters": {},
   "duration": 17.109007,
   "end_time": "2024-03-10T10:42:14.516916",
   "environment_variables": {},
   "exception": null,
   "input_path": "/home/jovyan/tutorial/ai4-compose/elyra/examples/cowsay/oscar_service_cowsay.ipynb",
   "output_path": "/home/jovyan/tutorial/ai4-compose/elyra/examples/cowsay/oscar_service_cowsay.ipynb",
   "parameters": {},
   "start_time": "2024-03-10T10:41:57.407909",
   "version": "2.4.0"
  }
 },
 "nbformat": 4,
 "nbformat_minor": 5
}