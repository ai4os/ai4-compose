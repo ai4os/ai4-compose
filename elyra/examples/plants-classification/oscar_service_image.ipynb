{
 "cells": [
  {
   "cell_type": "markdown",
   "id": "d4ed2927-488c-4d36-974a-3fcc9893659e",
   "metadata": {
    "papermill": {
     "duration": 0.011596,
     "end_time": "2024-03-10T10:35:12.567954",
     "exception": false,
     "start_time": "2024-03-10T10:35:12.556358",
     "status": "completed"
    },
    "tags": []
   },
   "source": [
    "# Required imports"
   ]
  },
  {
   "cell_type": "code",
   "execution_count": 1,
   "id": "2fdf839b-0473-4027-be46-d24a04572678",
   "metadata": {
    "execution": {
     "iopub.execute_input": "2024-03-10T10:35:12.605491Z",
     "iopub.status.busy": "2024-03-10T10:35:12.604779Z",
     "iopub.status.idle": "2024-03-10T10:35:12.656049Z",
     "shell.execute_reply": "2024-03-10T10:35:12.655408Z"
    },
    "papermill": {
     "duration": 0.078059,
     "end_time": "2024-03-10T10:35:12.656447",
     "exception": false,
     "start_time": "2024-03-10T10:35:12.578388",
     "status": "completed"
    },
    "tags": []
   },
   "outputs": [],
   "source": [
    "import os\n",
    "import json\n",
    "import sys\n",
    "import base64\n",
    "import requests\n",
    "from IPython.display import Image, display"
   ]
  },
  {
   "cell_type": "markdown",
   "id": "86b296cf-07b4-4754-879a-b91c0a763ff7",
   "metadata": {
    "papermill": {
     "duration": 0.010716,
     "end_time": "2024-03-10T10:35:12.678445",
     "exception": false,
     "start_time": "2024-03-10T10:35:12.667729",
     "status": "completed"
    },
    "tags": []
   },
   "source": [
    "# Install the necessary packages"
   ]
  },
  {
   "cell_type": "code",
   "execution_count": 2,
   "id": "85bc950d-62e1-44ad-9d5f-eab3efa7ac84",
   "metadata": {
    "execution": {
     "iopub.execute_input": "2024-03-10T10:35:12.707452Z",
     "iopub.status.busy": "2024-03-10T10:35:12.706748Z",
     "iopub.status.idle": "2024-03-10T10:35:20.193057Z",
     "shell.execute_reply": "2024-03-10T10:35:20.192501Z"
    },
    "papermill": {
     "duration": 7.50527,
     "end_time": "2024-03-10T10:35:20.193407",
     "exception": false,
     "start_time": "2024-03-10T10:35:12.688137",
     "status": "completed"
    },
    "tags": []
   },
   "outputs": [
    {
     "name": "stdout",
     "output_type": "stream",
     "text": [
      "Requirement already satisfied: oscar-python in /opt/conda/lib/python3.10/site-packages (1.2.1)\r\n",
      "Requirement already satisfied: pyyaml in /opt/conda/lib/python3.10/site-packages (from oscar-python) (5.4.1)\r\n",
      "Requirement already satisfied: webdavclient3==3.14.6 in /opt/conda/lib/python3.10/site-packages (from oscar-python) (3.14.6)\r\n",
      "Requirement already satisfied: setuptools>=40.8.0 in /opt/conda/lib/python3.10/site-packages (from oscar-python) (65.5.1)\r\n",
      "Requirement already satisfied: boto3 in /opt/conda/lib/python3.10/site-packages (from oscar-python) (1.27.1)\r\n",
      "Requirement already satisfied: requests in /opt/conda/lib/python3.10/site-packages (from oscar-python) (2.28.1)\r\n",
      "Requirement already satisfied: aiohttp in /opt/conda/lib/python3.10/site-packages (from oscar-python) (3.8.4)\r\n",
      "Requirement already satisfied: lxml in /opt/conda/lib/python3.10/site-packages (from webdavclient3==3.14.6->oscar-python) (4.9.2)\r\n",
      "Requirement already satisfied: python-dateutil in /opt/conda/lib/python3.10/site-packages (from webdavclient3==3.14.6->oscar-python) (2.8.2)\r\n"
     ]
    },
    {
     "name": "stdout",
     "output_type": "stream",
     "text": [
      "Requirement already satisfied: attrs>=17.3.0 in /opt/conda/lib/python3.10/site-packages (from aiohttp->oscar-python) (22.1.0)\r\n",
      "Requirement already satisfied: frozenlist>=1.1.1 in /opt/conda/lib/python3.10/site-packages (from aiohttp->oscar-python) (1.3.3)\r\n",
      "Requirement already satisfied: aiosignal>=1.1.2 in /opt/conda/lib/python3.10/site-packages (from aiohttp->oscar-python) (1.3.1)\r\n",
      "Requirement already satisfied: multidict<7.0,>=4.5 in /opt/conda/lib/python3.10/site-packages (from aiohttp->oscar-python) (6.0.4)\r\n",
      "Requirement already satisfied: async-timeout<5.0,>=4.0.0a3 in /opt/conda/lib/python3.10/site-packages (from aiohttp->oscar-python) (4.0.2)\r\n",
      "Requirement already satisfied: charset-normalizer<4.0,>=2.0 in /opt/conda/lib/python3.10/site-packages (from aiohttp->oscar-python) (2.1.1)\r\n",
      "Requirement already satisfied: yarl<2.0,>=1.0 in /opt/conda/lib/python3.10/site-packages (from aiohttp->oscar-python) (1.9.2)\r\n",
      "Requirement already satisfied: s3transfer<0.7.0,>=0.6.0 in /opt/conda/lib/python3.10/site-packages (from boto3->oscar-python) (0.6.1)\r\n",
      "Requirement already satisfied: botocore<1.31.0,>=1.30.1 in /opt/conda/lib/python3.10/site-packages (from boto3->oscar-python) (1.30.1)\r\n",
      "Requirement already satisfied: jmespath<2.0.0,>=0.7.1 in /opt/conda/lib/python3.10/site-packages (from boto3->oscar-python) (1.0.1)\r\n",
      "Requirement already satisfied: certifi>=2017.4.17 in /opt/conda/lib/python3.10/site-packages (from requests->oscar-python) (2023.5.7)\r\n",
      "Requirement already satisfied: idna<4,>=2.5 in /opt/conda/lib/python3.10/site-packages (from requests->oscar-python) (3.4)\r\n",
      "Requirement already satisfied: urllib3<1.27,>=1.21.1 in /opt/conda/lib/python3.10/site-packages (from requests->oscar-python) (1.26.11)\r\n"
     ]
    },
    {
     "name": "stdout",
     "output_type": "stream",
     "text": [
      "Requirement already satisfied: six>=1.5 in /opt/conda/lib/python3.10/site-packages (from python-dateutil->webdavclient3==3.14.6->oscar-python) (1.16.0)\r\n"
     ]
    },
    {
     "name": "stdout",
     "output_type": "stream",
     "text": [
      "Requirement already satisfied: liboidcagent in /opt/conda/lib/python3.10/site-packages (0.6.0)\r\n",
      "Requirement already satisfied: PyNaCl>=1.2.0 in /opt/conda/lib/python3.10/site-packages (from liboidcagent) (1.5.0)\r\n",
      "Requirement already satisfied: cffi>=1.4.1 in /opt/conda/lib/python3.10/site-packages (from PyNaCl>=1.2.0->liboidcagent) (1.15.1)\r\n",
      "Requirement already satisfied: pycparser in /opt/conda/lib/python3.10/site-packages (from cffi>=1.4.1->PyNaCl>=1.2.0->liboidcagent) (2.21)\r\n"
     ]
    }
   ],
   "source": [
    "!{sys.executable} -m pip install oscar-python\n",
    "!pip install liboidcagent\n",
    "from oscar_python.client import Client"
   ]
  },
  {
   "cell_type": "markdown",
   "id": "73a0d043-891f-43fc-b789-38f8acca0060",
   "metadata": {
    "papermill": {
     "duration": 0.01102,
     "end_time": "2024-03-10T10:35:20.215684",
     "exception": false,
     "start_time": "2024-03-10T10:35:20.204664",
     "status": "completed"
    },
    "tags": []
   },
   "source": [
    "# Function to decode base64 content"
   ]
  },
  {
   "cell_type": "code",
   "execution_count": 3,
   "id": "d57766fb-36ff-4de1-be20-bafe689f6214",
   "metadata": {
    "execution": {
     "iopub.execute_input": "2024-03-10T10:35:20.243032Z",
     "iopub.status.busy": "2024-03-10T10:35:20.242516Z",
     "iopub.status.idle": "2024-03-10T10:35:20.247687Z",
     "shell.execute_reply": "2024-03-10T10:35:20.247133Z"
    },
    "papermill": {
     "duration": 0.022105,
     "end_time": "2024-03-10T10:35:20.247915",
     "exception": false,
     "start_time": "2024-03-10T10:35:20.225810",
     "status": "completed"
    },
    "tags": []
   },
   "outputs": [],
   "source": [
    "def decode_base64(data):\n",
    "    return base64.b64decode(data).decode('utf-8')"
   ]
  },
  {
   "cell_type": "markdown",
   "id": "1c9dba9c-151f-4a48-8e48-ddf7851d1fc3",
   "metadata": {
    "papermill": {
     "duration": 0.009243,
     "end_time": "2024-03-10T10:35:20.267572",
     "exception": false,
     "start_time": "2024-03-10T10:35:20.258329",
     "status": "completed"
    },
    "tags": []
   },
   "source": [
    "# Read environment variables"
   ]
  },
  {
   "cell_type": "code",
   "execution_count": 4,
   "id": "d17b197b-41d0-4dfe-b865-ef2ffd3c50dd",
   "metadata": {
    "execution": {
     "iopub.execute_input": "2024-03-10T10:35:20.293779Z",
     "iopub.status.busy": "2024-03-10T10:35:20.293230Z",
     "iopub.status.idle": "2024-03-10T10:35:20.297929Z",
     "shell.execute_reply": "2024-03-10T10:35:20.298343Z"
    },
    "papermill": {
     "duration": 0.021972,
     "end_time": "2024-03-10T10:35:20.298687",
     "exception": false,
     "start_time": "2024-03-10T10:35:20.276715",
     "status": "completed"
    },
    "tags": []
   },
   "outputs": [],
   "source": [
    "token_file_path = os.getenv(\"TOKEN_FILE_PATH\")\n",
    "image_file_path = os.getenv(\"IMAGE_FILE_PATH\")\n",
    "output_dir = os.getenv(\"OUTPUT_DIR\", \"./output/images\")\n",
    "service_name = os.getenv(\"SERVICE_NAME\", \"grayify\")"
   ]
  },
  {
   "cell_type": "markdown",
   "id": "e11667f1-d3d1-47c4-84ff-fa1efa408452",
   "metadata": {
    "papermill": {
     "duration": 0.009063,
     "end_time": "2024-03-10T10:35:20.318648",
     "exception": false,
     "start_time": "2024-03-10T10:35:20.309585",
     "status": "completed"
    },
    "tags": []
   },
   "source": [
    "# Read and decode the access token"
   ]
  },
  {
   "cell_type": "code",
   "execution_count": 5,
   "id": "8a16e6f5-ed39-4403-be93-db6073075b85",
   "metadata": {
    "execution": {
     "iopub.execute_input": "2024-03-10T10:35:20.344475Z",
     "iopub.status.busy": "2024-03-10T10:35:20.343972Z",
     "iopub.status.idle": "2024-03-10T10:35:20.352271Z",
     "shell.execute_reply": "2024-03-10T10:35:20.351550Z"
    },
    "papermill": {
     "duration": 0.024757,
     "end_time": "2024-03-10T10:35:20.352585",
     "exception": false,
     "start_time": "2024-03-10T10:35:20.327828",
     "status": "completed"
    },
    "tags": []
   },
   "outputs": [],
   "source": [
    "with open(token_file_path, 'r') as token_file:\n",
    "    encoded_token = token_file.read()\n",
    "access_token = decode_base64(encoded_token)"
   ]
  },
  {
   "cell_type": "markdown",
   "id": "0a3cfe8f-1455-4454-9ce6-20e266be5460",
   "metadata": {
    "papermill": {
     "duration": 0.009593,
     "end_time": "2024-03-10T10:35:20.373849",
     "exception": false,
     "start_time": "2024-03-10T10:35:20.364256",
     "status": "completed"
    },
    "tags": []
   },
   "source": [
    "# OSCAR client configuration"
   ]
  },
  {
   "cell_type": "code",
   "execution_count": 6,
   "id": "565e3a31-3d70-4016-9a2b-3c6b6c2051fa",
   "metadata": {
    "execution": {
     "iopub.execute_input": "2024-03-10T10:35:20.399255Z",
     "iopub.status.busy": "2024-03-10T10:35:20.398800Z",
     "iopub.status.idle": "2024-03-10T10:35:20.403794Z",
     "shell.execute_reply": "2024-03-10T10:35:20.404168Z"
    },
    "papermill": {
     "duration": 0.021504,
     "end_time": "2024-03-10T10:35:20.404530",
     "exception": false,
     "start_time": "2024-03-10T10:35:20.383026",
     "status": "completed"
    },
    "tags": []
   },
   "outputs": [],
   "source": [
    "options_oidc = {\n",
    "    'cluster_id': 'oscar-egi-cloud',\n",
    "    'endpoint': 'https://inference.cloud.ai4eosc.eu',\n",
    "    'oidc_token': access_token,\n",
    "    'ssl': 'True'\n",
    "}\n",
    "oscar_client = Client(options=options_oidc)"
   ]
  },
  {
   "cell_type": "markdown",
   "id": "071a019b-b6e3-46bb-8865-e665a664ad78",
   "metadata": {
    "papermill": {
     "duration": 0.0112,
     "end_time": "2024-03-10T10:35:20.427121",
     "exception": false,
     "start_time": "2024-03-10T10:35:20.415921",
     "status": "completed"
    },
    "tags": []
   },
   "source": [
    "# Check if the service exists"
   ]
  },
  {
   "cell_type": "code",
   "execution_count": 7,
   "id": "4eb1916a-777d-47d9-9fb4-354e99a8021e",
   "metadata": {
    "execution": {
     "iopub.execute_input": "2024-03-10T10:35:20.463338Z",
     "iopub.status.busy": "2024-03-10T10:35:20.458790Z",
     "iopub.status.idle": "2024-03-10T10:35:21.135054Z",
     "shell.execute_reply": "2024-03-10T10:35:21.133789Z"
    },
    "papermill": {
     "duration": 0.69722,
     "end_time": "2024-03-10T10:35:21.135396",
     "exception": false,
     "start_time": "2024-03-10T10:35:20.438176",
     "status": "completed"
    },
    "tags": []
   },
   "outputs": [
    {
     "name": "stdout",
     "output_type": "stream",
     "text": [
      "Service 'plant-classification' already exists.\n"
     ]
    }
   ],
   "source": [
    "try:\n",
    "    service = oscar_client.get_service(service_name)\n",
    "    print(f\"Service '{service_name}' already exists.\")\n",
    "except Exception as e:\n",
    "    print(f\"Service '{service_name}' does not exist, creating...\")\n",
    "    try:\n",
    "        oscar_client.create_service(f\"{service_name}.yaml\")\n",
    "        print(\"Service created successfully.\")\n",
    "    except Exception as ex:\n",
    "        print(f\"Error creating service: {ex}\")"
   ]
  },
  {
   "cell_type": "markdown",
   "id": "21357425-abb7-4c61-8021-d9e84b05f234",
   "metadata": {
    "papermill": {
     "duration": 0.01066,
     "end_time": "2024-03-10T10:35:21.158972",
     "exception": false,
     "start_time": "2024-03-10T10:35:21.148312",
     "status": "completed"
    },
    "tags": []
   },
   "source": [
    "# Run the service"
   ]
  },
  {
   "cell_type": "code",
   "execution_count": 8,
   "id": "ed18fa7a-188f-4738-a212-fad93b260edf",
   "metadata": {
    "execution": {
     "iopub.execute_input": "2024-03-10T10:35:21.194855Z",
     "iopub.status.busy": "2024-03-10T10:35:21.193526Z",
     "iopub.status.idle": "2024-03-10T10:35:54.191379Z",
     "shell.execute_reply": "2024-03-10T10:35:54.190383Z"
    },
    "papermill": {
     "duration": 33.021642,
     "end_time": "2024-03-10T10:35:54.191790",
     "exception": false,
     "start_time": "2024-03-10T10:35:21.170148",
     "status": "completed"
    },
    "tags": []
   },
   "outputs": [],
   "source": [
    "response = oscar_client.run_service(service_name, input=image_file_path, output=output_dir)"
   ]
  },
  {
   "cell_type": "markdown",
   "id": "b03ab8bd-f91d-4602-bb08-9bc85f797d79",
   "metadata": {
    "papermill": {
     "duration": 0.010437,
     "end_time": "2024-03-10T10:35:54.215295",
     "exception": false,
     "start_time": "2024-03-10T10:35:54.204858",
     "status": "completed"
    },
    "tags": []
   },
   "source": [
    "# Process the response"
   ]
  },
  {
   "cell_type": "code",
   "execution_count": 9,
   "id": "a922baed-b654-468a-8177-2bc81b40fbd0",
   "metadata": {
    "execution": {
     "iopub.execute_input": "2024-03-10T10:35:54.245577Z",
     "iopub.status.busy": "2024-03-10T10:35:54.245037Z",
     "iopub.status.idle": "2024-03-10T10:35:54.255479Z",
     "shell.execute_reply": "2024-03-10T10:35:54.254754Z"
    },
    "papermill": {
     "duration": 0.03014,
     "end_time": "2024-03-10T10:35:54.255779",
     "exception": false,
     "start_time": "2024-03-10T10:35:54.225639",
     "status": "completed"
    },
    "tags": []
   },
   "outputs": [
    {
     "name": "stdout",
     "output_type": "stream",
     "text": [
      "eydsYWJlbHMnOiBbJ0NhbGVuZHVsYSBvZmZpY2luYWxpcycsICdBbWJseW9sZXBpcyBzZXRpZ2VyYScsICdDYWxlbmR1bGEgYXJ2ZW5zaXMnLCAnWmlubmlhIGVsZWdhbnMnLCAnVGl0aG9uaWEgcm90dW5kaWZvbGlhJ10sICdwcm9iYWJpbGl0aWVzJzogWzAuOTk5MDcyMzcyOTEzMzYwNiwgMC4wMDAxNzc5NTU1NzUwNTQ1MTE0MywgMC4wMDAxNjkwODM0NzYwNjY1ODkzNiwgOS45MDYzNzEyNjk2MDc5MTZlLTA1LCA4LjAyNDMxNjc3NTg0NTM2NGUtMDVdLCAnbGFiZWxzX2luZm8nOiBbJycsICcnLCAnJywgJycsICcnXSwgJ2xpbmtzJzogeydHb29nbGUgSW1hZ2VzJzogWydodHRwczovL3d3dy5nb29nbGUuZXMvc2VhcmNoP3RibT1pc2NoJnE9Q2FsZW5kdWxhK29mZmljaW5hbGlzJywgJ2h0dHBzOi8vd3d3Lmdvb2dsZS5lcy9zZWFyY2g/dGJtPWlzY2gmcT1BbWJseW9sZXBpcytzZXRpZ2VyYScsICdodHRwczovL3d3dy5nb29nbGUuZXMvc2VhcmNoP3RibT1pc2NoJnE9Q2FsZW5kdWxhK2FydmVuc2lzJywgJ2h0dHBzOi8vd3d3Lmdvb2dsZS5lcy9zZWFyY2g/dGJtPWlzY2gmcT1aaW5uaWErZWxlZ2FucycsICdodHRwczovL3d3dy5nb29nbGUuZXMvc2VhcmNoP3RibT1pc2NoJnE9VGl0aG9uaWErcm90dW5kaWZvbGlhJ10sICdXaWtpcGVkaWEnOiBbJ2h0dHBzOi8vZW4ud2lraXBlZGlhLm9yZy93aWtpL0NhbGVuZHVsYV9vZmZpY2luYWxpcycsICdodHRwczovL2VuLndpa2lwZWRpYS5vcmcvd2lraS9BbWJseW9sZXBpc19zZXRpZ2VyYScsICdodHRwczovL2VuLndpa2lwZWRpYS5vcmcvd2lraS9DYWxlbmR1bGFfYXJ2ZW5zaXMnLCAnaHR0cHM6Ly9lbi53aWtpcGVkaWEub3JnL3dpa2kvWmlubmlhX2VsZWdhbnMnLCAnaHR0cHM6Ly9lbi53aWtpcGVkaWEub3JnL3dpa2kvVGl0aG9uaWFfcm90dW5kaWZvbGlhJ119fQo=\n",
      "\n"
     ]
    }
   ],
   "source": [
    "if response.status_code == 200:\n",
    "    # Process grayify service response\n",
    "    data = response.text\n",
    "    # No need to create a new directory, as output_file already includes the correct path\n",
    "    # os.makedirs('./output/b64', exist_ok=True)  # Esta línea ya no es necesaria\n",
    "    # Use the output_file variable directly\n",
    "    print(data)\n",
    "    with open(output_dir, 'w') as f:\n",
    "        f.write(data)\n",
    "else:\n",
    "    print(f\"Error in the execution of 'grayify' service: {response.status_code} {response.text}\")"
   ]
  }
 ],
 "metadata": {
  "kernelspec": {
   "display_name": "Python 3 (ipykernel)",
   "language": "python",
   "name": "python3"
  },
  "language_info": {
   "codemirror_mode": {
    "name": "ipython",
    "version": 3
   },
   "file_extension": ".py",
   "mimetype": "text/x-python",
   "name": "python",
   "nbconvert_exporter": "python",
   "pygments_lexer": "ipython3",
   "version": "3.10.6"
  },
  "papermill": {
   "default_parameters": {},
   "duration": 43.097129,
   "end_time": "2024-03-10T10:35:54.593508",
   "environment_variables": {},
   "exception": null,
   "input_path": "/home/jovyan/tutorial/ai4-compose/elyra/examples/plants-classification/oscar_service_image.ipynb",
   "output_path": "/home/jovyan/tutorial/ai4-compose/elyra/examples/plants-classification/oscar_service_image.ipynb",
   "parameters": {},
   "start_time": "2024-03-10T10:35:11.496379",
   "version": "2.3.4"
  }
 },
 "nbformat": 4,
 "nbformat_minor": 5
}