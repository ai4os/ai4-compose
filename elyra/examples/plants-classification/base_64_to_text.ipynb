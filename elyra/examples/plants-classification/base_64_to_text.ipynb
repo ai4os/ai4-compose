{
 "cells": [
  {
   "cell_type": "markdown",
   "id": "0aad38ed-b8ff-47c0-a696-f1a32092cb11",
   "metadata": {
    "papermill": {
     "duration": 0.008272,
     "end_time": "2024-03-10T10:35:55.559693",
     "exception": false,
     "start_time": "2024-03-10T10:35:55.551421",
     "status": "completed"
    },
    "tags": []
   },
   "source": [
    "# Required imports"
   ]
  },
  {
   "cell_type": "code",
   "execution_count": 1,
   "id": "2565fc66-e6e2-4125-a4f6-79dcd703f499",
   "metadata": {
    "execution": {
     "iopub.execute_input": "2024-03-10T10:35:55.592293Z",
     "iopub.status.busy": "2024-03-10T10:35:55.591582Z",
     "iopub.status.idle": "2024-03-10T10:35:55.596547Z",
     "shell.execute_reply": "2024-03-10T10:35:55.595977Z"
    },
    "papermill": {
     "duration": 0.028685,
     "end_time": "2024-03-10T10:35:55.596953",
     "exception": false,
     "start_time": "2024-03-10T10:35:55.568268",
     "status": "completed"
    },
    "tags": []
   },
   "outputs": [],
   "source": [
    "import os\n",
    "import base64"
   ]
  },
  {
   "cell_type": "markdown",
   "id": "48be9353-8fa9-4458-9b58-4fc8dc2a59b7",
   "metadata": {
    "papermill": {
     "duration": 0.008306,
     "end_time": "2024-03-10T10:35:55.617149",
     "exception": false,
     "start_time": "2024-03-10T10:35:55.608843",
     "status": "completed"
    },
    "tags": []
   },
   "source": [
    "# Function to decode Base64 to text and save it"
   ]
  },
  {
   "cell_type": "code",
   "execution_count": 2,
   "id": "bf0c9f88-3603-4b85-afaa-d28e83f52f7d",
   "metadata": {
    "execution": {
     "iopub.execute_input": "2024-03-10T10:35:55.643904Z",
     "iopub.status.busy": "2024-03-10T10:35:55.643199Z",
     "iopub.status.idle": "2024-03-10T10:35:55.647912Z",
     "shell.execute_reply": "2024-03-10T10:35:55.648277Z"
    },
    "papermill": {
     "duration": 0.024769,
     "end_time": "2024-03-10T10:35:55.648633",
     "exception": false,
     "start_time": "2024-03-10T10:35:55.623864",
     "status": "completed"
    },
    "tags": []
   },
   "outputs": [],
   "source": [
    "def decode_base64_to_text(base64_input_path, text_output_path):\n",
    "    \"\"\"\n",
    "    Reads a Base64 encoded file, decodes it, and saves the result as a text file.\n",
    "\n",
    "    Parameters:\n",
    "    base64_input_path (str): Path to the Base64 file.\n",
    "    text_output_path (str): Output path for the decoded text.\n",
    "    \"\"\"\n",
    "    # Read the Base64 content from the input file\n",
    "    with open(base64_input_path, 'r') as file:\n",
    "        base64_encoded_data = file.read()\n",
    "\n",
    "    # Decode the Base64 data to text\n",
    "    text_data = base64.b64decode(base64_encoded_data).decode('utf-8')\n",
    "\n",
    "    # Save the decoded text to the output file\n",
    "    with open(text_output_path, 'w') as text_file:\n",
    "        text_file.write(text_data)\n",
    "\n",
    "    # Print the decoded text\n",
    "    print(f\"Decoded text:\\n{text_data}\\nText saved at: {text_output_path}\")"
   ]
  },
  {
   "cell_type": "markdown",
   "id": "7f504842-c2f4-42d0-9542-d396f64039a8",
   "metadata": {
    "papermill": {
     "duration": 0.008666,
     "end_time": "2024-03-10T10:35:55.664817",
     "exception": false,
     "start_time": "2024-03-10T10:35:55.656151",
     "status": "completed"
    },
    "tags": []
   },
   "source": [
    "# Environment variables"
   ]
  },
  {
   "cell_type": "code",
   "execution_count": 3,
   "id": "cd064e4f-f9a9-4a35-82f6-1a8683c4ed04",
   "metadata": {
    "execution": {
     "iopub.execute_input": "2024-03-10T10:35:55.694824Z",
     "iopub.status.busy": "2024-03-10T10:35:55.694143Z",
     "iopub.status.idle": "2024-03-10T10:35:55.699429Z",
     "shell.execute_reply": "2024-03-10T10:35:55.698973Z"
    },
    "papermill": {
     "duration": 0.021562,
     "end_time": "2024-03-10T10:35:55.699713",
     "exception": false,
     "start_time": "2024-03-10T10:35:55.678151",
     "status": "completed"
    },
    "tags": []
   },
   "outputs": [],
   "source": [
    "\n",
    "base64_file_path = os.getenv(\"BASE64_FILE_PATH\")\n",
    "text_output_path = os.getenv(\"TEXT_OUTPUT_PATH\")\n"
   ]
  },
  {
   "cell_type": "markdown",
   "id": "f0b3390c-d4a1-4c63-9e33-a49205da754e",
   "metadata": {
    "papermill": {
     "duration": 0.008326,
     "end_time": "2024-03-10T10:35:55.716181",
     "exception": false,
     "start_time": "2024-03-10T10:35:55.707855",
     "status": "completed"
    },
    "tags": []
   },
   "source": [
    "# Ensure the environment variables are defined"
   ]
  },
  {
   "cell_type": "code",
   "execution_count": 4,
   "id": "6ec13541-fa09-439c-8247-9cfc4ec05a0a",
   "metadata": {
    "execution": {
     "iopub.execute_input": "2024-03-10T10:35:55.738327Z",
     "iopub.status.busy": "2024-03-10T10:35:55.737664Z",
     "iopub.status.idle": "2024-03-10T10:35:55.748517Z",
     "shell.execute_reply": "2024-03-10T10:35:55.747773Z"
    },
    "papermill": {
     "duration": 0.025564,
     "end_time": "2024-03-10T10:35:55.748845",
     "exception": false,
     "start_time": "2024-03-10T10:35:55.723281",
     "status": "completed"
    },
    "tags": []
   },
   "outputs": [
    {
     "name": "stdout",
     "output_type": "stream",
     "text": [
      "Decoded text:\n",
      "{'labels': ['Calendula officinalis', 'Amblyolepis setigera', 'Calendula arvensis', 'Zinnia elegans', 'Tithonia rotundifolia'], 'probabilities': [0.9990723729133606, 0.00017795557505451143, 0.00016908347606658936, 9.906371269607916e-05, 8.024316775845364e-05], 'labels_info': ['', '', '', '', ''], 'links': {'Google Images': ['https://www.google.es/search?tbm=isch&q=Calendula+officinalis', 'https://www.google.es/search?tbm=isch&q=Amblyolepis+setigera', 'https://www.google.es/search?tbm=isch&q=Calendula+arvensis', 'https://www.google.es/search?tbm=isch&q=Zinnia+elegans', 'https://www.google.es/search?tbm=isch&q=Tithonia+rotundifolia'], 'Wikipedia': ['https://en.wikipedia.org/wiki/Calendula_officinalis', 'https://en.wikipedia.org/wiki/Amblyolepis_setigera', 'https://en.wikipedia.org/wiki/Calendula_arvensis', 'https://en.wikipedia.org/wiki/Zinnia_elegans', 'https://en.wikipedia.org/wiki/Tithonia_rotundifolia']}}\n",
      "\n",
      "Text saved at: ./output/data/data.txt\n"
     ]
    }
   ],
   "source": [
    "if base64_file_path and text_output_path:\n",
    "    decode_base64_to_text(base64_file_path, text_output_path)\n",
    "else:\n",
    "    print(\"Error: The environment variables 'BASE64_FILE_PATH' and 'TEXT_OUTPUT_PATH' must be defined.\")"
   ]
  }
 ],
 "metadata": {
  "kernelspec": {
   "display_name": "Python 3 (ipykernel)",
   "language": "python",
   "name": "python3"
  },
  "language_info": {
   "codemirror_mode": {
    "name": "ipython",
    "version": 3
   },
   "file_extension": ".py",
   "mimetype": "text/x-python",
   "name": "python",
   "nbconvert_exporter": "python",
   "pygments_lexer": "ipython3",
   "version": "3.10.6"
  },
  "papermill": {
   "default_parameters": {},
   "duration": 4.047044,
   "end_time": "2024-03-10T10:35:58.672506",
   "environment_variables": {},
   "exception": null,
   "input_path": "/home/jovyan/tutorial/ai4-compose/elyra/examples/plants-classification/base_64_to_text.ipynb",
   "output_path": "/home/jovyan/tutorial/ai4-compose/elyra/examples/plants-classification/base_64_to_text.ipynb",
   "parameters": {},
   "start_time": "2024-03-10T10:35:54.625462",
   "version": "2.3.4"
  }
 },
 "nbformat": 4,
 "nbformat_minor": 5
}