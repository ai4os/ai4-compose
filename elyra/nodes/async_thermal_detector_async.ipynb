{
 "cells": [
  {
   "cell_type": "code",
   "execution_count": null,
   "id": "976d8921-ba86-4c66-b1bf-b2381230cc2c",
   "metadata": {},
   "outputs": [],
   "source": [
    "#libraries\n",
    "import requests\n",
    "from io import BytesIO\n",
    "\n",
    "import numpy as np\n",
    "import time\n",
    "import os\n",
    "import matplotlib.pyplot as plt\n",
    "from PIL import Image\n",
    "import pickle"
   ]
  },
  {
   "cell_type": "code",
   "execution_count": null,
   "id": "db30393d-1f0e-4565-8be5-1bd264f373c0",
   "metadata": {},
   "outputs": [],
   "source": [
    "def get_latest_png_object():\n",
    "    objects = client.list_objects(bucket_name, prefix=prefix, recursive=True)\n",
    "    png_objects = [obj for obj in objects if obj.object_name.endswith('.png')]\n",
    "    if not png_objects:\n",
    "        return None\n",
    "    png_objects.sort(key=lambda x: x.last_modified, reverse=True)\n",
    "    return png_objects[0]\n",
    "def show_image(obj_key,output):\n",
    "    response = client.get_object(bucket_name, obj_key)\n",
    "    image_data = response.read()\n",
    "\n",
    "    # Save png file in output/\n",
    "    os.makedirs(output, exist_ok=True)\n",
    "    local_path = os.path.join(output, os.path.basename(obj_key))\n",
    "    with open(local_path, \"wb\") as f:\n",
    "        f.write(image_data)\n",
    "    print(f\"Image saved inº : {local_path}\")\n",
    "\n",
    "    # Show image\n",
    "    image = Image.open(BytesIO(image_data))\n",
    "    plt.figure()\n",
    "    plt.imshow(image)\n",
    "    plt.axis('off')\n",
    "    plt.title(os.path.basename(obj_key))\n",
    "    plt.show()"
   ]
  },
  {
   "cell_type": "code",
   "execution_count": null,
   "id": "70dd1aa4-2406-43a4-9345-b908b6a15573",
   "metadata": {},
   "outputs": [],
   "source": [
    "minio_credencials= os.getenv(\"MINIO_CREDENCIALS\",\"minio_token1.pkl\")\n",
    "\n",
    "if not minio_credencials.endswith(\".pkl\"):\n",
    "    minio_credencials += \".pkl\"\n",
    "# Load configuration from .pkl file\n",
    "with open(minio_credencials, \"rb\") as f:\n",
    "    config = pickle.load(f)\n",
    "# Create MinIO client\n",
    "client = Minio(\n",
    "    endpoint=config[\"endpoint\"],\n",
    "    access_key=config[\"access_key\"],\n",
    "    secret_key=config[\"secret_key\"],\n",
    "    secure= True\n",
    ")\n",
    "print(\"MinIO client loaded from configuration.\")"
   ]
  },
  {
   "cell_type": "code",
   "execution_count": null,
   "id": "8d624256-0c81-4898-a3db-e9b32ebd58a9",
   "metadata": {},
   "outputs": [],
   "source": [
    "#Necessary environment variables\n",
    "\n",
    "bucket_name= os.getenv(\"BUCKET_NAME\",\"\")\n",
    "out= os.getenv(\"PREFIX\",\"\")\n",
    "prefix=out+\"/\"\n",
    "output= os.getenv(\"OUTPUT\",\"output\")\n",
    "download_dir = output  \n",
    "os.makedirs(download_dir, exist_ok=True)"
   ]
  },
  {
   "cell_type": "code",
   "execution_count": null,
   "id": "c47af35f-751e-49f0-8656-5b324d4d6c4f",
   "metadata": {},
   "outputs": [],
   "source": [
    "# Inicial State\n",
    "print(f\"Waiting for new .png file in {bucket_name}/{prefix}...\")\n",
    "initial_obj = get_latest_png_object()\n",
    "last_seen_key = initial_obj.object_name if initial_obj else None\n",
    "last_seen_time = initial_obj.last_modified if initial_obj else None\n",
    "\n",
    "while True:\n",
    "    latest_obj = get_latest_png_object()\n",
    "    if latest_obj:\n",
    "        new_key = latest_obj.object_name\n",
    "        new_time = latest_obj.last_modified\n",
    "        if new_key != last_seen_key or new_time != last_seen_time:\n",
    "            print(f\"File detected: {new_key}\")\n",
    "            local_png_path = os.path.join(download_dir, os.path.basename(new_key))\n",
    "            client.fget_object(bucket_name, new_key, local_png_path)\n",
    "            print(f\"Saved in: {local_png_path}\")\n",
    "            show_image(new_key, output)  \n",
    "            break \n",
    "    time.sleep(5)"
   ]
  }
 ],
 "metadata": {
  "kernelspec": {
   "display_name": "Python 3 (ipykernel)",
   "language": "python",
   "name": "python3"
  },
  "language_info": {
   "codemirror_mode": {
    "name": "ipython",
    "version": 3
   },
   "file_extension": ".py",
   "mimetype": "text/x-python",
   "name": "python",
   "nbconvert_exporter": "python",
   "pygments_lexer": "ipython3",
   "version": "3.12.3"
  }
 },
 "nbformat": 4,
 "nbformat_minor": 5
}
