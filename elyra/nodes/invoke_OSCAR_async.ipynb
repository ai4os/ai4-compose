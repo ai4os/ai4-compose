{
 "cells": [
  {
   "cell_type": "code",
   "execution_count": 1,
   "id": "2b205bcf-bb2c-4606-a07e-6399fd8d7adb",
   "metadata": {
    "execution": {
     "iopub.execute_input": "2025-07-18T12:05:13.884339Z",
     "iopub.status.busy": "2025-07-18T12:05:13.883851Z",
     "iopub.status.idle": "2025-07-18T12:05:14.005010Z",
     "shell.execute_reply": "2025-07-18T12:05:14.004418Z"
    },
    "papermill": {
     "duration": 0.14938,
     "end_time": "2025-07-18T12:05:14.007525",
     "exception": false,
     "start_time": "2025-07-18T12:05:13.858145",
     "status": "completed"
    },
    "tags": []
   },
   "outputs": [],
   "source": [
    "#libraries\n",
    "import os\n",
    "import pickle\n",
    "import sys\n",
    "from minio import Minio"
   ]
  },
  {
   "cell_type": "code",
   "execution_count": 2,
   "id": "a975a991-c8ee-4516-b6e6-5032ad6712f5",
   "metadata": {
    "execution": {
     "iopub.execute_input": "2025-07-18T12:05:14.043976Z",
     "iopub.status.busy": "2025-07-18T12:05:14.043715Z",
     "iopub.status.idle": "2025-07-18T12:05:14.059244Z",
     "shell.execute_reply": "2025-07-18T12:05:14.058341Z"
    },
    "papermill": {
     "duration": 0.035069,
     "end_time": "2025-07-18T12:05:14.061385",
     "exception": false,
     "start_time": "2025-07-18T12:05:14.026316",
     "status": "completed"
    },
    "tags": []
   },
   "outputs": [
    {
     "name": "stdout",
     "output_type": "stream",
     "text": [
      "MinIO client loaded from configuration.\n"
     ]
    }
   ],
   "source": [
    "minio_credencials= os.getenv(\"MINIO_CREDENCIALS\",\"minio_config.pkl\")\n",
    "if not minio_credencials.endswith(\".pkl\"):\n",
    "    minio_credencials += \".pkl\"\n",
    "# Load configuration from .pkl file\n",
    "with open(minio_credencials, \"rb\") as f:\n",
    "    config = pickle.load(f)\n",
    "# Create MinIO Client\n",
    "client = Minio(\n",
    "    endpoint=config[\"endpoint\"],\n",
    "    access_key=config[\"access_key\"],\n",
    "    secret_key=config[\"secret_key\"],\n",
    "    secure= True\n",
    ")\n",
    "print(\"MinIO client loaded from configuration.\")"
   ]
  },
  {
   "cell_type": "code",
   "execution_count": 3,
   "id": "53eb3b68-bd00-49eb-89e9-490a719af874",
   "metadata": {
    "execution": {
     "iopub.execute_input": "2025-07-18T12:05:14.095952Z",
     "iopub.status.busy": "2025-07-18T12:05:14.095541Z",
     "iopub.status.idle": "2025-07-18T12:05:14.101441Z",
     "shell.execute_reply": "2025-07-18T12:05:14.100538Z"
    },
    "papermill": {
     "duration": 0.025322,
     "end_time": "2025-07-18T12:05:14.103503",
     "exception": false,
     "start_time": "2025-07-18T12:05:14.078181",
     "status": "completed"
    },
    "tags": []
   },
   "outputs": [],
   "source": [
    "bucket_name= os.getenv(\"BUCKET_NAME\",\"\")\n",
    "file= os.getenv(\"DATA\",\"\")\n",
    "prefix= os.getenv(\"PREFIX\",\"\")\n",
    "\n",
    "object_key = prefix+\"/\"+file  # Name of the file in the bucket\n",
    "file_path = os.path.join(\"input\",file)"
   ]
  },
  {
   "cell_type": "code",
   "execution_count": 4,
   "id": "46594bc3-f3b6-4eec-a9a6-96637d20ad98",
   "metadata": {
    "execution": {
     "iopub.execute_input": "2025-07-18T12:05:14.140427Z",
     "iopub.status.busy": "2025-07-18T12:05:14.139976Z",
     "iopub.status.idle": "2025-07-18T12:05:14.701507Z",
     "shell.execute_reply": "2025-07-18T12:05:14.700561Z"
    },
    "papermill": {
     "duration": 0.583128,
     "end_time": "2025-07-18T12:05:14.704024",
     "exception": false,
     "start_time": "2025-07-18T12:05:14.120896",
     "status": "completed"
    },
    "tags": []
   },
   "outputs": [
    {
     "name": "stdout",
     "output_type": "stream",
     "text": [
      "File : body.jpg\n",
      ".jpg uploaded to MinIO as  : in/body.jpg\n"
     ]
    }
   ],
   "source": [
    "ext_text = {\".txt\"}\n",
    "ext_csv = {\".csv\"}\n",
    "ext_json = {\".json\"}\n",
    "ext_images = {\".jpg\", \".jpeg\", \".png\", \".bmp\", \".gif\"}\n",
    "ext_zip = {\".zip\"}\n",
    "ext_npy={\".npy\"}\n",
    "\n",
    "if os.path.isfile(file_path):\n",
    "    name, extension = os.path.splitext(file)\n",
    "    extension = extension.lower()\n",
    "print(f\"File : {file}\")\n",
    "try:\n",
    "           # Plain text files\n",
    "    if extension in ext_text:\n",
    "        try:\n",
    "            client.fput_object(\n",
    "                bucket_name,\n",
    "                object_key,\n",
    "                file_path,\n",
    "                content_type=\"text/plain\"\n",
    "            )\n",
    "            print(f\"File uploaded to MinIO as: {object_key}\")\n",
    "        except S3Error as e:\n",
    "            print(f\"Error uploading to MinIO: {e}\")\n",
    "\n",
    "            # CSV File\n",
    "    elif extension in ext_csv:\n",
    "        try:\n",
    "            client.fput_object(\n",
    "            bucket_name,\n",
    "            object_key,\n",
    "            file_path,\n",
    "            content_type=\"text/csv\"\n",
    "        )\n",
    "            print(f\"CSV uploaded to MinIO as: {object_key}\")\n",
    "        except S3Error as e:\n",
    "            print(f\"Error uploading CSV to MinIO: {e}\")\n",
    "\n",
    "            # JSON File\n",
    "    elif extension in ext_json:\n",
    "        try:\n",
    "            client.fput_object(\n",
    "            bucket_name,\n",
    "            object_key,\n",
    "            file_path,\n",
    "            content_type=\"text/json\"\n",
    "        )\n",
    "            print(f\"JSON uploaded to MinIO as: {object_key}\")\n",
    "        except S3Error as e:\n",
    "            print(f\"Error uploading JSON to MinIO: {e}\")\n",
    "\n",
    "            # Image File\n",
    "    elif extension in ext_images:\n",
    "        with open(file_path, \"rb\") as f:\n",
    "            file_stat = os.stat(file_path)\n",
    "            client.put_object(\n",
    "               bucket_name,\n",
    "               object_key,\n",
    "               data=f,\n",
    "               length=file_stat.st_size,\n",
    "               content_type=\"image/jpeg\"\n",
    "            )\n",
    "        print(f\"{extension} uploaded to MinIO as  : {object_key}\")\n",
    "\n",
    "            #  ZIP File\n",
    "    elif extension in ext_zip:\n",
    "        try:\n",
    "            client.fput_object(\n",
    "            bucket_name,\n",
    "            object_key,\n",
    "            file_path,\n",
    "            content_type=\"application/zip\"\n",
    "        )\n",
    "            print(f\"ZIP uploaded to MinIO as: {object_key}\")\n",
    "        except S3Error as e:\n",
    "            print(f\"Error uploading ZIP to MinIO: {e}\")\n",
    "    elif extension in ext_npy:\n",
    "        try:\n",
    "            client.fput_object(\n",
    "                bucket_name,\n",
    "                object_key,   \n",
    "                file_path,\n",
    "                content_type=\"application/octet-stream\"\n",
    "            )\n",
    "            print(f\"NPY File uploaded to MinIO as: {object_key}\")\n",
    "        except S3Error as e:\n",
    "            print(f\"Error uploading NPY to MinIO: {e}\")\n",
    "    else:\n",
    "        print(\"File type not handled.\")\n",
    "except Exception as e:\n",
    "    print(f\"Error processing file: {e}\")"
   ]
  },
  {
   "cell_type": "code",
   "execution_count": null,
   "id": "ec17c61e-1adc-4385-962e-e9ee6874bc85",
   "metadata": {
    "execution": {
     "iopub.execute_input": "2025-07-15T08:24:29.356798Z",
     "iopub.status.busy": "2025-07-15T08:24:29.356514Z",
     "iopub.status.idle": "2025-07-15T08:24:29.636170Z",
     "shell.execute_reply": "2025-07-15T08:24:29.635448Z"
    },
    "papermill": {
     "duration": 0.021256,
     "end_time": "2025-07-18T12:05:14.743941",
     "exception": false,
     "start_time": "2025-07-18T12:05:14.722685",
     "status": "completed"
    },
    "tags": []
   },
   "outputs": [],
   "source": []
  }
 ],
 "metadata": {
  "kernelspec": {
   "display_name": "Python 3 (ipykernel)",
   "language": "python",
   "name": "python3"
  },
  "language_info": {
   "codemirror_mode": {
    "name": "ipython",
    "version": 3
   },
   "file_extension": ".py",
   "mimetype": "text/x-python",
   "name": "python",
   "nbconvert_exporter": "python",
   "pygments_lexer": "ipython3",
   "version": "3.12.3"
  },
  "papermill": {
   "default_parameters": {},
   "duration": 1.807275,
   "end_time": "2025-07-18T12:05:14.981771",
   "environment_variables": {},
   "exception": null,
   "input_path": "/mnt/elyra-notebook/OSCAR_async.ipynb",
   "output_path": "/mnt/elyra-notebook/OSCAR_async.ipynb",
   "parameters": {},
   "start_time": "2025-07-18T12:05:13.174496",
   "version": "2.6.0"
  }
 },
 "nbformat": 4,
 "nbformat_minor": 5
}
