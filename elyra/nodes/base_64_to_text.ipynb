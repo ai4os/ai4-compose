{
 "cells": [
  {
   "cell_type": "markdown",
   "id": "0aad38ed-b8ff-47c0-a696-f1a32092cb11",
   "metadata": {
    "papermill": {
     "duration": 0.007346,
     "end_time": "2024-03-09T19:37:19.442141",
     "exception": false,
     "start_time": "2024-03-09T19:37:19.434795",
     "status": "completed"
    },
    "tags": []
   },
   "source": [
    "# Required imports"
   ]
  },
  {
   "cell_type": "code",
   "execution_count": 1,
   "id": "2565fc66-e6e2-4125-a4f6-79dcd703f499",
   "metadata": {
    "execution": {
     "iopub.execute_input": "2024-03-09T19:37:19.470570Z",
     "iopub.status.busy": "2024-03-09T19:37:19.469913Z",
     "iopub.status.idle": "2024-03-09T19:37:19.479269Z",
     "shell.execute_reply": "2024-03-09T19:37:19.478424Z"
    },
    "papermill": {
     "duration": 0.030097,
     "end_time": "2024-03-09T19:37:19.479640",
     "exception": false,
     "start_time": "2024-03-09T19:37:19.449543",
     "status": "completed"
    },
    "tags": []
   },
   "outputs": [],
   "source": [
    "import os\n",
    "import base64"
   ]
  },
  {
   "cell_type": "markdown",
   "id": "48be9353-8fa9-4458-9b58-4fc8dc2a59b7",
   "metadata": {
    "papermill": {
     "duration": 0.007201,
     "end_time": "2024-03-09T19:37:19.494267",
     "exception": false,
     "start_time": "2024-03-09T19:37:19.487066",
     "status": "completed"
    },
    "tags": []
   },
   "source": [
    "# Function to decode Base64 to text and save it"
   ]
  },
  {
   "cell_type": "code",
   "execution_count": 2,
   "id": "bf0c9f88-3603-4b85-afaa-d28e83f52f7d",
   "metadata": {
    "execution": {
     "iopub.execute_input": "2024-03-09T19:37:19.519782Z",
     "iopub.status.busy": "2024-03-09T19:37:19.518918Z",
     "iopub.status.idle": "2024-03-09T19:37:19.523143Z",
     "shell.execute_reply": "2024-03-09T19:37:19.523519Z"
    },
    "papermill": {
     "duration": 0.023218,
     "end_time": "2024-03-09T19:37:19.523880",
     "exception": false,
     "start_time": "2024-03-09T19:37:19.500662",
     "status": "completed"
    },
    "tags": []
   },
   "outputs": [],
   "source": [
    "def decode_base64_to_text(base64_input_path, text_output_path):\n",
    "    \"\"\"\n",
    "    Reads a Base64 encoded file, decodes it, and saves the result as a text file.\n",
    "\n",
    "    Parameters:\n",
    "    base64_input_path (str): Path to the Base64 file.\n",
    "    text_output_path (str): Output path for the decoded text.\n",
    "    \"\"\"\n",
    "    # Read the Base64 content from the input file\n",
    "    with open(base64_input_path, 'r') as file:\n",
    "        base64_encoded_data = file.read()\n",
    "\n",
    "    # Decode the Base64 data to text\n",
    "    text_data = base64.b64decode(base64_encoded_data).decode('utf-8')\n",
    "\n",
    "    # Save the decoded text to the output file\n",
    "    with open(text_output_path, 'w') as text_file:\n",
    "        text_file.write(text_data)\n",
    "\n",
    "    # Print the decoded text\n",
    "    print(f\"Decoded text:\\n{text_data}\\nText saved at: {text_output_path}\")"
   ]
  },
  {
   "cell_type": "markdown",
   "id": "7f504842-c2f4-42d0-9542-d396f64039a8",
   "metadata": {
    "papermill": {
     "duration": 0.006999,
     "end_time": "2024-03-09T19:37:19.539809",
     "exception": false,
     "start_time": "2024-03-09T19:37:19.532810",
     "status": "completed"
    },
    "tags": []
   },
   "source": [
    "# Environment variables"
   ]
  },
  {
   "cell_type": "code",
   "execution_count": 3,
   "id": "cd064e4f-f9a9-4a35-82f6-1a8683c4ed04",
   "metadata": {
    "execution": {
     "iopub.execute_input": "2024-03-09T19:37:19.560143Z",
     "iopub.status.busy": "2024-03-09T19:37:19.559447Z",
     "iopub.status.idle": "2024-03-09T19:37:19.564621Z",
     "shell.execute_reply": "2024-03-09T19:37:19.564188Z"
    },
    "papermill": {
     "duration": 0.018858,
     "end_time": "2024-03-09T19:37:19.564975",
     "exception": false,
     "start_time": "2024-03-09T19:37:19.546117",
     "status": "completed"
    },
    "tags": []
   },
   "outputs": [],
   "source": [
    "\n",
    "base64_file_path = os.getenv(\"BASE64_FILE_PATH\")\n",
    "text_output_path = os.getenv(\"TEXT_OUTPUT_PATH\")\n"
   ]
  },
  {
   "cell_type": "markdown",
   "id": "f0b3390c-d4a1-4c63-9e33-a49205da754e",
   "metadata": {
    "papermill": {
     "duration": 0.007219,
     "end_time": "2024-03-09T19:37:19.578994",
     "exception": false,
     "start_time": "2024-03-09T19:37:19.571775",
     "status": "completed"
    },
    "tags": []
   },
   "source": [
    "# Ensure the environment variables are defined"
   ]
  },
  {
   "cell_type": "code",
   "execution_count": 4,
   "id": "6ec13541-fa09-439c-8247-9cfc4ec05a0a",
   "metadata": {
    "execution": {
     "iopub.execute_input": "2024-03-09T19:37:19.600940Z",
     "iopub.status.busy": "2024-03-09T19:37:19.599892Z",
     "iopub.status.idle": "2024-03-09T19:37:19.617020Z",
     "shell.execute_reply": "2024-03-09T19:37:19.616272Z"
    },
    "papermill": {
     "duration": 0.031847,
     "end_time": "2024-03-09T19:37:19.617308",
     "exception": false,
     "start_time": "2024-03-09T19:37:19.585461",
     "status": "completed"
    },
    "tags": []
   },
   "outputs": [
    {
     "name": "stdout",
     "output_type": "stream",
     "text": [
      "Decoded text:\n",
      "{'labels': ['Taraxacum erythrospermum', 'Agoseris grandiflora', 'Taraxacum officinale', 'Eriophorum vaginatum', 'Pilosella officinarum'], 'probabilities': [0.33040642738342285, 0.19556036591529846, 0.1523924022912979, 0.06184697151184082, 0.04778682440519333], 'labels_info': ['', '', '', '', ''], 'links': {'Google Images': ['https://www.google.es/search?tbm=isch&q=Taraxacum+erythrospermum', 'https://www.google.es/search?tbm=isch&q=Agoseris+grandiflora', 'https://www.google.es/search?tbm=isch&q=Taraxacum+officinale', 'https://www.google.es/search?tbm=isch&q=Eriophorum+vaginatum', 'https://www.google.es/search?tbm=isch&q=Pilosella+officinarum'], 'Wikipedia': ['https://en.wikipedia.org/wiki/Taraxacum_erythrospermum', 'https://en.wikipedia.org/wiki/Agoseris_grandiflora', 'https://en.wikipedia.org/wiki/Taraxacum_officinale', 'https://en.wikipedia.org/wiki/Eriophorum_vaginatum', 'https://en.wikipedia.org/wiki/Pilosella_officinarum']}}\n",
      "\n",
      "Text saved at: ./output/data/plants.txt\n",
      "Text saved at: ./output/data/plants.txt\n"
     ]
    }
   ],
   "source": [
    "if base64_file_path and text_output_path:\n",
    "    decode_base64_to_text(base64_file_path, text_output_path)\n",
    "else:\n",
    "    print(\"Error: The environment variables 'BASE64_FILE_PATH' and 'TEXT_OUTPUT_PATH' must be defined.\")"
   ]
  }
 ],
 "metadata": {
  "kernelspec": {
   "display_name": "Python 3 (ipykernel)",
   "language": "python",
   "name": "python3"
  },
  "language_info": {
   "codemirror_mode": {
    "name": "ipython",
    "version": 3
   },
   "file_extension": ".py",
   "mimetype": "text/x-python",
   "name": "python",
   "nbconvert_exporter": "python",
   "pygments_lexer": "ipython3",
   "version": "3.10.6"
  },
  "papermill": {
   "default_parameters": {},
   "duration": 1.294158,
   "end_time": "2024-03-09T19:37:19.850548",
   "environment_variables": {},
   "exception": null,
   "input_path": "/home/jovyan/tutorial/ai4-compose/elyra/examples/grayify+plants-classification/base64toText.ipynb",
   "output_path": "/home/jovyan/tutorial/ai4-compose/elyra/examples/grayify+plants-classification/base64toText.ipynb",
   "parameters": {},
   "start_time": "2024-03-09T19:37:18.556390",
   "version": "2.3.4"
  }
 },
 "nbformat": 4,
 "nbformat_minor": 5
}
