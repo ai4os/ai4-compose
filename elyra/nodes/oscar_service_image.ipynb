{
 "cells": [
  {
   "cell_type": "markdown",
   "id": "d4ed2927-488c-4d36-974a-3fcc9893659e",
   "metadata": {
    "papermill": {
     "duration": 0.0102,
     "end_time": "2024-03-09T19:36:47.462407",
     "exception": false,
     "start_time": "2024-03-09T19:36:47.452207",
     "status": "completed"
    },
    "tags": []
   },
   "source": [
    "# Required imports"
   ]
  },
  {
   "cell_type": "code",
   "execution_count": 1,
   "id": "2fdf839b-0473-4027-be46-d24a04572678",
   "metadata": {
    "execution": {
     "iopub.execute_input": "2024-03-09T19:36:47.497612Z",
     "iopub.status.busy": "2024-03-09T19:36:47.496972Z",
     "iopub.status.idle": "2024-03-09T19:36:47.549066Z",
     "shell.execute_reply": "2024-03-09T19:36:47.548370Z"
    },
    "papermill": {
     "duration": 0.077505,
     "end_time": "2024-03-09T19:36:47.549445",
     "exception": false,
     "start_time": "2024-03-09T19:36:47.471940",
     "status": "completed"
    },
    "tags": []
   },
   "outputs": [],
   "source": [
    "import os\n",
    "import json\n",
    "import sys\n",
    "import base64\n",
    "import requests\n",
    "from IPython.display import Image, display"
   ]
  },
  {
   "cell_type": "markdown",
   "id": "86b296cf-07b4-4754-879a-b91c0a763ff7",
   "metadata": {
    "papermill": {
     "duration": 0.009737,
     "end_time": "2024-03-09T19:36:47.569007",
     "exception": false,
     "start_time": "2024-03-09T19:36:47.559270",
     "status": "completed"
    },
    "tags": []
   },
   "source": [
    "# Install the necessary packages"
   ]
  },
  {
   "cell_type": "code",
   "execution_count": 2,
   "id": "85bc950d-62e1-44ad-9d5f-eab3efa7ac84",
   "metadata": {
    "execution": {
     "iopub.execute_input": "2024-03-09T19:36:47.594339Z",
     "iopub.status.busy": "2024-03-09T19:36:47.589225Z",
     "iopub.status.idle": "2024-03-09T19:36:55.536055Z",
     "shell.execute_reply": "2024-03-09T19:36:55.535506Z"
    },
    "papermill": {
     "duration": 7.95871,
     "end_time": "2024-03-09T19:36:55.536370",
     "exception": false,
     "start_time": "2024-03-09T19:36:47.577660",
     "status": "completed"
    },
    "tags": []
   },
   "outputs": [
    {
     "name": "stdout",
     "output_type": "stream",
     "text": [
      "Requirement already satisfied: oscar-python in /opt/conda/lib/python3.10/site-packages (1.2.1)\r\n",
      "Requirement already satisfied: requests in /opt/conda/lib/python3.10/site-packages (from oscar-python) (2.28.1)\r\n",
      "Requirement already satisfied: boto3 in /opt/conda/lib/python3.10/site-packages (from oscar-python) (1.27.1)\r\n",
      "Requirement already satisfied: setuptools>=40.8.0 in /opt/conda/lib/python3.10/site-packages (from oscar-python) (65.5.1)\r\n",
      "Requirement already satisfied: webdavclient3==3.14.6 in /opt/conda/lib/python3.10/site-packages (from oscar-python) (3.14.6)\r\n",
      "Requirement already satisfied: pyyaml in /opt/conda/lib/python3.10/site-packages (from oscar-python) (5.4.1)\r\n",
      "Requirement already satisfied: aiohttp in /opt/conda/lib/python3.10/site-packages (from oscar-python) (3.8.4)\r\n",
      "Requirement already satisfied: lxml in /opt/conda/lib/python3.10/site-packages (from webdavclient3==3.14.6->oscar-python) (4.9.2)\r\n",
      "Requirement already satisfied: python-dateutil in /opt/conda/lib/python3.10/site-packages (from webdavclient3==3.14.6->oscar-python) (2.8.2)\r\n"
     ]
    },
    {
     "name": "stdout",
     "output_type": "stream",
     "text": [
      "Requirement already satisfied: frozenlist>=1.1.1 in /opt/conda/lib/python3.10/site-packages (from aiohttp->oscar-python) (1.3.3)\r\n",
      "Requirement already satisfied: charset-normalizer<4.0,>=2.0 in /opt/conda/lib/python3.10/site-packages (from aiohttp->oscar-python) (2.1.1)\r\n",
      "Requirement already satisfied: async-timeout<5.0,>=4.0.0a3 in /opt/conda/lib/python3.10/site-packages (from aiohttp->oscar-python) (4.0.2)\r\n",
      "Requirement already satisfied: aiosignal>=1.1.2 in /opt/conda/lib/python3.10/site-packages (from aiohttp->oscar-python) (1.3.1)\r\n",
      "Requirement already satisfied: multidict<7.0,>=4.5 in /opt/conda/lib/python3.10/site-packages (from aiohttp->oscar-python) (6.0.4)\r\n",
      "Requirement already satisfied: attrs>=17.3.0 in /opt/conda/lib/python3.10/site-packages (from aiohttp->oscar-python) (22.1.0)\r\n",
      "Requirement already satisfied: yarl<2.0,>=1.0 in /opt/conda/lib/python3.10/site-packages (from aiohttp->oscar-python) (1.9.2)\r\n",
      "Requirement already satisfied: botocore<1.31.0,>=1.30.1 in /opt/conda/lib/python3.10/site-packages (from boto3->oscar-python) (1.30.1)\r\n",
      "Requirement already satisfied: s3transfer<0.7.0,>=0.6.0 in /opt/conda/lib/python3.10/site-packages (from boto3->oscar-python) (0.6.1)\r\n",
      "Requirement already satisfied: jmespath<2.0.0,>=0.7.1 in /opt/conda/lib/python3.10/site-packages (from boto3->oscar-python) (1.0.1)\r\n",
      "Requirement already satisfied: idna<4,>=2.5 in /opt/conda/lib/python3.10/site-packages (from requests->oscar-python) (3.4)\r\n",
      "Requirement already satisfied: certifi>=2017.4.17 in /opt/conda/lib/python3.10/site-packages (from requests->oscar-python) (2023.5.7)\r\n",
      "Requirement already satisfied: urllib3<1.27,>=1.21.1 in /opt/conda/lib/python3.10/site-packages (from requests->oscar-python) (1.26.11)\r\n"
     ]
    },
    {
     "name": "stdout",
     "output_type": "stream",
     "text": [
      "Requirement already satisfied: six>=1.5 in /opt/conda/lib/python3.10/site-packages (from python-dateutil->webdavclient3==3.14.6->oscar-python) (1.16.0)\r\n"
     ]
    },
    {
     "name": "stdout",
     "output_type": "stream",
     "text": [
      "Requirement already satisfied: liboidcagent in /opt/conda/lib/python3.10/site-packages (0.6.0)\r\n",
      "Requirement already satisfied: PyNaCl>=1.2.0 in /opt/conda/lib/python3.10/site-packages (from liboidcagent) (1.5.0)\r\n",
      "Requirement already satisfied: cffi>=1.4.1 in /opt/conda/lib/python3.10/site-packages (from PyNaCl>=1.2.0->liboidcagent) (1.15.1)\r\n",
      "Requirement already satisfied: pycparser in /opt/conda/lib/python3.10/site-packages (from cffi>=1.4.1->PyNaCl>=1.2.0->liboidcagent) (2.21)\r\n"
     ]
    }
   ],
   "source": [
    "!{sys.executable} -m pip install oscar-python\n",
    "!pip install liboidcagent\n",
    "from oscar_python.client import Client"
   ]
  },
  {
   "cell_type": "markdown",
   "id": "73a0d043-891f-43fc-b789-38f8acca0060",
   "metadata": {
    "papermill": {
     "duration": 0.010329,
     "end_time": "2024-03-09T19:36:55.558699",
     "exception": false,
     "start_time": "2024-03-09T19:36:55.548370",
     "status": "completed"
    },
    "tags": []
   },
   "source": [
    "# Function to decode base64 content"
   ]
  },
  {
   "cell_type": "code",
   "execution_count": 3,
   "id": "d57766fb-36ff-4de1-be20-bafe689f6214",
   "metadata": {
    "execution": {
     "iopub.execute_input": "2024-03-09T19:36:55.586294Z",
     "iopub.status.busy": "2024-03-09T19:36:55.585766Z",
     "iopub.status.idle": "2024-03-09T19:36:55.591504Z",
     "shell.execute_reply": "2024-03-09T19:36:55.591168Z"
    },
    "papermill": {
     "duration": 0.022645,
     "end_time": "2024-03-09T19:36:55.591761",
     "exception": false,
     "start_time": "2024-03-09T19:36:55.569116",
     "status": "completed"
    },
    "tags": []
   },
   "outputs": [],
   "source": [
    "def decode_base64(data):\n",
    "    return base64.b64decode(data).decode('utf-8')"
   ]
  },
  {
   "cell_type": "markdown",
   "id": "1c9dba9c-151f-4a48-8e48-ddf7851d1fc3",
   "metadata": {
    "papermill": {
     "duration": 0.008639,
     "end_time": "2024-03-09T19:36:55.610307",
     "exception": false,
     "start_time": "2024-03-09T19:36:55.601668",
     "status": "completed"
    },
    "tags": []
   },
   "source": [
    "# Read environment variables"
   ]
  },
  {
   "cell_type": "code",
   "execution_count": 4,
   "id": "d17b197b-41d0-4dfe-b865-ef2ffd3c50dd",
   "metadata": {
    "execution": {
     "iopub.execute_input": "2024-03-09T19:36:55.632968Z",
     "iopub.status.busy": "2024-03-09T19:36:55.632463Z",
     "iopub.status.idle": "2024-03-09T19:36:55.637611Z",
     "shell.execute_reply": "2024-03-09T19:36:55.637158Z"
    },
    "papermill": {
     "duration": 0.020422,
     "end_time": "2024-03-09T19:36:55.637823",
     "exception": false,
     "start_time": "2024-03-09T19:36:55.617401",
     "status": "completed"
    },
    "tags": []
   },
   "outputs": [],
   "source": [
    "token_file_path = os.getenv(\"TOKEN_FILE_PATH\")\n",
    "image_file_path = os.getenv(\"IMAGE_FILE_PATH\")\n",
    "output_dir = os.getenv(\"OUTPUT_DIR\", \"./output/images\")\n",
    "service_name = os.getenv(\"SERVICE_NAME\", \"grayify\")"
   ]
  },
  {
   "cell_type": "markdown",
   "id": "e11667f1-d3d1-47c4-84ff-fa1efa408452",
   "metadata": {
    "papermill": {
     "duration": 0.008128,
     "end_time": "2024-03-09T19:36:55.653272",
     "exception": false,
     "start_time": "2024-03-09T19:36:55.645144",
     "status": "completed"
    },
    "tags": []
   },
   "source": [
    "# Read and decode the access token"
   ]
  },
  {
   "cell_type": "code",
   "execution_count": 5,
   "id": "8a16e6f5-ed39-4403-be93-db6073075b85",
   "metadata": {
    "execution": {
     "iopub.execute_input": "2024-03-09T19:36:55.676158Z",
     "iopub.status.busy": "2024-03-09T19:36:55.675650Z",
     "iopub.status.idle": "2024-03-09T19:36:55.681841Z",
     "shell.execute_reply": "2024-03-09T19:36:55.682144Z"
    },
    "papermill": {
     "duration": 0.021021,
     "end_time": "2024-03-09T19:36:55.682381",
     "exception": false,
     "start_time": "2024-03-09T19:36:55.661360",
     "status": "completed"
    },
    "tags": []
   },
   "outputs": [],
   "source": [
    "with open(token_file_path, 'r') as token_file:\n",
    "    encoded_token = token_file.read()\n",
    "access_token = decode_base64(encoded_token)"
   ]
  },
  {
   "cell_type": "markdown",
   "id": "0a3cfe8f-1455-4454-9ce6-20e266be5460",
   "metadata": {
    "papermill": {
     "duration": 0.00913,
     "end_time": "2024-03-09T19:36:55.701309",
     "exception": false,
     "start_time": "2024-03-09T19:36:55.692179",
     "status": "completed"
    },
    "tags": []
   },
   "source": [
    "# OSCAR client configuration"
   ]
  },
  {
   "cell_type": "code",
   "execution_count": 6,
   "id": "565e3a31-3d70-4016-9a2b-3c6b6c2051fa",
   "metadata": {
    "execution": {
     "iopub.execute_input": "2024-03-09T19:36:55.724858Z",
     "iopub.status.busy": "2024-03-09T19:36:55.724314Z",
     "iopub.status.idle": "2024-03-09T19:36:55.731066Z",
     "shell.execute_reply": "2024-03-09T19:36:55.730520Z"
    },
    "papermill": {
     "duration": 0.022434,
     "end_time": "2024-03-09T19:36:55.731434",
     "exception": false,
     "start_time": "2024-03-09T19:36:55.709000",
     "status": "completed"
    },
    "tags": []
   },
   "outputs": [],
   "source": [
    "options_oidc = {\n",
    "    'cluster_id': 'oscar-egi-cloud',\n",
    "    'endpoint': 'https://inference.cloud.ai4eosc.eu',\n",
    "    'oidc_token': access_token,\n",
    "    'ssl': 'True'\n",
    "}\n",
    "oscar_client = Client(options=options_oidc)"
   ]
  },
  {
   "cell_type": "markdown",
   "id": "071a019b-b6e3-46bb-8865-e665a664ad78",
   "metadata": {
    "papermill": {
     "duration": 0.010155,
     "end_time": "2024-03-09T19:36:55.757384",
     "exception": false,
     "start_time": "2024-03-09T19:36:55.747229",
     "status": "completed"
    },
    "tags": []
   },
   "source": [
    "# Check if the service exists"
   ]
  },
  {
   "cell_type": "code",
   "execution_count": 7,
   "id": "4eb1916a-777d-47d9-9fb4-354e99a8021e",
   "metadata": {
    "execution": {
     "iopub.execute_input": "2024-03-09T19:36:55.789330Z",
     "iopub.status.busy": "2024-03-09T19:36:55.788539Z",
     "iopub.status.idle": "2024-03-09T19:36:56.083407Z",
     "shell.execute_reply": "2024-03-09T19:36:56.083817Z"
    },
    "papermill": {
     "duration": 0.317138,
     "end_time": "2024-03-09T19:36:56.084178",
     "exception": false,
     "start_time": "2024-03-09T19:36:55.767040",
     "status": "completed"
    },
    "tags": []
   },
   "outputs": [
    {
     "name": "stdout",
     "output_type": "stream",
     "text": [
      "Service 'plant-classification' already exists.\n"
     ]
    }
   ],
   "source": [
    "try:\n",
    "    service = oscar_client.get_service(service_name)\n",
    "    print(f\"Service '{service_name}' already exists.\")\n",
    "except Exception as e:\n",
    "    print(f\"Service '{service_name}' does not exist, creating...\")\n",
    "    try:\n",
    "        oscar_client.create_service(f\"{service_name}.yaml\")\n",
    "        print(\"Service created successfully.\")\n",
    "    except Exception as ex:\n",
    "        print(f\"Error creating service: {ex}\")"
   ]
  },
  {
   "cell_type": "markdown",
   "id": "21357425-abb7-4c61-8021-d9e84b05f234",
   "metadata": {
    "papermill": {
     "duration": 0.010405,
     "end_time": "2024-03-09T19:36:56.105500",
     "exception": false,
     "start_time": "2024-03-09T19:36:56.095095",
     "status": "completed"
    },
    "tags": []
   },
   "source": [
    "# Run the service"
   ]
  },
  {
   "cell_type": "code",
   "execution_count": 8,
   "id": "ed18fa7a-188f-4738-a212-fad93b260edf",
   "metadata": {
    "execution": {
     "iopub.execute_input": "2024-03-09T19:36:56.137863Z",
     "iopub.status.busy": "2024-03-09T19:36:56.137172Z",
     "iopub.status.idle": "2024-03-09T19:37:18.130250Z",
     "shell.execute_reply": "2024-03-09T19:37:18.129621Z"
    },
    "papermill": {
     "duration": 22.014479,
     "end_time": "2024-03-09T19:37:18.130666",
     "exception": false,
     "start_time": "2024-03-09T19:36:56.116187",
     "status": "completed"
    },
    "tags": []
   },
   "outputs": [],
   "source": [
    "response = oscar_client.run_service(service_name, input=image_file_path, output=output_dir)"
   ]
  },
  {
   "cell_type": "markdown",
   "id": "b03ab8bd-f91d-4602-bb08-9bc85f797d79",
   "metadata": {
    "papermill": {
     "duration": 0.010778,
     "end_time": "2024-03-09T19:37:18.153341",
     "exception": false,
     "start_time": "2024-03-09T19:37:18.142563",
     "status": "completed"
    },
    "tags": []
   },
   "source": [
    "# Process the response"
   ]
  },
  {
   "cell_type": "code",
   "execution_count": 9,
   "id": "a922baed-b654-468a-8177-2bc81b40fbd0",
   "metadata": {
    "execution": {
     "iopub.execute_input": "2024-03-09T19:37:18.181142Z",
     "iopub.status.busy": "2024-03-09T19:37:18.180447Z",
     "iopub.status.idle": "2024-03-09T19:37:18.189730Z",
     "shell.execute_reply": "2024-03-09T19:37:18.188823Z"
    },
    "papermill": {
     "duration": 0.027319,
     "end_time": "2024-03-09T19:37:18.190109",
     "exception": false,
     "start_time": "2024-03-09T19:37:18.162790",
     "status": "completed"
    },
    "tags": []
   },
   "outputs": [
    {
     "name": "stdout",
     "output_type": "stream",
     "text": [
      "eydsYWJlbHMnOiBbJ1RhcmF4YWN1bSBlcnl0aHJvc3Blcm11bScsICdBZ29zZXJpcyBncmFuZGlmbG9yYScsICdUYXJheGFjdW0gb2ZmaWNpbmFsZScsICdFcmlvcGhvcnVtIHZhZ2luYXR1bScsICdQaWxvc2VsbGEgb2ZmaWNpbmFydW0nXSwgJ3Byb2JhYmlsaXRpZXMnOiBbMC4zMzA0MDY0MjczODM0MjI4NSwgMC4xOTU1NjAzNjU5MTUyOTg0NiwgMC4xNTIzOTI0MDIyOTEyOTc5LCAwLjA2MTg0Njk3MTUxMTg0MDgyLCAwLjA0Nzc4NjgyNDQwNTE5MzMzXSwgJ2xhYmVsc19pbmZvJzogWycnLCAnJywgJycsICcnLCAnJ10sICdsaW5rcyc6IHsnR29vZ2xlIEltYWdlcyc6IFsnaHR0cHM6Ly93d3cuZ29vZ2xlLmVzL3NlYXJjaD90Ym09aXNjaCZxPVRhcmF4YWN1bStlcnl0aHJvc3Blcm11bScsICdodHRwczovL3d3dy5nb29nbGUuZXMvc2VhcmNoP3RibT1pc2NoJnE9QWdvc2VyaXMrZ3JhbmRpZmxvcmEnLCAnaHR0cHM6Ly93d3cuZ29vZ2xlLmVzL3NlYXJjaD90Ym09aXNjaCZxPVRhcmF4YWN1bStvZmZpY2luYWxlJywgJ2h0dHBzOi8vd3d3Lmdvb2dsZS5lcy9zZWFyY2g/dGJtPWlzY2gmcT1FcmlvcGhvcnVtK3ZhZ2luYXR1bScsICdodHRwczovL3d3dy5nb29nbGUuZXMvc2VhcmNoP3RibT1pc2NoJnE9UGlsb3NlbGxhK29mZmljaW5hcnVtJ10sICdXaWtpcGVkaWEnOiBbJ2h0dHBzOi8vZW4ud2lraXBlZGlhLm9yZy93aWtpL1RhcmF4YWN1bV9lcnl0aHJvc3Blcm11bScsICdodHRwczovL2VuLndpa2lwZWRpYS5vcmcvd2lraS9BZ29zZXJpc19ncmFuZGlmbG9yYScsICdodHRwczovL2VuLndpa2lwZWRpYS5vcmcvd2lraS9UYXJheGFjdW1fb2ZmaWNpbmFsZScsICdodHRwczovL2VuLndpa2lwZWRpYS5vcmcvd2lraS9FcmlvcGhvcnVtX3ZhZ2luYXR1bScsICdodHRwczovL2VuLndpa2lwZWRpYS5vcmcvd2lraS9QaWxvc2VsbGFfb2ZmaWNpbmFydW0nXX19Cg==\n",
      "\n"
     ]
    }
   ],
   "source": [
    "if response.status_code == 200:\n",
    "    # Process grayify service response\n",
    "    data = response.text\n",
    "    # No need to create a new directory, as output_file already includes the correct path\n",
    "    # os.makedirs('./output/b64', exist_ok=True)  # Esta línea ya no es necesaria\n",
    "    # Use the output_file variable directly\n",
    "    print(data)\n",
    "    with open(output_dir, 'w') as f:\n",
    "        f.write(data)\n",
    "else:\n",
    "    print(f\"Error in the execution of 'grayify' service: {response.status_code} {response.text}\")"
   ]
  }
 ],
 "metadata": {
  "kernelspec": {
   "display_name": "Python 3 (ipykernel)",
   "language": "python",
   "name": "python3"
  },
  "language_info": {
   "codemirror_mode": {
    "name": "ipython",
    "version": 3
   },
   "file_extension": ".py",
   "mimetype": "text/x-python",
   "name": "python",
   "nbconvert_exporter": "python",
   "pygments_lexer": "ipython3",
   "version": "3.10.6"
  },
  "papermill": {
   "default_parameters": {},
   "duration": 32.19162,
   "end_time": "2024-03-09T19:37:18.526010",
   "environment_variables": {},
   "exception": null,
   "input_path": "/home/jovyan/tutorial/ai4-compose/elyra/examples/grayify+plants-classification/oscar_service_image-Copy1.ipynb",
   "output_path": "/home/jovyan/tutorial/ai4-compose/elyra/examples/grayify+plants-classification/oscar_service_image-Copy1.ipynb",
   "parameters": {},
   "start_time": "2024-03-09T19:36:46.334390",
   "version": "2.3.4"
  }
 },
 "nbformat": 4,
 "nbformat_minor": 5
}
