{
 "cells": [
  {
   "cell_type": "code",
   "execution_count": null,
   "id": "e4957980-fd2a-4ea9-8f4b-98e873f6bcb1",
   "metadata": {},
   "outputs": [],
   "source": [
    "#libraries\n",
    "import requests\n",
    "from io import BytesIO\n",
    "import time\n",
    "import os\n",
    "import zipfile\n",
    "import pandas as pd\n",
    "import matplotlib.pyplot as plt\n",
    "from PIL import Image\n",
    "import json\n",
    "import pickle\n",
    "from minio import Minio"
   ]
  },
  {
   "cell_type": "code",
   "execution_count": null,
   "id": "879d6450-de50-4cf0-8aba-bf69ac975c79",
   "metadata": {},
   "outputs": [],
   "source": [
    "def get_latest_file_with_extension(extension):\n",
    "    objects = client.list_objects(bucket_name, prefix=prefix, recursive=True)\n",
    "    files = [obj for obj in objects if obj.object_name.endswith(extension)]\n",
    "    if not files:\n",
    "        return None\n",
    "    files.sort(key=lambda x: x.last_modified, reverse=True)\n",
    "    return files[0]\n",
    "def show_image(obj_key,output):\n",
    "    response = client.get_object(bucket_name, obj_key)\n",
    "    image_data = response.read()\n",
    "\n",
    "    # Save image\n",
    "    os.makedirs(output, exist_ok=True)\n",
    "    local_path = os.path.join(\"output\", os.path.basename(obj_key))\n",
    "    with open(local_path, \"wb\") as f:\n",
    "        f.write(image_data)\n",
    "    print(f\"Image saved in: {local_path}\")\n",
    "\n",
    "    # Show image\n",
    "    image = Image.open(BytesIO(image_data))\n",
    "    plt.figure()\n",
    "    plt.imshow(image)\n",
    "    plt.axis('off')\n",
    "    plt.title(os.path.basename(obj_key))\n",
    "    plt.show()\n",
    "def show_json(obj_key,output):\n",
    "    response = client.get_object(bucket_name, obj_key)\n",
    "    json_bytes = response.read()\n",
    "    #Save json\n",
    "    os.makedirs(output, exist_ok=True)\n",
    "    local_path = os.path.join(\"output\", os.path.basename(obj_key))\n",
    "    with open(local_path, \"wb\") as f:\n",
    "        f.write(json_bytes)\n",
    "    print(f\"JSON file saved in: {local_path}\")\n",
    "    # Show json file\n",
    "    json_data = json.loads(json_bytes.decode(\"utf-8\"))\n",
    "    print(f\"Content of {obj_key}:\\n\")\n",
    "    print(json.dumps(json_data, indent=4))"
   ]
  },
  {
   "cell_type": "code",
   "execution_count": null,
   "id": "acd196a5-64ab-4a5c-8e0e-5dddab3a3788",
   "metadata": {},
   "outputs": [],
   "source": [
    "minio_credencials= os.getenv(\"MINIO_CREDENCIALS\",\"minio_fish.pkl\")\n",
    "\n",
    "if not minio_credencials.endswith(\".pkl\"):\n",
    "    minio_credencials += \".pkl\"\n",
    "# Load configuration from .pkl file\n",
    "with open(minio_credencials, \"rb\") as f:\n",
    "    config = pickle.load(f)\n",
    "# Create MinIO client\n",
    "client = Minio(\n",
    "    endpoint=config[\"endpoint\"],\n",
    "    access_key=config[\"access_key\"],\n",
    "    secret_key=config[\"secret_key\"],\n",
    "    secure= True\n",
    ")\n",
    "print(\"MinIO client loaded from configuration.\")"
   ]
  },
  {
   "cell_type": "code",
   "execution_count": null,
   "id": "a690141c-b87e-4988-9023-65a6c1ce2533",
   "metadata": {},
   "outputs": [],
   "source": [
    "#Necessary environment variables\n",
    "\n",
    "bucket_name= os.getenv(\"BUCKET_NAME\",\"\")\n",
    "out= os.getenv(\"PREFIX\",\"\")\n",
    "prefix=out+\"/\"\n",
    "output= os.getenv(\"OUTPUT\",\"output\")\n",
    "download_dir = \"./temporal\"  # Local folder where to save the file\n"
   ]
  },
  {
   "cell_type": "code",
   "execution_count": null,
   "id": "b1f22561-a50d-46bf-b71b-04626db17e95",
   "metadata": {},
   "outputs": [],
   "source": [
    "\n",
    "print(f\"Waiting for news .zip  and .jpg file in {bucket_name}/{prefix}...\")\n",
    "\n",
    "last_seen_json = get_latest_file_with_extension('.json')\n",
    "last_seen_jpg = get_latest_file_with_extension('.jpg')\n",
    "last_json_time = last_seen_json.last_modified if last_seen_json else None\n",
    "last_jpg_time = last_seen_jpg.last_modified if last_seen_jpg else None\n",
    "while True:\n",
    "    current_json = get_latest_file_with_extension('.json')\n",
    "    current_jpg = get_latest_file_with_extension('.jpg')\n",
    "    \n",
    "    new_json = (not last_seen_json or current_json.last_modified > last_json_time)\n",
    "    new_jpg = (not last_seen_jpg or current_jpg.last_modified > last_jpg_time)\n",
    "\n",
    "    if current_json and current_jpg and new_json and new_jpg:\n",
    "        print(f\"🆕 Detected file: {current_json['Key']} y {current_jpg['Key']}\")\n",
    "        # Download and show image\n",
    "        show_json(current_jpg['Key'],output)\n",
    "        # Download and show JSON\n",
    "        show_jsons3(current_json['Key'],output)\n",
    "        break\n",
    "    time.sleep(5)"
   ]
  },
  {
   "cell_type": "raw",
   "id": "995bae25-3625-4a23-8ab2-27066fc7eb34",
   "metadata": {},
   "source": []
  }
 ],
 "metadata": {
  "kernelspec": {
   "display_name": "Python 3 (ipykernel)",
   "language": "python",
   "name": "python3"
  },
  "language_info": {
   "codemirror_mode": {
    "name": "ipython",
    "version": 3
   },
   "file_extension": ".py",
   "mimetype": "text/x-python",
   "name": "python",
   "nbconvert_exporter": "python",
   "pygments_lexer": "ipython3",
   "version": "3.12.3"
  }
 },
 "nbformat": 4,
 "nbformat_minor": 5
}
